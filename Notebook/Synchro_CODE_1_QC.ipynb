{
 "cells": [
  {
   "cell_type": "markdown",
   "id": "06eeca6d-a5ee-4f88-9e96-81a5754823ad",
   "metadata": {},
   "source": [
    "# <font color = '#FF003D'> ***Synchronous colorectal cancer-liver metastasis project***"
   ]
  },
  {
   "cell_type": "markdown",
   "id": "f3f77eb2-acc5-46c3-8a95-ae39e370db9b",
   "metadata": {},
   "source": [
    "**_______________________________________________________________________________________________________________________________________________________________________________________________________________**"
   ]
  },
  {
   "cell_type": "markdown",
   "id": "cb8005a6-8f04-40fc-ba93-70657ae9f5fd",
   "metadata": {},
   "source": [
    "# <font color = '#FF003D'> ***==== CODE 1: Quality control filtering ====***"
   ]
  },
  {
   "cell_type": "markdown",
   "id": "e6d8a54d-08a6-475b-b057-6912be42cafa",
   "metadata": {},
   "source": [
    "# Python library"
   ]
  },
  {
   "cell_type": "code",
   "execution_count": null,
   "id": "b14c4f14-13de-4e0b-890c-2bc37cb0f0ca",
   "metadata": {
    "tags": []
   },
   "outputs": [],
   "source": [
    "import os\n",
    "import math\n",
    "import warnings\n",
    "import datetime\n",
    "\n",
    "warnings.filterwarnings('ignore')"
   ]
  },
  {
   "cell_type": "code",
   "execution_count": null,
   "id": "7c7a3273-0892-4526-bd92-67e6efbe85c4",
   "metadata": {
    "tags": []
   },
   "outputs": [],
   "source": [
    "import numpy as np\n",
    "import scipy\n",
    "import pandas as pd\n",
    "import scanpy as sc \n",
    "import scanpy.external as sce\n",
    "from cycler import cycler\n",
    "import openpyxl\n",
    "import scvi\n",
    "\n",
    "import seaborn as sns\n",
    "import matplotlib.pyplot as plt\n",
    "import matplotlib\n",
    "\n",
    "import rpy2"
   ]
  },
  {
   "cell_type": "code",
   "execution_count": null,
   "id": "1e830dc0-d52d-4de8-8fc0-1db54d759d5f",
   "metadata": {
    "tags": []
   },
   "outputs": [],
   "source": [
    "from ipywidgets import IntProgress\n",
    "from IPython.display import display\n",
    "import time\n",
    "from tqdm import tqdm_notebook\n",
    "from sklearn.preprocessing import MinMaxScaler"
   ]
  },
  {
   "cell_type": "code",
   "execution_count": null,
   "id": "d66b92ef-0318-4ed5-a997-2c7ea17c6c26",
   "metadata": {
    "tags": []
   },
   "outputs": [],
   "source": [
    "result_folder = '.../Analysis/Synchro/'\n",
    "data_folder = '.../Analysis/Synchro/Data/'\n",
    "\n",
    "sc.settings.verbosity = 4\n",
    "warnings.filterwarnings('ignore')\n",
    "sc.set_figure_params(dpi = 100, dpi_save = 1000, facecolor = 'white')"
   ]
  },
  {
   "cell_type": "markdown",
   "id": "1f23aaaa-1d37-4148-9664-23f41d8c9496",
   "metadata": {},
   "source": [
    "# R library"
   ]
  },
  {
   "cell_type": "code",
   "execution_count": null,
   "id": "c42ebb1f-f1d3-4e47-852a-f8388fdf7870",
   "metadata": {
    "tags": []
   },
   "outputs": [],
   "source": [
    "! python -m rpy2.situation"
   ]
  },
  {
   "cell_type": "code",
   "execution_count": null,
   "id": "e572effb-a4c9-478a-b833-1a23c159b8f7",
   "metadata": {
    "tags": []
   },
   "outputs": [],
   "source": [
    "%load_ext rpy2.ipython"
   ]
  },
  {
   "cell_type": "code",
   "execution_count": null,
   "id": "e2fa5232-98d8-44e7-bc6e-01ad8c91a085",
   "metadata": {
    "tags": []
   },
   "outputs": [],
   "source": [
    "%%R \n",
    "library(Seurat)\n",
    "library(SeuratDisk)\n",
    "library(SeuratData)\n",
    "library(SeuratWrappers)\n",
    "library(SeuratObject)\n",
    "\n",
    "library(openxlsx)\n",
    "library(ggplot2)\n",
    "library(ggraph)\n",
    "library(ggrepel)\n",
    "\n",
    "library(dplyr)\n",
    "library(reticulate)\n",
    "library(patchwork)\n",
    "\n",
    "library(EnhancedVolcano)"
   ]
  },
  {
   "cell_type": "markdown",
   "id": "77da18d0-89bb-46d1-b45f-6d8d0c009deb",
   "metadata": {
    "tags": []
   },
   "source": [
    "# 1. **Create the anndata**"
   ]
  },
  {
   "cell_type": "code",
   "execution_count": null,
   "id": "bdaaecc0-f4e3-4d03-8a56-e7c57a02ecfd",
   "metadata": {},
   "outputs": [],
   "source": [
    "samples = {\n",
    "    'GEX-29': {'path': '.../GEX-29/outs/filtered_feature_bc_matrix.h5', 'tissue_origin': 'Liver', 'patient_ID': 'CRLM-1', 'run': 'Run 1', 'instrument': 'Illumina NovaSeq 6000'},\n",
    "    'GEX-30': {'path': '.../GEX-30/outs/filtered_feature_bc_matrix.h5', 'tissue_origin': 'Colon', 'patient_ID': 'CRLM-1', 'run': 'Run 1', 'instrument': 'Illumina NovaSeq 6000'},\n",
    "    'GEX-36': {'path': '.../GEX-36/outs/filtered_feature_bc_matrix.h5', 'tissue_origin': 'Blood', 'patient_ID': 'CRLM-1', 'run': 'Run 1', 'instrument': 'Illumina NovaSeq 6000'},\n",
    "    \n",
    "    'GEX-31': {'path': '.../GEX-31/outs/filtered_feature_bc_matrix.h5', 'tissue_origin': 'Liver', 'patient_ID': 'CRLM-2', 'run': 'Run 1', 'instrument': 'Illumina NovaSeq 6000'},\n",
    "    'GEX-32': {'path': '.../GEX-32/outs/filtered_feature_bc_matrix.h5', 'tissue_origin': 'Colon', 'patient_ID': 'CRLM-2', 'run': 'Run 2', 'instrument': 'Illumina NovaSeq 6000'},\n",
    "    'GEX-35': {'path': '.../GEX-35/outs/filtered_feature_bc_matrix.h5', 'tissue_origin': 'Blood', 'patient_ID': 'CRLM-2', 'run': 'Run 2', 'instrument': 'Illumina NovaSeq 6000'},\n",
    "    \n",
    "    'GEX-33': {'path': '.../GEX-33/outs/filtered_feature_bc_matrix.h5', 'tissue_origin': 'Colon', 'patient_ID': 'CRLM-3', 'run': 'Run 2', 'instrument': 'Illumina NovaSeq 6000'},\n",
    "    'GEX-34': {'path': '.../GEX-34/outs/filtered_feature_bc_matrix.h5', 'tissue_origin': 'Liver', 'patient_ID': 'CRLM-3', 'run': 'Run 2', 'instrument': 'Illumina NovaSeq 6000'}\n",
    "        }\n",
    "\n",
    "patient_info = {\n",
    "    'CRLM-1': {'age': '39', 'sex': 'Female'},\n",
    "    'CRLM-2': {'age': '74', 'sex': 'Male'},\n",
    "    'CRLM-3': {'age': '66', 'sex': 'Female'}\n",
    "        }"
   ]
  },
  {
   "cell_type": "code",
   "execution_count": null,
   "id": "a71705d1-d2e6-4cf4-9019-ae842459e899",
   "metadata": {},
   "outputs": [],
   "source": [
    "adata_list = []\n",
    "for batch_id, meta in samples.items():\n",
    "    adata = sc.read_10x_h5(meta['path'], gex_only=False)\n",
    "    adata.var_names_make_unique()\n",
    "    adata.obs['batch_id'] = batch_id\n",
    "    adata.obs['tissue_origin'] = meta['tissue_origin']\n",
    "    adata.obs['patient_ID'] = meta['patient_ID']\n",
    "    adata.obs['run'] = meta['run']\n",
    "    adata.obs['age'] = patient_info[meta['patient']]['age']\n",
    "    adata.obs['sex'] = patient_info[meta['patient']]['sex']\n",
    "\n",
    "    print(f\"Initial count matrix for sample {batch_id} has {adata.shape[0]} cells and {adata.shape[1]} genes\")\n",
    "    \n",
    "    adata_list.append(adata)"
   ]
  },
  {
   "cell_type": "code",
   "execution_count": null,
   "id": "6c5d0a0d-e6cb-4b2c-976c-904f4f1e5b68",
   "metadata": {},
   "outputs": [],
   "source": [
    "adata = adata_list[0].concatenate(\n",
    "    adata_list[1:], \n",
    "    join = 'outer',\n",
    "    batch_key = 'batch_id',\n",
    "    batch_categories = list(samples.keys()),\n",
    "    uns_merge = None,\n",
    "    index_unique = '-',\n",
    "    fill_value = 0.0)"
   ]
  },
  {
   "cell_type": "markdown",
   "id": "f4339010-0cb0-405d-94c2-1a12409bcea0",
   "metadata": {},
   "source": [
    "## 1.1. Save the object before QC filters"
   ]
  },
  {
   "cell_type": "code",
   "execution_count": null,
   "id": "a1a7e8e0-7fd1-4dee-b005-b59ac4d8b263",
   "metadata": {},
   "outputs": [],
   "source": [
    "outfilename = os.path.join(data_folder, \"Synchro_beforeQC.h5ad\")\n",
    "print(\"Saving h5ad data to file {}\".format(outfilename))\n",
    "adata.write(outfilename)\n",
    "print(\"Done!\")"
   ]
  },
  {
   "cell_type": "markdown",
   "id": "d16405e2-8c2d-4792-b90c-2a2e5804b5d3",
   "metadata": {
    "tags": []
   },
   "source": [
    "# 2. **Quality control**"
   ]
  },
  {
   "cell_type": "code",
   "execution_count": null,
   "id": "d57df10b-2386-4681-b0c8-d138b927477b",
   "metadata": {},
   "outputs": [],
   "source": [
    "sc.pl.highest_expr_genes(adata[:, adata.var[\"feature_types\"] == \"Gene Expression\"], n_top = 20)"
   ]
  },
  {
   "cell_type": "code",
   "execution_count": null,
   "id": "885470b2-010b-40a2-96b5-ded5851e6c27",
   "metadata": {
    "tags": []
   },
   "outputs": [],
   "source": [
    "adata.var['mt'] = adata.var_names.str.startswith('MT-')              # mitochondrial genes\n",
    "adata.var['ribo'] = adata.var_names.str.startswith((\"RPS\",\"RPL\"))      # ribosomal genes\n",
    "adata.var['hb'] = adata.var_names.str.contains((\"^HB[^(P)]\"))        # hemoglobin genes\n",
    "sc.pp.calculate_qc_metrics(adata, qc_vars = ['mt','ribo','hb'], percent_top = None, log1p = False, inplace = True)"
   ]
  },
  {
   "cell_type": "markdown",
   "id": "0976aeef-ed98-488b-8407-4e702555f0b2",
   "metadata": {
    "jp-MarkdownHeadingCollapsed": true
   },
   "source": [
    "## 2.1. GEX-29"
   ]
  },
  {
   "cell_type": "code",
   "execution_count": null,
   "id": "8b32e33e-d176-4ec7-8aaf-ac0e0358bd95",
   "metadata": {},
   "outputs": [],
   "source": [
    "GEX29 = adata[adata.obs['batch_id'].isin(['GEX-29'])].copy()"
   ]
  },
  {
   "cell_type": "code",
   "execution_count": null,
   "id": "acca6ce3-e83c-403d-a400-03bcbfcab419",
   "metadata": {},
   "outputs": [],
   "source": [
    "RIBO_PERCENTAGE_GEX29 = 0.05\n",
    "MT_PERCENTAGE_GEX29 = 15\n",
    "\n",
    "MIN_UMI_GEX29 = 900\n",
    "MAX_UMI_GEX29 = 12000\n",
    "\n",
    "MIN_GENES_GEX29 = 400\n",
    "MAX_GENES_GEX29 = 4300\n",
    "\n",
    "MIN_CELLS_GEX29 = 5"
   ]
  },
  {
   "cell_type": "code",
   "execution_count": null,
   "id": "bd6bbc1e-09b6-489b-942d-dc9366f0c469",
   "metadata": {},
   "outputs": [],
   "source": [
    "plt.figure(figsize = (15, 4), tight_layout = True)\n",
    "\n",
    "ax = plt.subplot(1, 3, 1)\n",
    "sns.kdeplot(DMA29.obs['pct_counts_mt'], shade = True, color = 'limegreen', ax = ax)\n",
    "plt.axvline(MT_PERCENTAGE_DMA29, 0, 1, c = 'red')\n",
    "ax.set_xlim([0, 30])\n",
    "plt.grid(False)\n",
    "\n",
    "plt.subplot(1, 3, 2)\n",
    "sns.kdeplot(np.log10(DMA29.obs['total_counts']), shade = True, color = 'orangered')\n",
    "plt.axvline(np.log10(MIN_UMI_DMA29), 0, 1, c = 'red')\n",
    "plt.axvline(np.log10(MAX_UMI_DMA29), 0, 1, c = 'darkred')\n",
    "plt.grid(False)\n",
    "\n",
    "plt.subplot(1, 3, 3)\n",
    "sns.kdeplot(np.log10(DMA29.obs['n_genes_by_counts']), shade = True, color = 'darkorange')\n",
    "plt.axvline(np.log10(MIN_GENES_DMA29), 0, 1, c = 'red')\n",
    "plt.axvline(np.log10(MAX_GENES_DMA29), 0, 1, c = 'darkred')\n",
    "plt.grid(False)\n",
    "\n",
    "plt.show()"
   ]
  },
  {
   "cell_type": "code",
   "execution_count": null,
   "id": "9c77f664-59a8-4119-8e84-17a98ef6aacd",
   "metadata": {},
   "outputs": [],
   "source": [
    "print(\"Cell x Genes before filtering\")\n",
    "print(DMA29.n_obs, DMA29.n_vars)"
   ]
  },
  {
   "cell_type": "code",
   "execution_count": null,
   "id": "a9cc881b-3c9f-41f1-9da6-7a18b8a5961c",
   "metadata": {},
   "outputs": [],
   "source": [
    "sc.pp.filter_cells(DMA29, min_genes = MIN_GENES_DMA29)\n",
    "sc.pp.filter_cells(DMA29, max_genes = MAX_GENES_DMA29)\n",
    "sc.pp.filter_cells(DMA29, min_counts = MIN_UMI_DMA29)\n",
    "sc.pp.filter_cells(DMA29, max_counts = MAX_UMI_DMA29)\n",
    "sc.pp.filter_genes(DMA29, min_cells = MIN_CELLS_DMA29)\n",
    "\n",
    "print(\"Cell x Genes after filtering\")\n",
    "print(DMA29.n_obs, DMA29.n_vars)"
   ]
  },
  {
   "cell_type": "code",
   "execution_count": null,
   "id": "dc180263-671e-4972-9664-fcf25384ea03",
   "metadata": {},
   "outputs": [],
   "source": [
    "DMA29 = DMA29[DMA29.obs['pct_counts_mt'] < MT_PERCENTAGE_DMA29, :]\n",
    "DMA29 = DMA29[DMA29.obs['pct_counts_ribo'] > RIBO_PERCENTAGE_DMA29, :]\n",
    "print(\"Remaining cells %d\"%DMA29.n_obs)"
   ]
  },
  {
   "cell_type": "markdown",
   "id": "cab903a4-056a-4a19-b7a9-bc42c84b904f",
   "metadata": {
    "jp-MarkdownHeadingCollapsed": true
   },
   "source": [
    "## 2.2. GEX-30"
   ]
  },
  {
   "cell_type": "code",
   "execution_count": null,
   "id": "c70d9a8f-70be-40a2-b8c0-9e13501e39c9",
   "metadata": {},
   "outputs": [],
   "source": [
    "GEX30 = adata[adata.obs['batch_id'].isin(['GEX-30'])].copy()"
   ]
  },
  {
   "cell_type": "code",
   "execution_count": null,
   "id": "cec3bba3-057f-4dae-882a-4dc3713d6b08",
   "metadata": {},
   "outputs": [],
   "source": [
    "RIBO_PERCENTAGE_GEX30 = 0.05\n",
    "MT_PERCENTAGE_GEX30 = 15\n",
    "\n",
    "MIN_UMI_GEX30 = 900\n",
    "MAX_UMI_GEX30 = 17000\n",
    "\n",
    "MIN_GENES_GEX30 = 500\n",
    "MAX_GENES_GEX30 = 4300\n",
    "\n",
    "MIN_CELLS_GEX30 = 5"
   ]
  },
  {
   "cell_type": "code",
   "execution_count": null,
   "id": "911fe830-13ab-4a0d-998a-c0565be8e830",
   "metadata": {},
   "outputs": [],
   "source": [
    "plt.figure(figsize = (15, 4), tight_layout = True)\n",
    "\n",
    "ax = plt.subplot(1, 3, 1)\n",
    "sns.kdeplot(GEX30.obs['pct_counts_mt'], shade = True, color = 'limegreen', ax = ax)\n",
    "plt.axvline(MT_PERCENTAGE_GEX30, 0, 1, c = 'red')\n",
    "ax.set_xlim([0, 30])\n",
    "plt.grid(False)\n",
    "\n",
    "plt.subplot(1, 3, 2)\n",
    "sns.kdeplot(np.log10(GEX30.obs['total_counts']), shade = True, color = 'orangered')\n",
    "plt.axvline(np.log10(MIN_UMI_GEX30), 0, 1, c = 'red')\n",
    "plt.axvline(np.log10(MAX_UMI_GEX30), 0, 1, c = 'darkred')\n",
    "plt.grid(False)\n",
    "\n",
    "plt.subplot(1, 3, 3)\n",
    "sns.kdeplot(np.log10(GEX30.obs['n_genes_by_counts']), shade = True, color = 'darkorange')\n",
    "plt.axvline(np.log10(MIN_GENES_GEX30), 0, 1, c = 'red')\n",
    "plt.axvline(np.log10(MAX_GENES_GEX30), 0, 1, c = 'darkred')\n",
    "plt.grid(False)\n",
    "\n",
    "plt.show()"
   ]
  },
  {
   "cell_type": "code",
   "execution_count": null,
   "id": "f250e1fd-b8a5-4ea7-8b01-5f09aa6074c6",
   "metadata": {},
   "outputs": [],
   "source": [
    "print(\"Cell x Genes before filtering\")\n",
    "print(GEX30.n_obs, GEX30.n_vars)"
   ]
  },
  {
   "cell_type": "code",
   "execution_count": null,
   "id": "6a52dcc2-faab-4dee-a4fe-3841a7c55836",
   "metadata": {},
   "outputs": [],
   "source": [
    "sc.pp.filter_cells(GEX30, min_genes = MIN_GENES_GEX30)\n",
    "sc.pp.filter_cells(GEX30, max_genes = MAX_GENES_GEX30)\n",
    "sc.pp.filter_cells(GEX30, min_counts = MIN_UMI_GEX30)\n",
    "sc.pp.filter_cells(GEX30, max_counts = MAX_UMI_GEX30)\n",
    "sc.pp.filter_genes(GEX30, min_cells = MIN_CELLS_GEX30)\n",
    "\n",
    "print(\"Cell x Genes after filtering\")\n",
    "print(GEX30.n_obs, GEX30.n_vars)"
   ]
  },
  {
   "cell_type": "code",
   "execution_count": null,
   "id": "91930956-1148-456a-b08c-5ce970944229",
   "metadata": {},
   "outputs": [],
   "source": [
    "GEX30 = GEX30[GEX30.obs['pct_counts_mt'] < MT_PERCENTAGE_GEX30, :]\n",
    "GEX30 = GEX30[GEX30.obs['pct_counts_ribo'] > RIBO_PERCENTAGE_GEX30, :]\n",
    "print(\"Remaining cells %d\"%GEX30.n_obs)"
   ]
  },
  {
   "cell_type": "markdown",
   "id": "384032a4-221f-4ba3-8f6c-1d628f699a8c",
   "metadata": {
    "jp-MarkdownHeadingCollapsed": true
   },
   "source": [
    "## 2.3. GEX-31"
   ]
  },
  {
   "cell_type": "code",
   "execution_count": null,
   "id": "890cad6c-e9d6-49c4-935a-9df8576a0806",
   "metadata": {},
   "outputs": [],
   "source": [
    "GEX31 = adata[adata.obs['batch_id'].isin(['GEX-31'])].copy()"
   ]
  },
  {
   "cell_type": "code",
   "execution_count": null,
   "id": "6e6f7971-aca5-475a-85e6-6a72e7d2e6e0",
   "metadata": {},
   "outputs": [],
   "source": [
    "RIBO_PERCENTAGE_GEX31 = 0.05\n",
    "MT_PERCENTAGE_GEX31 = 15\n",
    "\n",
    "MIN_UMI_GEX31 = 800\n",
    "MAX_UMI_GEX31 = 10000\n",
    "\n",
    "MIN_GENES_GEX31 = 400\n",
    "MAX_GENES_GEX31 = 4300\n",
    "\n",
    "MIN_CELLS_GEX31 = 5"
   ]
  },
  {
   "cell_type": "code",
   "execution_count": null,
   "id": "beab54fa-7cc8-4c95-bc01-8d436abaf4bc",
   "metadata": {},
   "outputs": [],
   "source": [
    "plt.figure(figsize = (15, 4), tight_layout = True)\n",
    "\n",
    "ax = plt.subplot(1, 3, 1)\n",
    "sns.kdeplot(GEX31.obs['pct_counts_mt'], shade = True, color = 'limegreen', ax = ax)\n",
    "plt.axvline(MT_PERCENTAGE_GEX31, 0, 1, c = 'red')\n",
    "ax.set_xlim([0, 30])\n",
    "plt.grid(False)\n",
    "\n",
    "plt.subplot(1, 3, 2)\n",
    "sns.kdeplot(np.log10(GEX31.obs['total_counts']), shade = True, color = 'orangered')\n",
    "plt.axvline(np.log10(MIN_UMI_GEX31), 0, 1, c = 'red')\n",
    "plt.axvline(np.log10(MAX_UMI_GEX31), 0, 1, c = 'darkred')\n",
    "plt.grid(False)\n",
    "\n",
    "plt.subplot(1, 3, 3)\n",
    "sns.kdeplot(np.log10(GEX31.obs['n_genes_by_counts']), shade = True, color = 'darkorange')\n",
    "plt.axvline(np.log10(MIN_GENES_GEX31), 0, 1, c = 'red')\n",
    "plt.axvline(np.log10(MAX_GENES_GEX31), 0, 1, c = 'darkred')\n",
    "plt.grid(False)\n",
    "\n",
    "plt.show()"
   ]
  },
  {
   "cell_type": "code",
   "execution_count": null,
   "id": "931fb0e8-3f2a-4432-951c-b519ef520efc",
   "metadata": {},
   "outputs": [],
   "source": [
    "print(\"Cell x Genes before filtering\")\n",
    "print(GEX31.n_obs, GEX31.n_vars)"
   ]
  },
  {
   "cell_type": "code",
   "execution_count": null,
   "id": "0889563d-ac6b-4c25-b645-cfa137f47b2c",
   "metadata": {},
   "outputs": [],
   "source": [
    "sc.pp.filter_cells(GEX31, min_genes = MIN_GENES_GEX31)\n",
    "sc.pp.filter_cells(GEX31, max_genes = MAX_GENES_GEX31)\n",
    "sc.pp.filter_cells(GEX31, min_counts = MIN_UMI_GEX31)\n",
    "sc.pp.filter_cells(GEX31, max_counts = MAX_UMI_GEX31)\n",
    "sc.pp.filter_genes(GEX31, min_cells = MIN_CELLS_GEX31)\n",
    "\n",
    "print(\"Cell x Genes after filtering\")\n",
    "print(GEX31.n_obs, GEX31.n_vars)"
   ]
  },
  {
   "cell_type": "code",
   "execution_count": null,
   "id": "50c932d3-f71a-43b6-995d-e854ec10329d",
   "metadata": {},
   "outputs": [],
   "source": [
    "GEX31 = GEX31[GEX31.obs['pct_counts_mt'] < MT_PERCENTAGE_GEX31, :]\n",
    "GEX31 = GEX31[GEX31.obs['pct_counts_ribo'] > RIBO_PERCENTAGE_GEX31, :]\n",
    "print(\"Remaining cells %d\"%GEX31.n_obs)"
   ]
  },
  {
   "cell_type": "markdown",
   "id": "6bbd786a-7d73-491c-b739-057100fd53c2",
   "metadata": {
    "jp-MarkdownHeadingCollapsed": true
   },
   "source": [
    "## 2.4. GEX-32"
   ]
  },
  {
   "cell_type": "code",
   "execution_count": null,
   "id": "e8f5361c-7b0c-48d5-a9f3-fbd0b608c9d1",
   "metadata": {},
   "outputs": [],
   "source": [
    "GEX32 = adata[adata.obs['batch_id'].isin(['GEX-32'])].copy()"
   ]
  },
  {
   "cell_type": "code",
   "execution_count": null,
   "id": "e61c0251-9e8b-4858-a656-78676e278b07",
   "metadata": {},
   "outputs": [],
   "source": [
    "RIBO_PERCENTAGE_GEX32 = 0.05\n",
    "MT_PERCENTAGE_GEX32 = 15\n",
    "\n",
    "MIN_UMI_GEX32 = 1500\n",
    "MAX_UMI_GEX32 = 17000\n",
    "\n",
    "MIN_GENES_GEX32 = 600\n",
    "MAX_GENES_GEX32 = 4300\n",
    "\n",
    "MIN_CELLS_GEX32 = 5"
   ]
  },
  {
   "cell_type": "code",
   "execution_count": null,
   "id": "d9a868cd-6ce9-4bf0-a1b4-e0601a75b528",
   "metadata": {},
   "outputs": [],
   "source": [
    "plt.figure(figsize = (15, 4), tight_layout = True)\n",
    "\n",
    "ax = plt.subplot(1, 3, 1)\n",
    "sns.kdeplot(GEX32.obs['pct_counts_mt'], shade = True, color = 'limegreen', ax = ax)\n",
    "plt.axvline(MT_PERCENTAGE_GEX32, 0, 1, c = 'red')\n",
    "ax.set_xlim([0, 30])\n",
    "plt.grid(False)\n",
    "\n",
    "plt.subplot(1, 3, 2)\n",
    "sns.kdeplot(np.log10(GEX32.obs['total_counts']), shade = True, color = 'orangered')\n",
    "plt.axvline(np.log10(MIN_UMI_GEX32), 0, 1, c = 'red')\n",
    "plt.axvline(np.log10(MAX_UMI_GEX32), 0, 1, c = 'darkred')\n",
    "plt.grid(False)\n",
    "\n",
    "plt.subplot(1, 3, 3)\n",
    "sns.kdeplot(np.log10(GEX32.obs['n_genes_by_counts']), shade = True, color = 'darkorange')\n",
    "plt.axvline(np.log10(MIN_GENES_GEX32), 0, 1, c = 'red')\n",
    "plt.axvline(np.log10(MAX_GENES_GEX32), 0, 1, c = 'darkred')\n",
    "plt.grid(False)\n",
    "\n",
    "plt.show()"
   ]
  },
  {
   "cell_type": "code",
   "execution_count": null,
   "id": "31abb21a-8e63-4b37-8bb7-4962b9e25411",
   "metadata": {},
   "outputs": [],
   "source": [
    "print(\"Cell x Genes before filtering\")\n",
    "print(GEX32.n_obs, GEX32.n_vars)"
   ]
  },
  {
   "cell_type": "code",
   "execution_count": null,
   "id": "68be80bc-e220-4439-b2fb-3fd9e541b071",
   "metadata": {},
   "outputs": [],
   "source": [
    "sc.pp.filter_cells(GEX32, min_genes = MIN_GENES_GEX32)\n",
    "sc.pp.filter_cells(GEX32, max_genes = MAX_GENES_GEX32)\n",
    "sc.pp.filter_cells(GEX32, min_counts = MIN_UMI_GEX32)\n",
    "sc.pp.filter_cells(GEX32, max_counts = MAX_UMI_GEX32)\n",
    "sc.pp.filter_genes(GEX32, min_cells = MIN_CELLS_GEX32)\n",
    "\n",
    "print(\"Cell x Genes after filtering\")\n",
    "print(GEX32.n_obs, GEX32.n_vars)"
   ]
  },
  {
   "cell_type": "code",
   "execution_count": null,
   "id": "c1ef33f0-2c4b-49f4-90db-0c86b9ab41e1",
   "metadata": {},
   "outputs": [],
   "source": [
    "GEX32 = GEX32[GEX32.obs['pct_counts_mt'] < MT_PERCENTAGE_GEX32, :]\n",
    "GEX32 = GEX32[GEX32.obs['pct_counts_ribo'] > RIBO_PERCENTAGE_GEX32, :]\n",
    "print(\"Remaining cells %d\"%GEX32.n_obs)"
   ]
  },
  {
   "cell_type": "markdown",
   "id": "05b7e258-15c3-46dc-a52d-a819c63585dc",
   "metadata": {
    "jp-MarkdownHeadingCollapsed": true
   },
   "source": [
    "## 2.5. GEX-33"
   ]
  },
  {
   "cell_type": "code",
   "execution_count": null,
   "id": "eb29fc39-9dbf-4adf-8a91-31b9fadbfa2b",
   "metadata": {},
   "outputs": [],
   "source": [
    "GEX33 = adata[adata.obs['batch_id'].isin(['GEX-33'])].copy()"
   ]
  },
  {
   "cell_type": "code",
   "execution_count": null,
   "id": "21d3fa24-c059-4c46-95e3-8daa6484feaf",
   "metadata": {},
   "outputs": [],
   "source": [
    "RIBO_PERCENTAGE_GEX33 = 0.05\n",
    "MT_PERCENTAGE_GEX33 = 15\n",
    "\n",
    "MIN_UMI_GEX33 = 900\n",
    "MAX_UMI_GEX33 = 14000\n",
    "\n",
    "MIN_GENES_GEX33 = 600\n",
    "MAX_GENES_GEX33 = 4600\n",
    "\n",
    "MIN_CELLS_GEX33 = 5"
   ]
  },
  {
   "cell_type": "code",
   "execution_count": null,
   "id": "1febd9f0-dd55-4441-9bca-c9bf683d0afd",
   "metadata": {},
   "outputs": [],
   "source": [
    "plt.figure(figsize = (15, 4), tight_layout = True)\n",
    "\n",
    "ax = plt.subplot(1, 3, 1)\n",
    "sns.kdeplot(GEX33.obs['pct_counts_mt'], shade = True, color = 'limegreen', ax = ax)\n",
    "plt.axvline(MT_PERCENTAGE_GEX33, 0, 1, c = 'red')\n",
    "ax.set_xlim([0, 30])\n",
    "plt.grid(False)\n",
    "\n",
    "plt.subplot(1, 3, 2)\n",
    "sns.kdeplot(np.log10(GEX33.obs['total_counts']), shade = True, color = 'orangered')\n",
    "plt.axvline(np.log10(MIN_UMI_GEX33), 0, 1, c = 'red')\n",
    "plt.axvline(np.log10(MAX_UMI_GEX33), 0, 1, c = 'darkred')\n",
    "plt.grid(False)\n",
    "\n",
    "plt.subplot(1, 3, 3)\n",
    "sns.kdeplot(np.log10(GEX33.obs['n_genes_by_counts']), shade = True, color = 'darkorange')\n",
    "plt.axvline(np.log10(MIN_GENES_GEX33), 0, 1, c = 'red')\n",
    "plt.axvline(np.log10(MAX_GENES_GEX33), 0, 1, c = 'darkred')\n",
    "plt.grid(False)\n",
    "\n",
    "plt.show()"
   ]
  },
  {
   "cell_type": "code",
   "execution_count": null,
   "id": "6593154f-7f4b-40f5-a8af-401f16c68147",
   "metadata": {},
   "outputs": [],
   "source": [
    "print(\"Cell x Genes before filtering\")\n",
    "print(GEX33.n_obs, GEX33.n_vars)"
   ]
  },
  {
   "cell_type": "code",
   "execution_count": null,
   "id": "9f8446b8-a35f-46dd-b020-890aa90848b7",
   "metadata": {},
   "outputs": [],
   "source": [
    "sc.pp.filter_cells(GEX33, min_genes = MIN_GENES_GEX33)\n",
    "sc.pp.filter_cells(GEX33, max_genes = MAX_GENES_GEX33)\n",
    "sc.pp.filter_cells(GEX33, min_counts = MIN_UMI_GEX33)\n",
    "sc.pp.filter_cells(GEX33, max_counts = MAX_UMI_GEX33)\n",
    "sc.pp.filter_genes(GEX33, min_cells = MIN_CELLS_GEX33)\n",
    "\n",
    "print(\"Cell x Genes after filtering\")\n",
    "print(GEX33.n_obs, GEX33.n_vars)"
   ]
  },
  {
   "cell_type": "code",
   "execution_count": null,
   "id": "36440223-dd79-4c93-a23d-6cb24033740c",
   "metadata": {},
   "outputs": [],
   "source": [
    "GEX33 = GEX33[GEX33.obs['pct_counts_mt'] < MT_PERCENTAGE_GEX33, :]\n",
    "GEX33 = GEX33[GEX33.obs['pct_counts_ribo'] > RIBO_PERCENTAGE_GEX33, :]\n",
    "print(\"Remaining cells %d\"%GEX33.n_obs)"
   ]
  },
  {
   "cell_type": "markdown",
   "id": "7f74b601-f5a0-4e40-ae57-9404606d0829",
   "metadata": {
    "jp-MarkdownHeadingCollapsed": true
   },
   "source": [
    "## 2.6. GEX-34"
   ]
  },
  {
   "cell_type": "code",
   "execution_count": null,
   "id": "b3333d99-eac0-4d10-89e0-2874db7d1570",
   "metadata": {},
   "outputs": [],
   "source": [
    "GEX34 = adata[adata.obs['batch_id'].isin(['GEX-34'])].copy()"
   ]
  },
  {
   "cell_type": "code",
   "execution_count": null,
   "id": "3859c56c-9f22-4f32-9cfc-c8837eaa9935",
   "metadata": {},
   "outputs": [],
   "source": [
    "RIBO_PERCENTAGE_GEX34 = 0.05\n",
    "MT_PERCENTAGE_GEX34 = 15\n",
    "\n",
    "MIN_UMI_GEX34 = 1200\n",
    "MAX_UMI_GEX34 = 17000\n",
    "\n",
    "MIN_GENES_GEX34 = 600\n",
    "MAX_GENES_GEX34 = 4300\n",
    "\n",
    "MIN_CELLS_GEX34 = 5"
   ]
  },
  {
   "cell_type": "code",
   "execution_count": null,
   "id": "7505fbfc-8474-4b58-995d-fc5843ae4e73",
   "metadata": {},
   "outputs": [],
   "source": [
    "plt.figure(figsize = (15, 4), tight_layout = True)\n",
    "\n",
    "ax = plt.subplot(1, 3, 1)\n",
    "sns.kdeplot(GEX34.obs['pct_counts_mt'], shade = True, color = 'limegreen', ax = ax)\n",
    "plt.axvline(MT_PERCENTAGE_GEX34, 0, 1, c = 'red')\n",
    "ax.set_xlim([0, 30])\n",
    "plt.grid(False)\n",
    "\n",
    "plt.subplot(1, 3, 2)\n",
    "sns.kdeplot(np.log10(GEX34.obs['total_counts']), shade = True, color = 'orangered')\n",
    "plt.axvline(np.log10(MIN_UMI_GEX34), 0, 1, c = 'red')\n",
    "plt.axvline(np.log10(MAX_UMI_GEX34), 0, 1, c = 'darkred')\n",
    "plt.grid(False)\n",
    "\n",
    "plt.subplot(1, 3, 3)\n",
    "sns.kdeplot(np.log10(GEX34.obs['n_genes_by_counts']), shade = True, color = 'darkorange')\n",
    "plt.axvline(np.log10(MIN_GENES_GEX34), 0, 1, c = 'red')\n",
    "plt.axvline(np.log10(MAX_GENES_GEX34), 0, 1, c = 'darkred')\n",
    "plt.grid(False)\n",
    "\n",
    "plt.show()"
   ]
  },
  {
   "cell_type": "code",
   "execution_count": null,
   "id": "d72a6c12-3754-4e30-adbd-336b479e1729",
   "metadata": {},
   "outputs": [],
   "source": [
    "print(\"Cell x Genes before filtering\")\n",
    "print(GEX34.n_obs, GEX34.n_vars)"
   ]
  },
  {
   "cell_type": "code",
   "execution_count": null,
   "id": "72a79b85-25ea-4361-b9f6-c43a36690cea",
   "metadata": {},
   "outputs": [],
   "source": [
    "sc.pp.filter_cells(GEX34, min_genes = MIN_GENES_GEX34)\n",
    "sc.pp.filter_cells(GEX34, max_genes = MAX_GENES_GEX34)\n",
    "sc.pp.filter_cells(GEX34, min_counts = MIN_UMI_GEX34)\n",
    "sc.pp.filter_cells(GEX34, max_counts = MAX_UMI_GEX34)\n",
    "sc.pp.filter_genes(GEX34, min_cells = MIN_CELLS_GEX34)\n",
    "\n",
    "print(\"Cell x Genes after filtering\")\n",
    "print(GEX34.n_obs, GEX34.n_vars)"
   ]
  },
  {
   "cell_type": "code",
   "execution_count": null,
   "id": "df607b74-e132-4fb6-849e-c6fe063ca390",
   "metadata": {},
   "outputs": [],
   "source": [
    "GEX34 = GEX34[GEX34.obs['pct_counts_mt'] < MT_PERCENTAGE_GEX34, :]\n",
    "GEX34 = GEX34[GEX34.obs['pct_counts_ribo'] > RIBO_PERCENTAGE_GEX34, :]\n",
    "print(\"Remaining cells %d\"%GEX34.n_obs)"
   ]
  },
  {
   "cell_type": "markdown",
   "id": "caa84baa-53fc-4e8d-8d8e-6a169fe5158d",
   "metadata": {
    "jp-MarkdownHeadingCollapsed": true
   },
   "source": [
    "## 2.7. GEX-35"
   ]
  },
  {
   "cell_type": "code",
   "execution_count": null,
   "id": "e35646b7-d795-4874-b610-68a155406aee",
   "metadata": {},
   "outputs": [],
   "source": [
    "GEX35 = adata[adata.obs['batch_id'].isin(['GEX-35'])].copy()"
   ]
  },
  {
   "cell_type": "code",
   "execution_count": null,
   "id": "d7a6af8e-8910-4379-89c2-5a46ffa98415",
   "metadata": {},
   "outputs": [],
   "source": [
    "RIBO_PERCENTAGE_GEX35 = 0.05\n",
    "MT_PERCENTAGE_GEX35 = 15\n",
    "\n",
    "MIN_UMI_GEX35 = 900\n",
    "MAX_UMI_GEX35 = 17000\n",
    "\n",
    "MIN_GENES_GEX35 = 600\n",
    "MAX_GENES_GEX35 = 5000\n",
    "\n",
    "MIN_CELLS_GEX35 = 5"
   ]
  },
  {
   "cell_type": "code",
   "execution_count": null,
   "id": "1a81ba8b-561e-4737-971c-3550961a89a0",
   "metadata": {},
   "outputs": [],
   "source": [
    "plt.figure(figsize = (15, 4), tight_layout = True)\n",
    "\n",
    "ax = plt.subplot(1, 3, 1)\n",
    "sns.kdeplot(GEX35.obs['pct_counts_mt'], shade = True, color = 'limegreen', ax = ax)\n",
    "plt.axvline(MT_PERCENTAGE_GEX35, 0, 1, c = 'red')\n",
    "ax.set_xlim([0, 30])\n",
    "plt.grid(False)\n",
    "\n",
    "plt.subplot(1, 3, 2)\n",
    "sns.kdeplot(np.log10(GEX35.obs['total_counts']), shade = True, color = 'orangered')\n",
    "plt.axvline(np.log10(MIN_UMI_GEX35), 0, 1, c = 'red')\n",
    "plt.axvline(np.log10(MAX_UMI_GEX35), 0, 1, c = 'darkred')\n",
    "plt.grid(False)\n",
    "\n",
    "plt.subplot(1, 3, 3)\n",
    "sns.kdeplot(np.log10(GEX35.obs['n_genes_by_counts']), shade = True, color = 'darkorange')\n",
    "plt.axvline(np.log10(MIN_GENES_GEX35), 0, 1, c = 'red')\n",
    "plt.axvline(np.log10(MAX_GENES_GEX35), 0, 1, c = 'darkred')\n",
    "plt.grid(False)\n",
    "\n",
    "plt.show()"
   ]
  },
  {
   "cell_type": "code",
   "execution_count": null,
   "id": "8b00876b-c8c4-40ce-bfa6-92527bc97cf8",
   "metadata": {},
   "outputs": [],
   "source": [
    "print(\"Cell x Genes before filtering\")\n",
    "print(GEX35.n_obs, GEX35.n_vars)"
   ]
  },
  {
   "cell_type": "code",
   "execution_count": null,
   "id": "10ecd67f-e147-424e-b500-c8f6d235a139",
   "metadata": {},
   "outputs": [],
   "source": [
    "sc.pp.filter_cells(GEX35, min_genes = MIN_GENES_GEX35)\n",
    "sc.pp.filter_cells(GEX35, max_genes = MAX_GENES_GEX35)\n",
    "sc.pp.filter_cells(GEX35, min_counts = MIN_UMI_GEX35)\n",
    "sc.pp.filter_cells(GEX35, max_counts = MAX_UMI_GEX35)\n",
    "sc.pp.filter_genes(GEX35, min_cells = MIN_CELLS_GEX35)\n",
    "\n",
    "print(\"Cell x Genes after filtering\")\n",
    "print(GEX35.n_obs, GEX35.n_vars)"
   ]
  },
  {
   "cell_type": "code",
   "execution_count": null,
   "id": "032ac824-2b9a-402a-9fd4-7d36f52950d7",
   "metadata": {},
   "outputs": [],
   "source": [
    "GEX35 = GEX35[GEX35.obs['pct_counts_mt'] < MT_PERCENTAGE_GEX35, :]\n",
    "GEX35 = GEX35[GEX35.obs['pct_counts_ribo'] > RIBO_PERCENTAGE_GEX35, :]\n",
    "print(\"Remaining cells %d\"%GEX35.n_obs)"
   ]
  },
  {
   "cell_type": "markdown",
   "id": "46452aab-4d0b-47eb-b8ef-82639aada015",
   "metadata": {
    "jp-MarkdownHeadingCollapsed": true
   },
   "source": [
    "## 2.8. GEX-36"
   ]
  },
  {
   "cell_type": "code",
   "execution_count": null,
   "id": "1b7134f7-67e0-4c78-8f57-73c6561b6ceb",
   "metadata": {},
   "outputs": [],
   "source": [
    "GEX36 = adata[adata.obs['batch_id'].isin(['GEX-36'])].copy()"
   ]
  },
  {
   "cell_type": "code",
   "execution_count": null,
   "id": "a0d71e19-57fc-4e62-888a-a6b262363265",
   "metadata": {},
   "outputs": [],
   "source": [
    "RIBO_PERCENTAGE_GEX36 = 0.05\n",
    "MT_PERCENTAGE_GEX36 = 15\n",
    "\n",
    "MIN_UMI_GEX36 = 1200\n",
    "MAX_UMI_GEX36 = 13000\n",
    "\n",
    "MIN_GENES_GEX36 = 400\n",
    "MAX_GENES_GEX36 = 4300\n",
    "\n",
    "MIN_CELLS_GEX36 = 5"
   ]
  },
  {
   "cell_type": "code",
   "execution_count": null,
   "id": "93943031-b98e-47d7-b061-5c876c7dcab1",
   "metadata": {},
   "outputs": [],
   "source": [
    "plt.figure(figsize = (15, 4), tight_layout = True)\n",
    "\n",
    "ax = plt.subplot(1, 3, 1)\n",
    "sns.kdeplot(GEX36.obs['pct_counts_mt'], shade = True, color = 'limegreen', ax = ax)\n",
    "plt.axvline(MT_PERCENTAGE_GEX36, 0, 1, c = 'red')\n",
    "ax.set_xlim([0, 30])\n",
    "plt.grid(False)\n",
    "\n",
    "plt.subplot(1, 3, 2)\n",
    "sns.kdeplot(np.log10(GEX36.obs['total_counts']), shade = True, color = 'orangered')\n",
    "plt.axvline(np.log10(MIN_UMI_GEX36), 0, 1, c = 'red')\n",
    "plt.axvline(np.log10(MAX_UMI_GEX36), 0, 1, c = 'darkred')\n",
    "plt.grid(False)\n",
    "\n",
    "plt.subplot(1, 3, 3)\n",
    "sns.kdeplot(np.log10(GEX36.obs['n_genes_by_counts']), shade = True, color = 'darkorange')\n",
    "plt.axvline(np.log10(MIN_GENES_GEX36), 0, 1, c = 'red')\n",
    "plt.axvline(np.log10(MAX_GENES_GEX36), 0, 1, c = 'darkred')\n",
    "plt.grid(False)\n",
    "\n",
    "plt.show()"
   ]
  },
  {
   "cell_type": "code",
   "execution_count": null,
   "id": "e716bf0e-bd16-4ca3-81df-cf9e014f2784",
   "metadata": {},
   "outputs": [],
   "source": [
    "print(\"Cell x Genes before filtering\")\n",
    "print(GEX36.n_obs, GEX36.n_vars)"
   ]
  },
  {
   "cell_type": "code",
   "execution_count": null,
   "id": "02dbde2c-6cfd-44e6-ba7e-07bd4cb95cf1",
   "metadata": {},
   "outputs": [],
   "source": [
    "sc.pp.filter_cells(GEX36, min_genes = MIN_GENES_GEX36)\n",
    "sc.pp.filter_cells(GEX36, max_genes = MAX_GENES_GEX36)\n",
    "sc.pp.filter_cells(GEX36, min_counts = MIN_UMI_GEX36)\n",
    "sc.pp.filter_cells(GEX36, max_counts = MAX_UMI_GEX36)\n",
    "sc.pp.filter_genes(GEX36, min_cells = MIN_CELLS_GEX36)\n",
    "\n",
    "print(\"Cell x Genes after filtering\")\n",
    "print(GEX36.n_obs, GEX36.n_vars)"
   ]
  },
  {
   "cell_type": "code",
   "execution_count": null,
   "id": "56b023de-adcb-4f87-bba7-4380d4485e38",
   "metadata": {},
   "outputs": [],
   "source": [
    "GEX36 = GEX36[GEX36.obs['pct_counts_mt'] < MT_PERCENTAGE_GEX36, :]\n",
    "GEX36 = GEX36[GEX36.obs['pct_counts_ribo'] > RIBO_PERCENTAGE_GEX36, :]\n",
    "print(\"Remaining cells %d\"%GEX36.n_obs)"
   ]
  },
  {
   "cell_type": "markdown",
   "id": "afef7c3b-1449-4bd4-8d1a-f0329b925738",
   "metadata": {
    "jp-MarkdownHeadingCollapsed": true
   },
   "source": [
    "## 2.9. adata_concatenated"
   ]
  },
  {
   "cell_type": "code",
   "execution_count": null,
   "id": "32e5c4f3-6df3-4836-8277-16350f15d442",
   "metadata": {},
   "outputs": [],
   "source": [
    "batch_list = ['DMA29', 'DMA30', 'DMA31', 'DMA32', 'DMA33', 'DMA34', 'DMA35', 'DMA36']\n",
    "adata_concatenated = DMA29.concatenate(DMA30, DMA31, DMA32, DMA33, DMA34, DMA35, DMA36,\n",
    "                                           join = 'outer',\n",
    "                                           batch_key = 'batch_id',\n",
    "                                           batch_categories = batch_list,\n",
    "                                           uns_merge = None,\n",
    "                                           index_unique = '-',\n",
    "                                           fill_value = 0.0)\n",
    "adata_concatenated"
   ]
  },
  {
   "cell_type": "markdown",
   "id": "fbff300d-fbdd-4864-ab20-d4fbd46ad491",
   "metadata": {
    "jp-MarkdownHeadingCollapsed": true,
    "tags": []
   },
   "source": [
    "## 2.10. Doublets filtering"
   ]
  },
  {
   "cell_type": "code",
   "execution_count": null,
   "id": "cc109017-683e-4f52-bc37-d6975dcd39c3",
   "metadata": {},
   "outputs": [],
   "source": [
    "print(\"Cell x Genes BEFORE doublets removal\")\n",
    "print(adata_concatenated.n_obs, adata_concatenated.n_vars)"
   ]
  },
  {
   "cell_type": "code",
   "execution_count": null,
   "id": "3a5a8082-e5ba-47e2-ac14-c80bed950e5a",
   "metadata": {},
   "outputs": [],
   "source": [
    "import scrublet as scr\n",
    "\n",
    "# split per batch into new objects.\n",
    "batches = adata_concatenated.obs['batch_id'].cat.categories.tolist()\n",
    "alldata = {}\n",
    "for batch in batches:\n",
    "    tmp = adata_concatenated[adata_concatenated.obs['batch_id'] == batch,]\n",
    "    print(batch, \":\", tmp.shape[0], \" cells\")\n",
    "    scrub = scr.Scrublet(tmp.X)\n",
    "    out = scrub.scrub_doublets(verbose = False, n_prin_comps = 20)\n",
    "    alldata[batch] = pd.DataFrame({'doublet_score':out[0],'predicted_doublets':out[1]},index = tmp.obs.index)\n",
    "    print(alldata[batch].predicted_doublets.sum(), \" predicted_doublets\")"
   ]
  },
  {
   "cell_type": "code",
   "execution_count": null,
   "id": "6a6013a8-013e-46fa-9fc4-905c5d7f10e9",
   "metadata": {},
   "outputs": [],
   "source": [
    "scrub_pred = pd.concat(alldata.values())\n",
    "adata_concatenated.obs['doublet_scores'] = scrub_pred['doublet_score'] \n",
    "adata_concatenated.obs['predicted_doublets'] = scrub_pred['predicted_doublets'] \n",
    "\n",
    "sum(adata_concatenated.obs['predicted_doublets'])"
   ]
  },
  {
   "cell_type": "code",
   "execution_count": null,
   "id": "7a05c19e-11e5-4db5-a38b-4581329cda21",
   "metadata": {},
   "outputs": [],
   "source": [
    "%matplotlib inline\n",
    "adata_concatenated.obs['doublet_info'] = adata_concatenated.obs[\"predicted_doublets\"].astype(str)\n",
    "sc.pl.violin(adata_concatenated, 'n_genes_by_counts', jitter = 0.4, groupby = 'doublet_info', rotation=45)"
   ]
  },
  {
   "cell_type": "code",
   "execution_count": null,
   "id": "51170feb-9e6c-43e9-8eb3-8a853de68613",
   "metadata": {},
   "outputs": [],
   "source": [
    "adata_concatenated = adata_concatenated[adata_concatenated.obs['doublet_info'] == 'False',:]\n",
    "\n",
    "print(\"Cell x Genes AFTER doublets removal\")\n",
    "print(adata_concatenated.n_obs, adata_concatenated.n_vars)"
   ]
  },
  {
   "cell_type": "markdown",
   "id": "a49311a7-9d84-4b46-a873-754257840459",
   "metadata": {
    "jp-MarkdownHeadingCollapsed": true
   },
   "source": [
    "## 2.11. Save the object after QC filters"
   ]
  },
  {
   "cell_type": "code",
   "execution_count": null,
   "id": "bb448f44-5be1-422a-8d73-e20862ba18ea",
   "metadata": {},
   "outputs": [],
   "source": [
    "outfilename = os.path.join(data_folder, \"Synchro_afterQC.h5ad\")\n",
    "print(\"Saving h5ad data to file {}\".format(outfilename))\n",
    "adata_concatenated.write(outfilename)\n",
    "print(\"Done!\")"
   ]
  }
 ],
 "metadata": {
  "kernelspec": {
   "display_name": "Python 3 (ipykernel)",
   "language": "python",
   "name": "python3"
  },
  "language_info": {
   "codemirror_mode": {
    "name": "ipython",
    "version": 3
   },
   "file_extension": ".py",
   "mimetype": "text/x-python",
   "name": "python",
   "nbconvert_exporter": "python",
   "pygments_lexer": "ipython3",
   "version": "3.9.6"
  }
 },
 "nbformat": 4,
 "nbformat_minor": 5
}
