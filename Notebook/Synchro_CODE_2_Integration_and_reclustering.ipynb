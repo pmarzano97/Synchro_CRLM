{
 "cells": [
  {
   "cell_type": "markdown",
   "id": "04b31bf0-da55-45f2-876d-0069d708fb6b",
   "metadata": {},
   "source": [
    "# <font color = '#FF003D'> ***Synchronous colorectal cancer-liver metastasis project***"
   ]
  },
  {
   "cell_type": "markdown",
   "id": "37c49e2e-a776-49c9-8638-6761355036d8",
   "metadata": {},
   "source": [
    "**_______________________________________________________________________________________________________________________________________________________________________________________________________________**"
   ]
  },
  {
   "cell_type": "markdown",
   "id": "3794949d-b21a-4693-91de-3ad09cf76b0d",
   "metadata": {},
   "source": [
    "# <font color = '#FF003D'> ***==== CODE 2: scVI integration & Myeloid cell re-clustering ====***"
   ]
  },
  {
   "cell_type": "markdown",
   "id": "333a00c5-fcef-4e2f-a06b-ef161432e100",
   "metadata": {},
   "source": [
    "# Python library"
   ]
  },
  {
   "cell_type": "code",
   "execution_count": null,
   "id": "403927df-d101-4ebb-bd6f-1f947b9d0c6d",
   "metadata": {
    "tags": []
   },
   "outputs": [],
   "source": [
    "import os\n",
    "import math\n",
    "import warnings\n",
    "import datetime\n",
    "\n",
    "warnings.filterwarnings('ignore')"
   ]
  },
  {
   "cell_type": "code",
   "execution_count": null,
   "id": "c99a0aa1-ad2f-4e1a-b42d-a5bcb75cbccd",
   "metadata": {
    "tags": []
   },
   "outputs": [],
   "source": [
    "import numpy as np\n",
    "import scipy\n",
    "import pandas as pd\n",
    "import scanpy as sc\n",
    "import scanpy.external as sce\n",
    "from cycler import cycler\n",
    "import openpyxl\n",
    "import scvi\n",
    "\n",
    "import seaborn as sns\n",
    "import matplotlib.pyplot as plt\n",
    "import matplotlib\n",
    "\n",
    "import rpy2"
   ]
  },
  {
   "cell_type": "code",
   "execution_count": null,
   "id": "b145fc4d-fa5b-43d3-ad12-5e1837cf27d3",
   "metadata": {
    "tags": []
   },
   "outputs": [],
   "source": [
    "from ipywidgets import IntProgress\n",
    "from IPython.display import display\n",
    "import time\n",
    "from tqdm import tqdm_notebook\n",
    "from sklearn.preprocessing import MinMaxScaler"
   ]
  },
  {
   "cell_type": "code",
   "execution_count": null,
   "id": "461ae6c9-51ef-4835-a940-0c45319e12de",
   "metadata": {
    "tags": []
   },
   "outputs": [],
   "source": [
    "result_folder = '.../Analysis/Synchro/'\n",
    "data_folder = '.../Analysis/Synchro/Data/'\n",
    "\n",
    "sc.settings.verbosity = 4\n",
    "warnings.filterwarnings('ignore')\n",
    "sc.set_figure_params(dpi = 100, dpi_save = 1000, facecolor = 'white')"
   ]
  },
  {
   "cell_type": "markdown",
   "id": "bb577ad6-5df8-4d01-b62b-b91c95d91055",
   "metadata": {},
   "source": [
    "# R library"
   ]
  },
  {
   "cell_type": "code",
   "execution_count": null,
   "id": "e7fa1b8f-806b-4943-8f7f-d6465ee98642",
   "metadata": {
    "tags": []
   },
   "outputs": [],
   "source": [
    "! python -m rpy2.situation"
   ]
  },
  {
   "cell_type": "code",
   "execution_count": null,
   "id": "dd804161-283c-4825-b198-612984958831",
   "metadata": {
    "tags": []
   },
   "outputs": [],
   "source": [
    "%load_ext rpy2.ipython"
   ]
  },
  {
   "cell_type": "code",
   "execution_count": null,
   "id": "e1f59f5f-79b6-4cd3-86f6-1b4cfcad812b",
   "metadata": {
    "tags": []
   },
   "outputs": [],
   "source": [
    "%%R \n",
    "library(Seurat)\n",
    "library(SeuratDisk)\n",
    "library(SeuratData)\n",
    "library(SeuratWrappers)\n",
    "library(SeuratObject)\n",
    "\n",
    "library(openxlsx)\n",
    "library(ggplot2)\n",
    "library(ggraph)\n",
    "library(ggrepel)\n",
    "\n",
    "library(dplyr)\n",
    "library(reticulate)\n",
    "library(patchwork)\n",
    "\n",
    "library(EnhancedVolcano)"
   ]
  },
  {
   "cell_type": "markdown",
   "id": "814c20e1-28db-4556-bcef-5c050838dbf2",
   "metadata": {
    "tags": []
   },
   "source": [
    "# 1. **scVI integration**"
   ]
  },
  {
   "cell_type": "code",
   "execution_count": null,
   "id": "35239866-3e4e-4f0b-ba06-2f91c6ef30b7",
   "metadata": {},
   "outputs": [],
   "source": [
    "outfilename = os.path.join(data_folder, \"Synchro_afterQC.h5ad\")\n",
    "adata = sc.read_h5ad(outfilename)\n",
    "\n",
    "adata.layers[\"raw_counts\"] = adata.X.copy()\n",
    "adata"
   ]
  },
  {
   "cell_type": "markdown",
   "id": "9a7378a4-0074-4ab0-94b1-8a4df3078a25",
   "metadata": {},
   "source": [
    "## 1.1. Normalization & HVG identification"
   ]
  },
  {
   "cell_type": "code",
   "execution_count": null,
   "id": "a819c1d2-3674-49bf-85da-f537364815f9",
   "metadata": {
    "tags": []
   },
   "outputs": [],
   "source": [
    "sc.pp.normalize_total(adata, target_sum = 1e4)\n",
    "sc.pp.log1p(adata)\n",
    "adata.raw = adata"
   ]
  },
  {
   "cell_type": "code",
   "execution_count": null,
   "id": "a476a889-a78e-4b51-93bb-088135db93b8",
   "metadata": {
    "tags": []
   },
   "outputs": [],
   "source": [
    "sc.pp.highly_variable_genes(adata, n_top_genes = 4000,\n",
    "                            flavor = 'seurat_v3', layer = \"raw_counts\",\n",
    "                            batch_key = 'batch_id',\n",
    "                            subset = False)"
   ]
  },
  {
   "cell_type": "markdown",
   "id": "0c0df6ee-9256-4329-aa88-c56dd4a98031",
   "metadata": {},
   "source": [
    "## 1.2. scVI integration"
   ]
  },
  {
   "cell_type": "code",
   "execution_count": null,
   "id": "eb836062-59b6-47ec-8315-7b0c35c98741",
   "metadata": {},
   "outputs": [],
   "source": [
    "adata_train = adata[:, adata.var.highly_variable].copy()\n",
    "scvi.model.SCVI.setup_anndata(adata_train, layer = \"raw_counts\", batch_key = 'patient_ID')\n",
    "vae = scvi.model.SCVI(adata_train, n_layers = 2, n_latent = 30, latent_distribution = \"normal\", gene_likelihood = \"nb\")\n",
    "vae.train()"
   ]
  },
  {
   "cell_type": "code",
   "execution_count": null,
   "id": "50e5caaf-4f14-46bb-a87d-20c9cdb0550c",
   "metadata": {},
   "outputs": [],
   "source": [
    "adata.obsm[\"X_scVI\"] = vae.get_latent_representation()\n",
    "adata.obsm[\"denoised_RNA\"] = vae.get_normalized_expression()"
   ]
  },
  {
   "cell_type": "markdown",
   "id": "c2168ba1-94a1-4b5a-86fb-31b7a75ae5b8",
   "metadata": {},
   "source": [
    "## 1.3. Neighbors & dimensionality reduction"
   ]
  },
  {
   "cell_type": "code",
   "execution_count": null,
   "id": "7b347727-c705-4def-bd33-8dc9e6deca6c",
   "metadata": {},
   "outputs": [],
   "source": [
    "sc.pp.neighbors(adata, n_neighbors = 15, use_rep = \"X_scVI\", key_added = \"scVI\")\n",
    "sc.tl.leiden(adata, resolution = 0.5, key_added = 'res_0.5', neighbors_key = \"scVI\")\n",
    "sc.tl.paga(adata, groups = 'res_0.5', neighbors_key = \"scVI\")\n",
    "sc.pl.paga(adata, frameon = True, edge_width_scale = 0.3)\n",
    "sc.tl.umap(adata, neighbors_key = \"scVI\", init_pos = 'paga')"
   ]
  },
  {
   "cell_type": "markdown",
   "id": "85c612d9-796e-4de9-8e69-ab3d18b80f33",
   "metadata": {},
   "source": [
    "## 1.4. Clustering"
   ]
  },
  {
   "cell_type": "code",
   "execution_count": null,
   "id": "acef554e-50f4-4090-a8d9-a87b9ac5c972",
   "metadata": {},
   "outputs": [],
   "source": [
    "clustering_labels = []\n",
    "for res in [0.5, 0.8, 1.0, 1.5, 1.8, 2.0, 2.5, 3.0]:\n",
    "    clustering_labels.append(\"res_{}\".format(res))\n",
    "    if \"res_{}\".format(res) in adata.obs:\n",
    "        print(\"res_{}\".format(res) + \" already exists... going on with next resolution.\")\n",
    "        continue\n",
    "    sc.tl.leiden(adata, resolution = res, key_added = \"res_{}\".format(res), neighbors_key = \"scVI\")"
   ]
  },
  {
   "cell_type": "markdown",
   "id": "bf4f4e1b-a747-461e-9680-c9d6167137fd",
   "metadata": {
    "tags": []
   },
   "source": [
    "## 1.5. Save the integrated object"
   ]
  },
  {
   "cell_type": "code",
   "execution_count": null,
   "id": "44754b42-839f-40da-a4af-cae5d3b7c6fe",
   "metadata": {},
   "outputs": [],
   "source": [
    "outfilename = os.path.join(data_folder, \"Synchro_Integrated.h5ad\")\n",
    "print(\"Saving h5ad data to file {}\".format(outfilename))\n",
    "adata.write(outfilename)\n",
    "print(\"Done!\")"
   ]
  },
  {
   "cell_type": "markdown",
   "id": "b2f8c5ba-0c30-494a-ab7d-ef129ffe3891",
   "metadata": {
    "tags": []
   },
   "source": [
    "# 2. **Cell type identification**"
   ]
  },
  {
   "cell_type": "code",
   "execution_count": null,
   "id": "a1c90579-069d-4afe-9fb4-345af3f8a582",
   "metadata": {},
   "outputs": [],
   "source": [
    "outfilename = os.path.join(data_folder, \"Synchro_Integrated.h5ad\")\n",
    "adata = sc.read_h5ad(outfilename)\n",
    "adata"
   ]
  },
  {
   "cell_type": "markdown",
   "id": "fe1024ee-0c1e-4ce5-bf57-1497d228b150",
   "metadata": {
    "jp-MarkdownHeadingCollapsed": true
   },
   "source": [
    "## UMAP"
   ]
  },
  {
   "cell_type": "code",
   "execution_count": null,
   "id": "bd2884c6-1365-413a-82c9-416e9af394fe",
   "metadata": {},
   "outputs": [],
   "source": [
    "# Supplementary figure 1B\n",
    "## Left UMAP\n",
    "sc.pl.umap(adata, color = 'tissue_origin',\n",
    "           save = 'Synchro total – tissue_origin.png'\n",
    "\n",
    "## Right UMAP\n",
    "sc.pl.umap(adata, color = 'patient_ID', frameon = True, palette = 'tab20', \n",
    "           save = 'Synchro total – patient_ID.png'"
   ]
  },
  {
   "cell_type": "code",
   "execution_count": null,
   "id": "361f8ca3-23cc-4fca-8ab8-667203f8ed11",
   "metadata": {},
   "outputs": [],
   "source": [
    "# Supplementary figure 1C\n",
    "sc.pl.umap(adata, color = 'res_1.5',\n",
    "           legend_loc = 'on data', legend_fontsize = 14, legend_fontoutline = 2, legend_fontweight = 1, frameon = True,\n",
    "           save = 'Synchro total – res_1.5.png'"
   ]
  },
  {
   "cell_type": "markdown",
   "id": "38a0471f-8cef-4ac3-be2f-719f032321d7",
   "metadata": {
    "jp-MarkdownHeadingCollapsed": true
   },
   "source": [
    "## DotPlot"
   ]
  },
  {
   "cell_type": "code",
   "execution_count": null,
   "id": "d719e34c-949d-4045-9b6c-b4474f2b0c8f",
   "metadata": {},
   "outputs": [],
   "source": [
    "# Supplementary figure 1D\n",
    "order = ['31', '4', '24', '10', '27', '1', '21', '26', '7', '16', '8', '13', '6',\n",
    "         '5',  '15', '11', '23', '12', '18', '28', '20', '3', '14', '17', '0', '9',  '22', \n",
    "         '2', '29', '19', '25', '32', '30']\n",
    "\n",
    "signature = ['PTPRC', #CD45\n",
    "             'CD14', 'FCGR3A', 'C5AR1', 'CD68', 'LYZ', 'VCAN', 'CD1C', 'CLEC10A', 'IL3RA', 'CLEC4C', 'CLEC9A', 'XCR1', #Myeloid cells\n",
    "             'CD3D', 'CD3G', 'CD7', 'NKG7', 'NCAM1', 'KLRF1', #T cells & NK cells\n",
    "             'MS4A1', 'CD19', 'JCHAIN', 'PRDM1', 'XBP1', #B cells and Plasma cells\n",
    "             'CLDN5', 'ESAM', 'TUBB1', 'ITGA2B', #Basophils\n",
    "             'TPSAB1', 'TPSB2', 'CTSG'] #Mast cells\n",
    "\n",
    "sc.pl.dotplot(adata, signature, 'res_1.5', standard_scale = 'var', swap_axes = False,\n",
    "              dendrogram = False, categories_order = order,\n",
    "              dot_min = 0.1, dot_max = 1,\n",
    "              save = 'Synchro total signature.png')"
   ]
  },
  {
   "cell_type": "markdown",
   "id": "0e26960e-b888-4d95-9295-0b4ed52df4d7",
   "metadata": {
    "tags": []
   },
   "source": [
    "# 3. **Myeloid cells re-clustering**"
   ]
  },
  {
   "cell_type": "code",
   "execution_count": null,
   "id": "b925a382-bca6-4e9b-906d-a5223d97cda0",
   "metadata": {},
   "outputs": [],
   "source": [
    "outfilename = os.path.join(data_folder, \"Synchro_Integrated.h5ad\")\n",
    "adata = sc.read_h5ad(outfilename)\n",
    "Myeloid = adata[adata.obs['res_1.5'].isin(['31', '4', '24', '10', '27', '1', '21', '26'])].copy()\n",
    "\n",
    "obs = ['leiden', 'res_0', 'res_0.5', 'res_0.8', 'res_1.0', 'res_1.5', 'res_1.8', 'res_2.0', 'res_2.5', 'res_2.8', 'res_3.0']\n",
    "for x in obs:\n",
    "    del Myeloid.obs[x]\n",
    "\n",
    "var = ['n_cells_by_counts', 'mean_counts', 'pct_dropout_by_counts', 'total_counts', 'n_cells', 'highly_variable', 'highly_variable_rank', 'means', 'variances', 'variances_norm', 'highly_variable_nbatches']\n",
    "for y in var:\n",
    "    del Myeloid.var[y]\n",
    "\n",
    "del Myeloid.uns\n",
    "del Myeloid.obsm\n",
    "del Myeloid.varm\n",
    "del Myeloid.obsp\n",
    "Myeloid"
   ]
  },
  {
   "cell_type": "markdown",
   "id": "988f1d5a-212b-4027-9475-a5ea07ec33ad",
   "metadata": {},
   "source": [
    "## 3.1. HVG identification"
   ]
  },
  {
   "cell_type": "code",
   "execution_count": null,
   "id": "a54ddb40-671a-41ff-b5e9-7020bd952925",
   "metadata": {
    "tags": []
   },
   "outputs": [],
   "source": [
    "sc.pp.highly_variable_genes(Myeloid, n_top_genes = 4000,\n",
    "                            flavor = 'seurat_v3', layer = \"raw_counts\",\n",
    "                            batch_key = 'batch_id',\n",
    "                            subset = False)"
   ]
  },
  {
   "cell_type": "markdown",
   "id": "76c474d1-f9d8-4edf-b140-b38d48267b8f",
   "metadata": {},
   "source": [
    "## 3.2. scVI integration"
   ]
  },
  {
   "cell_type": "code",
   "execution_count": null,
   "id": "39be0580-b718-4439-b37f-a40ab4276f3e",
   "metadata": {},
   "outputs": [],
   "source": [
    "adata_train = Myeloid[:, Myeloid.var.highly_variable].copy()\n",
    "scvi.model.SCVI.setup_anndata(adata_train, layer = \"raw_counts\", batch_key = 'patient_ID')\n",
    "vae = scvi.model.SCVI(adata_train, n_layers = 2, n_latent = 30, latent_distribution = \"normal\", gene_likelihood = \"nb\")\n",
    "vae.train()"
   ]
  },
  {
   "cell_type": "code",
   "execution_count": null,
   "id": "203e37f7-79a2-4d18-831c-6e682a272a3d",
   "metadata": {},
   "outputs": [],
   "source": [
    "Myeloid.obsm[\"X_scVI\"] = vae.get_latent_representation()\n",
    "Myeloid.obsm[\"denoised_RNA\"] = vae.get_normalized_expression()"
   ]
  },
  {
   "cell_type": "markdown",
   "id": "3d70a973-20d7-4542-b462-7c61c207aa67",
   "metadata": {},
   "source": [
    "## 3.3. Neighbors & dimensionality reduction"
   ]
  },
  {
   "cell_type": "code",
   "execution_count": null,
   "id": "e6ceb132-f970-4189-8b9a-f9dc2e8723d5",
   "metadata": {},
   "outputs": [],
   "source": [
    "sc.pp.neighbors(Myeloid, n_neighbors = 15, use_rep = \"X_scVI\", key_added = \"scVI\")\n",
    "sc.tl.leiden(Myeloid, resolution = 0.5, key_added = 'res_0.5', neighbors_key = \"scVI\")\n",
    "sc.tl.paga(Myeloid, groups = 'res_0.5', neighbors_key = \"scVI\")\n",
    "sc.pl.paga(Myeloid, frameon = True, edge_width_scale = 0.3)\n",
    "sc.tl.umap(Myeloid, neighbors_key = \"scVI\", init_pos = 'paga')"
   ]
  },
  {
   "cell_type": "markdown",
   "id": "77e40372-b46f-4948-8968-46e09214cf18",
   "metadata": {},
   "source": [
    "## 3.4. Clustering"
   ]
  },
  {
   "cell_type": "code",
   "execution_count": null,
   "id": "3dde8d71-eb77-42f5-81e6-1dc7be5bb832",
   "metadata": {},
   "outputs": [],
   "source": [
    "clustering_labels = []\n",
    "for res in [0.5, 0.8, 1.0, 1.5, 1.8,]:\n",
    "    clustering_labels.append(\"res_{}\".format(res))\n",
    "    if \"res_{}\".format(res) in Myeloid.obs:\n",
    "        print(\"res_{}\".format(res) + \" already exists... going on with next resolution.\")\n",
    "        continue\n",
    "    sc.tl.leiden(Myeloid, resolution = res, key_added = \"res_{}\".format(res), neighbors_key = \"scVI\")"
   ]
  },
  {
   "cell_type": "markdown",
   "id": "60249695-6671-4864-a151-c184599acb4e",
   "metadata": {
    "tags": []
   },
   "source": [
    "## 3.5. Save the integrated object"
   ]
  },
  {
   "cell_type": "code",
   "execution_count": null,
   "id": "adf2ac05-ed73-40a3-a0a7-a5d31b494024",
   "metadata": {},
   "outputs": [],
   "source": [
    "outfilename = os.path.join(data_folder, \"Synchro_Reclustering_Myeloid.h5ad\")\n",
    "print(\"Saving h5ad data to file {}\".format(outfilename))\n",
    "Myeloid.write(outfilename)\n",
    "print(\"Done!\")"
   ]
  }
 ],
 "metadata": {
  "kernelspec": {
   "display_name": "Python 3 (ipykernel)",
   "language": "python",
   "name": "python3"
  },
  "language_info": {
   "codemirror_mode": {
    "name": "ipython",
    "version": 3
   },
   "file_extension": ".py",
   "mimetype": "text/x-python",
   "name": "python",
   "nbconvert_exporter": "python",
   "pygments_lexer": "ipython3",
   "version": "3.9.6"
  }
 },
 "nbformat": 4,
 "nbformat_minor": 5
}
