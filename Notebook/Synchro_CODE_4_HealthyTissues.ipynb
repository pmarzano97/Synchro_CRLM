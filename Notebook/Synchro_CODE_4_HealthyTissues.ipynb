{
 "cells": [
  {
   "cell_type": "markdown",
   "id": "7c4dd395-164d-4b9f-a077-31b776032f2f",
   "metadata": {},
   "source": [
    "# <font color = '#FF003D'> ***Synchronous colorectal cancer-liver metastasis project***"
   ]
  },
  {
   "cell_type": "markdown",
   "id": "2256c234-d227-48c5-97c2-2537e315cf3a",
   "metadata": {},
   "source": [
    "**_______________________________________________________________________________________________________________________________________________________________________________________________________________**"
   ]
  },
  {
   "cell_type": "markdown",
   "id": "e4b47f4e-c8df-4ff9-9c56-14d9160bb81a",
   "metadata": {},
   "source": [
    "# <font color = '#FF003D'> ***==== CODE 4: Healthy tissues ====***"
   ]
  },
  {
   "cell_type": "markdown",
   "id": "85e8db50-1b2c-4d41-86b3-8fed1132bf24",
   "metadata": {},
   "source": [
    "# Python library"
   ]
  },
  {
   "cell_type": "code",
   "execution_count": null,
   "id": "5cb589f2-26ff-47db-86fb-7788f6760d61",
   "metadata": {
    "tags": []
   },
   "outputs": [],
   "source": [
    "import os\n",
    "import math\n",
    "import warnings\n",
    "import datetime\n",
    "\n",
    "warnings.filterwarnings('ignore')"
   ]
  },
  {
   "cell_type": "code",
   "execution_count": null,
   "id": "0fa4592e-d7b9-4f25-9133-6b2ff0c3e7ea",
   "metadata": {
    "tags": []
   },
   "outputs": [],
   "source": [
    "import numpy as np\n",
    "import scipy\n",
    "import pandas as pd\n",
    "import scanpy as sc\n",
    "import scanpy.external as sce\n",
    "from cycler import cycler\n",
    "import openpyxl\n",
    "import scvi\n",
    "\n",
    "import seaborn as sns\n",
    "import matplotlib.pyplot as plt\n",
    "import matplotlib\n",
    "\n",
    "import rpy2"
   ]
  },
  {
   "cell_type": "code",
   "execution_count": null,
   "id": "54c7eefa-a911-4a83-afd9-acb2acc7d937",
   "metadata": {
    "tags": []
   },
   "outputs": [],
   "source": [
    "from ipywidgets import IntProgress\n",
    "from IPython.display import display\n",
    "import time\n",
    "from tqdm import tqdm_notebook\n",
    "from sklearn.preprocessing import MinMaxScaler"
   ]
  },
  {
   "cell_type": "code",
   "execution_count": null,
   "id": "36b808b4-7bde-49ef-8edf-84f0550a84ac",
   "metadata": {
    "tags": []
   },
   "outputs": [],
   "source": [
    "result_folder = '.../Analysis/Synchro/'\n",
    "data_folder = '.../Analysis/Synchro/Data/'\n",
    "\n",
    "sc.settings.verbosity = 4\n",
    "warnings.filterwarnings('ignore')\n",
    "sc.set_figure_params(dpi = 100, dpi_save = 1000, facecolor = 'white')"
   ]
  },
  {
   "cell_type": "markdown",
   "id": "ceca963b-e472-47f2-a862-1fef625f376f",
   "metadata": {},
   "source": [
    "# R library"
   ]
  },
  {
   "cell_type": "code",
   "execution_count": null,
   "id": "a64ab373-0134-4c97-9954-bcf35d8b7549",
   "metadata": {
    "tags": []
   },
   "outputs": [],
   "source": [
    "! python -m rpy2.situation"
   ]
  },
  {
   "cell_type": "code",
   "execution_count": null,
   "id": "0b4530bc-413e-4da8-b132-39ad0a47d661",
   "metadata": {
    "tags": []
   },
   "outputs": [],
   "source": [
    "%load_ext rpy2.ipython"
   ]
  },
  {
   "cell_type": "code",
   "execution_count": null,
   "id": "f32b9e82-8393-4b3d-af00-9a13a0f2b478",
   "metadata": {
    "tags": []
   },
   "outputs": [],
   "source": [
    "%%R \n",
    "library(Seurat)\n",
    "library(SeuratDisk)\n",
    "library(SeuratData)\n",
    "library(SeuratWrappers)\n",
    "library(SeuratObject)\n",
    "\n",
    "library(openxlsx)\n",
    "library(ggplot2)\n",
    "library(ggraph)\n",
    "library(ggrepel)\n",
    "\n",
    "library(dplyr)\n",
    "library(reticulate)\n",
    "library(patchwork)\n",
    "\n",
    "library(EnhancedVolcano)"
   ]
  },
  {
   "cell_type": "markdown",
   "id": "db2e30be-2f12-4b3b-8796-9f423e34bed3",
   "metadata": {
    "jp-MarkdownHeadingCollapsed": true,
    "tags": []
   },
   "source": [
    "# 1. **Healthy liver – GEO: GSE136103**"
   ]
  },
  {
   "cell_type": "markdown",
   "id": "80cc31d6-5309-4d6a-af40-9a533808ad1f",
   "metadata": {
    "jp-MarkdownHeadingCollapsed": true
   },
   "source": [
    "## 1.1. Create the anndata"
   ]
  },
  {
   "cell_type": "code",
   "execution_count": null,
   "id": "e45a5559-bf85-4c6d-86a2-35040f4d583e",
   "metadata": {},
   "outputs": [],
   "source": [
    "# Healthy1\n",
    "Healthy1 = sc.read_mtx(\"/Users/paolomarzano/Documents/JupyterLab/Analysis/Sincroni/HealthyLiver/Healthy1/matrix.mtx.gz\")\n",
    "Healthy1_bc = pd.read_csv(\"/Users/paolomarzano/Documents/JupyterLab/Analysis/Sincroni/HealthyLiver/Healthy1/barcodes.tsv.gz\", header = None)\n",
    "Healthy1_features = pd.read_csv('/Users/paolomarzano/Documents/JupyterLab/Analysis/Sincroni/HealthyLiver/Healthy1/features.tsv.gz', header=None, sep = '\\t')\n",
    "\n",
    "Healthy1 = Healthy1.T\n",
    "Healthy1.obs_names = Healthy1_bc[0]\n",
    "\n",
    "Healthy1.var['gene_label'] = Healthy1_features[1].tolist()\n",
    "Healthy1.var.index = Healthy1.var['gene_label']\n",
    "Healthy1.var['gene_ids'] = Healthy1_features[0].tolist()\n",
    "Healthy1.var_names_make_unique()\n",
    "Healthy1.var[\"feature_types\"] = \"Gene Expression\"\n",
    "\n",
    "Healthy1.obs['patient_id'] = 'GSM4041150'\n",
    "Healthy1.obs['sample_id'] = 'Healthy 1'\n",
    "Healthy1.obs['GEX'] = '3GEX'\n",
    "Healthy1.obs['Sex'] = 'Male'\n",
    "\n",
    "# Healthy2\n",
    "Healthy2 = sc.read_mtx(\"/Users/paolomarzano/Documents/JupyterLab/Analysis/Sincroni/HealthyLiver/Healthy2/matrix.mtx.gz\")\n",
    "Healthy2_bc = pd.read_csv(\"/Users/paolomarzano/Documents/JupyterLab/Analysis/Sincroni/HealthyLiver/Healthy2/barcodes.tsv.gz\", header = None)\n",
    "Healthy2_features = pd.read_csv('/Users/paolomarzano/Documents/JupyterLab/Analysis/Sincroni/HealthyLiver/Healthy2/features.tsv.gz', header=None, sep = '\\t')\n",
    "\n",
    "Healthy2 = Healthy2.T\n",
    "Healthy2.obs_names = Healthy2_bc[0]\n",
    "\n",
    "Healthy2.var['gene_label'] = Healthy2_features[1].tolist()\n",
    "Healthy2.var.index = Healthy2.var['gene_label']\n",
    "Healthy2.var['gene_ids'] = Healthy2_features[0].tolist()\n",
    "Healthy2.var_names_make_unique()\n",
    "Healthy2.var[\"feature_types\"] = \"Gene Expression\"\n",
    "\n",
    "Healthy2.obs['patient_id'] = 'GSM4041153'\n",
    "Healthy2.obs['sample_id'] = 'Healthy 2'\n",
    "Healthy2.obs['GEX'] = '3GEX'\n",
    "Healthy2.obs['Sex'] = 'Male'\n",
    "\n",
    "# Healthy3\n",
    "Healthy3 = sc.read_mtx(\"/Users/paolomarzano/Documents/JupyterLab/Analysis/Sincroni/HealthyLiver/Healthy3/matrix.mtx.gz\")\n",
    "Healthy3_bc = pd.read_csv(\"/Users/paolomarzano/Documents/JupyterLab/Analysis/Sincroni/HealthyLiver/Healthy3/barcodes.tsv.gz\", header = None)\n",
    "Healthy3_features = pd.read_csv('/Users/paolomarzano/Documents/JupyterLab/Analysis/Sincroni/HealthyLiver/Healthy3/features.tsv.gz', header=None, sep = '\\t')\n",
    "\n",
    "Healthy3 = Healthy3.T\n",
    "Healthy3.obs_names = Healthy3_bc[0]\n",
    "\n",
    "Healthy3.var['gene_label'] = Healthy3_features[1].tolist()\n",
    "Healthy3.var.index = Healthy3.var['gene_label']\n",
    "Healthy3.var['gene_ids'] = Healthy3_features[0].tolist()\n",
    "Healthy3.var_names_make_unique()\n",
    "Healthy3.var[\"feature_types\"] = \"Gene Expression\"\n",
    "\n",
    "Healthy3.obs['patient_id'] = 'GSM4041155'\n",
    "Healthy3.obs['sample_id'] = 'Healthy 3'\n",
    "Healthy3.obs['GEX'] = '3GEX'\n",
    "Healthy3.obs['Sex'] = 'Male'\n",
    "\n",
    "# Healthy4\n",
    "Healthy4 = sc.read_mtx(\"/Users/paolomarzano/Documents/JupyterLab/Analysis/Sincroni/HealthyLiver/Healthy4/matrix.mtx.gz\")\n",
    "Healthy4_bc = pd.read_csv(\"/Users/paolomarzano/Documents/JupyterLab/Analysis/Sincroni/HealthyLiver/Healthy4/barcodes.tsv.gz\", header = None)\n",
    "Healthy4_features = pd.read_csv('/Users/paolomarzano/Documents/JupyterLab/Analysis/Sincroni/HealthyLiver/Healthy4/features.tsv.gz', header=None, sep = '\\t')\n",
    "\n",
    "Healthy4 = Healthy4.T\n",
    "Healthy4.obs_names = Healthy4_bc[0]\n",
    "\n",
    "Healthy4.var['gene_label'] = Healthy4_features[1].tolist()\n",
    "Healthy4.var.index = Healthy4.var['gene_label']\n",
    "Healthy4.var['gene_ids'] = Healthy4_features[0].tolist()\n",
    "Healthy4.var_names_make_unique()\n",
    "Healthy4.var[\"feature_types\"] = \"Gene Expression\"\n",
    "\n",
    "Healthy4.obs['patient_id'] = 'GSM4041158'\n",
    "Healthy4.obs['sample_id'] = 'Healthy 4'\n",
    "Healthy4.obs['GEX'] = '3GEX'\n",
    "Healthy4.obs['Sex'] = 'Female'\n",
    "\n",
    "# Healthy5\n",
    "Healthy5 = sc.read_mtx(\"/Users/paolomarzano/Documents/JupyterLab/Analysis/Sincroni/HealthyLiver/Healthy5/matrix.mtx.gz\")\n",
    "Healthy5_bc = pd.read_csv(\"/Users/paolomarzano/Documents/JupyterLab/Analysis/Sincroni/HealthyLiver/Healthy5/barcodes.tsv.gz\", header = None)\n",
    "Healthy5_features = pd.read_csv('/Users/paolomarzano/Documents/JupyterLab/Analysis/Sincroni/HealthyLiver/Healthy5/features.tsv.gz', header=None, sep = '\\t')\n",
    "\n",
    "Healthy5 = Healthy5.T\n",
    "Healthy5.obs_names = Healthy5_bc[0]\n",
    "\n",
    "Healthy5.var['gene_label'] = Healthy5_features[1].tolist()\n",
    "Healthy5.var.index = Healthy5.var['gene_label']\n",
    "Healthy5.var['gene_ids'] = Healthy5_features[0].tolist()\n",
    "Healthy5.var_names_make_unique()\n",
    "Healthy5.var[\"feature_types\"] = \"Gene Expression\"\n",
    "\n",
    "Healthy5.obs['patient_id'] = 'GSM4041160'\n",
    "Healthy5.obs['sample_id'] = 'Healthy 5'\n",
    "Healthy5.obs['GEX'] = '3GEX'\n",
    "Healthy5.obs['Sex'] = 'Male'"
   ]
  },
  {
   "cell_type": "code",
   "execution_count": null,
   "id": "b029a9d3-84fc-47f4-85d9-326c8028abc4",
   "metadata": {},
   "outputs": [],
   "source": [
    "k = [Healthy1, Healthy2, Healthy3, Healthy4, Healthy5]\n",
    "for k in k:\n",
    "    k.var['mt'] = k.var_names.str.startswith('MT-')              # mitochondrial genes\n",
    "    k.var['ribo'] = k.var_names.str.startswith((\"RPS\",\"RPL\"))      # ribosomal genes\n",
    "    k.var['hb'] = k.var_names.str.contains((\"^HB[^(P)]\"))        # hemoglobin genes\n",
    "    sc.pp.calculate_qc_metrics(k, qc_vars = ['mt','ribo','hb'], percent_top = None, log1p = False, inplace = True)"
   ]
  },
  {
   "cell_type": "markdown",
   "id": "465ebd3d-7d30-438b-a383-23daf3abd2ad",
   "metadata": {
    "jp-MarkdownHeadingCollapsed": true
   },
   "source": [
    "## 1.2. QC filters"
   ]
  },
  {
   "cell_type": "markdown",
   "id": "67539e20-6957-4da2-9401-419c6588e6f2",
   "metadata": {
    "jp-MarkdownHeadingCollapsed": true
   },
   "source": [
    "### *Healthy 1*"
   ]
  },
  {
   "cell_type": "code",
   "execution_count": null,
   "id": "d2a687c0-bb30-416e-9c82-a11103845164",
   "metadata": {},
   "outputs": [],
   "source": [
    "MIN_GENES_H1 = 500\n",
    "MAX_GENES_H1 = 3500\n",
    "MIN_UMI_H1 = 1000\n",
    "MAX_UMI_H1 = 17000\n",
    "MIN_CELLS_H1 = 3\n",
    "MT_PERCENTAGE_H1 = 10\n",
    "RIBO_PERCENTAGE_H1 = 0.05"
   ]
  },
  {
   "cell_type": "code",
   "execution_count": null,
   "id": "89b1a66a-76fd-456a-b11f-c0404ca573cb",
   "metadata": {},
   "outputs": [],
   "source": [
    "plt.figure(figsize = (12, 4), tight_layout = True)\n",
    "\n",
    "ax = plt.subplot(1, 2, 1)\n",
    "sns.kdeplot(Healthy1.obs['pct_counts_mt'], shade = True, color = 'limegreen', ax = ax)\n",
    "plt.axvline(MT_PERCENTAGE_H1, 0, 1, c = 'red')\n",
    "ax.set_xlim([0, 20])\n",
    "plt.grid(False)\n",
    "\n",
    "plt.subplot(1, 2, 2)\n",
    "sns.kdeplot(Healthy1.obs['pct_counts_ribo'], shade = True, color = 'deepskyblue')\n",
    "plt.axvline(RIBO_PERCENTAGE_H1, 0, 1, c = 'red')\n",
    "\n",
    "plt.grid(False)\n",
    "plt.show()"
   ]
  },
  {
   "cell_type": "code",
   "execution_count": null,
   "id": "08760b6a-d8a8-4736-b20d-fad74a0d9f81",
   "metadata": {},
   "outputs": [],
   "source": [
    "plt.figure(figsize = (12, 4), tight_layout = True)\n",
    "plt.subplot(1, 2, 1)\n",
    "sns.kdeplot(np.log10(Healthy1.obs['total_counts']), shade = True, color = 'orangered')\n",
    "plt.axvline(np.log10(MIN_UMI_H1), 0, 1, c = 'red')\n",
    "plt.axvline(np.log10(MAX_UMI_H1), 0, 1, c = 'darkred')\n",
    "plt.grid(False)\n",
    "\n",
    "plt.subplot(1, 2, 2)\n",
    "sns.kdeplot(np.log10(Healthy1.obs['n_genes_by_counts']), shade = True, color = 'darkorange')\n",
    "plt.axvline(np.log10(MIN_GENES_H1), 0, 1, c = 'red')\n",
    "plt.axvline(np.log10(MAX_GENES_H1), 0, 1, c = 'darkred')\n",
    "plt.grid(False)\n",
    "\n",
    "plt.show()"
   ]
  },
  {
   "cell_type": "code",
   "execution_count": null,
   "id": "b0285846-ab23-4fd1-af84-e5b063ca66c3",
   "metadata": {},
   "outputs": [],
   "source": [
    "print(\"Cell x Genes before filtering\")\n",
    "print(Healthy1.n_obs, Healthy1.n_vars)"
   ]
  },
  {
   "cell_type": "code",
   "execution_count": null,
   "id": "0496355d-1d48-489b-9258-5ccda47018a1",
   "metadata": {},
   "outputs": [],
   "source": [
    "sc.pp.filter_cells(Healthy1, min_genes = MIN_GENES_H1)\n",
    "sc.pp.filter_cells(Healthy1, max_genes = MAX_GENES_H1)\n",
    "sc.pp.filter_cells(Healthy1, min_counts = MIN_UMI_H1)\n",
    "sc.pp.filter_cells(Healthy1, max_counts = MAX_UMI_H1)\n",
    "sc.pp.filter_genes(Healthy1, min_cells = MIN_CELLS_H1)\n",
    "\n",
    "print(\"Cell x Genes after filtering\")\n",
    "print(Healthy1.n_obs, Healthy1.n_vars)"
   ]
  },
  {
   "cell_type": "code",
   "execution_count": null,
   "id": "3dd5a25f-56d3-4930-8dbc-9f478d656bae",
   "metadata": {},
   "outputs": [],
   "source": [
    "Healthy1 = Healthy1[Healthy1.obs['pct_counts_mt'] < MT_PERCENTAGE_H1, :]\n",
    "Healthy1 = Healthy1[Healthy1.obs['pct_counts_ribo'] > RIBO_PERCENTAGE_H1, :]\n",
    "print(\"Remaining cells %d\"%Healthy1.n_obs)"
   ]
  },
  {
   "cell_type": "markdown",
   "id": "01d6d77f-088f-48b5-a0eb-192eb2a08f92",
   "metadata": {
    "jp-MarkdownHeadingCollapsed": true
   },
   "source": [
    "### *Healthy 2*"
   ]
  },
  {
   "cell_type": "code",
   "execution_count": null,
   "id": "ed788d02-b79e-4247-9caf-225fd7dfe1d8",
   "metadata": {},
   "outputs": [],
   "source": [
    "MIN_GENES_H2 = 350\n",
    "MAX_GENES_H2 = 2100\n",
    "MIN_UMI_H2 = 550\n",
    "MAX_UMI_H2 = 6000\n",
    "MIN_CELLS_H2 = 3\n",
    "MT_PERCENTAGE_H2 = 10\n",
    "RIBO_PERCENTAGE_H2 = 0.05"
   ]
  },
  {
   "cell_type": "code",
   "execution_count": null,
   "id": "375349d6-d58f-4709-95af-9d0e14627d01",
   "metadata": {},
   "outputs": [],
   "source": [
    "plt.figure(figsize = (12, 4), tight_layout = True)\n",
    "\n",
    "ax = plt.subplot(1, 2, 1)\n",
    "sns.kdeplot(Healthy2.obs['pct_counts_mt'], shade = True, color = 'limegreen', ax = ax)\n",
    "plt.axvline(MT_PERCENTAGE_H2, 0, 1, c = 'red')\n",
    "ax.set_xlim([0, 20])\n",
    "plt.grid(False)\n",
    "\n",
    "plt.subplot(1, 2, 2)\n",
    "sns.kdeplot(Healthy2.obs['pct_counts_ribo'], shade = True, color = 'deepskyblue')\n",
    "plt.axvline(RIBO_PERCENTAGE_H2, 0, 1, c = 'red')\n",
    "\n",
    "plt.grid(False)\n",
    "plt.show()"
   ]
  },
  {
   "cell_type": "code",
   "execution_count": null,
   "id": "3e9d82f9-c9dc-48ad-90fe-4f4093ab543c",
   "metadata": {},
   "outputs": [],
   "source": [
    "plt.figure(figsize = (12, 4), tight_layout = True)\n",
    "plt.subplot(1, 2, 1)\n",
    "sns.kdeplot(np.log10(Healthy2.obs['total_counts']), shade = True, color = 'orangered')\n",
    "plt.axvline(np.log10(MIN_UMI_H2), 0, 1, c = 'red')\n",
    "plt.axvline(np.log10(MAX_UMI_H2), 0, 1, c = 'darkred')\n",
    "plt.grid(False)\n",
    "\n",
    "plt.subplot(1, 2, 2)\n",
    "sns.kdeplot(np.log10(Healthy2.obs['n_genes_by_counts']), shade = True, color = 'darkorange')\n",
    "plt.axvline(np.log10(MIN_GENES_H2), 0, 1, c = 'red')\n",
    "plt.axvline(np.log10(MAX_GENES_H2), 0, 1, c = 'darkred')\n",
    "plt.grid(False)\n",
    "\n",
    "plt.show()"
   ]
  },
  {
   "cell_type": "code",
   "execution_count": null,
   "id": "d554178b-d88c-4721-a0b6-9dc230860600",
   "metadata": {},
   "outputs": [],
   "source": [
    "print(\"Cell x Genes before filtering\")\n",
    "print(Healthy2.n_obs, Healthy2.n_vars)"
   ]
  },
  {
   "cell_type": "code",
   "execution_count": null,
   "id": "819c3aef-f8ee-4b13-bcbe-4456120211a4",
   "metadata": {},
   "outputs": [],
   "source": [
    "sc.pp.filter_cells(Healthy2, min_genes = MIN_GENES_H2)\n",
    "sc.pp.filter_cells(Healthy2, max_genes = MAX_GENES_H2)\n",
    "sc.pp.filter_cells(Healthy2, min_counts = MIN_UMI_H2)\n",
    "sc.pp.filter_cells(Healthy2, max_counts = MAX_UMI_H2)\n",
    "sc.pp.filter_genes(Healthy2, min_cells = MIN_CELLS_H2)\n",
    "\n",
    "print(\"Cell x Genes after filtering\")\n",
    "print(Healthy2.n_obs, Healthy2.n_vars)"
   ]
  },
  {
   "cell_type": "code",
   "execution_count": null,
   "id": "18c6a629-b637-4da9-b79c-24562859bea1",
   "metadata": {},
   "outputs": [],
   "source": [
    "Healthy2 = Healthy2[Healthy2.obs['pct_counts_mt'] < MT_PERCENTAGE_H2, :]\n",
    "Healthy2 = Healthy2[Healthy2.obs['pct_counts_ribo'] > RIBO_PERCENTAGE_H2, :]\n",
    "print(\"Remaining cells %d\"%Healthy2.n_obs)"
   ]
  },
  {
   "cell_type": "markdown",
   "id": "5578e7af-543b-4f3d-99a5-8d2380633ad0",
   "metadata": {
    "jp-MarkdownHeadingCollapsed": true
   },
   "source": [
    "### *Healthy 3*"
   ]
  },
  {
   "cell_type": "code",
   "execution_count": null,
   "id": "6a7bce0b-5d66-4180-8f3c-007711f9a8a1",
   "metadata": {},
   "outputs": [],
   "source": [
    "MIN_GENES_H3 = 700\n",
    "MAX_GENES_H3 = 4000\n",
    "MIN_UMI_H3 = 1800\n",
    "MAX_UMI_H3 = 19500\n",
    "MIN_CELLS_H3 = 3\n",
    "MT_PERCENTAGE_H3 = 10\n",
    "RIBO_PERCENTAGE_H3 = 0.05"
   ]
  },
  {
   "cell_type": "code",
   "execution_count": null,
   "id": "fa0d205f-53d5-4ab0-8df5-c529e668f52a",
   "metadata": {},
   "outputs": [],
   "source": [
    "plt.figure(figsize = (12, 4), tight_layout = True)\n",
    "\n",
    "ax = plt.subplot(1, 2, 1)\n",
    "sns.kdeplot(Healthy3.obs['pct_counts_mt'], shade = True, color = 'limegreen', ax = ax)\n",
    "plt.axvline(MT_PERCENTAGE_H3, 0, 1, c = 'red')\n",
    "ax.set_xlim([0, 20])\n",
    "plt.grid(False)\n",
    "\n",
    "plt.subplot(1, 2, 2)\n",
    "sns.kdeplot(Healthy3.obs['pct_counts_ribo'], shade = True, color = 'deepskyblue')\n",
    "plt.axvline(RIBO_PERCENTAGE_H3, 0, 1, c = 'red')\n",
    "\n",
    "plt.grid(False)\n",
    "plt.show()"
   ]
  },
  {
   "cell_type": "code",
   "execution_count": null,
   "id": "380d7d3e-e1a4-4c01-a0e4-80e5382041a6",
   "metadata": {},
   "outputs": [],
   "source": [
    "plt.figure(figsize = (12, 4), tight_layout = True)\n",
    "plt.subplot(1, 2, 1)\n",
    "sns.kdeplot(np.log10(Healthy3.obs['total_counts']), shade = True, color = 'orangered')\n",
    "plt.axvline(np.log10(MIN_UMI_H3), 0, 1, c = 'red')\n",
    "plt.axvline(np.log10(MAX_UMI_H3), 0, 1, c = 'darkred')\n",
    "plt.grid(False)\n",
    "\n",
    "plt.subplot(1, 2, 2)\n",
    "sns.kdeplot(np.log10(Healthy3.obs['n_genes_by_counts']), shade = True, color = 'darkorange')\n",
    "plt.axvline(np.log10(MIN_GENES_H3), 0, 1, c = 'red')\n",
    "plt.axvline(np.log10(MAX_GENES_H3), 0, 1, c = 'darkred')\n",
    "plt.grid(False)\n",
    "\n",
    "plt.show()"
   ]
  },
  {
   "cell_type": "code",
   "execution_count": null,
   "id": "70e20db9-3fa9-40dd-80a2-7b91eeb033a9",
   "metadata": {},
   "outputs": [],
   "source": [
    "print(\"Cell x Genes before filtering\")\n",
    "print(Healthy3.n_obs, Healthy3.n_vars)"
   ]
  },
  {
   "cell_type": "code",
   "execution_count": null,
   "id": "7e5344fa-d8a3-46de-b790-3e00400bcf34",
   "metadata": {},
   "outputs": [],
   "source": [
    "sc.pp.filter_cells(Healthy3, min_genes = MIN_GENES_H3)\n",
    "sc.pp.filter_cells(Healthy3, max_genes = MAX_GENES_H3)\n",
    "sc.pp.filter_cells(Healthy3, min_counts = MIN_UMI_H3)\n",
    "sc.pp.filter_cells(Healthy3, max_counts = MAX_UMI_H3)\n",
    "sc.pp.filter_genes(Healthy3, min_cells = MIN_CELLS_H3)\n",
    "\n",
    "print(\"Cell x Genes after filtering\")\n",
    "print(Healthy3.n_obs, Healthy3.n_vars)"
   ]
  },
  {
   "cell_type": "code",
   "execution_count": null,
   "id": "714d71cf-594f-4c92-949c-36427cb26e73",
   "metadata": {},
   "outputs": [],
   "source": [
    "Healthy3 = Healthy3[Healthy3.obs['pct_counts_mt'] < MT_PERCENTAGE_H3, :]\n",
    "Healthy3 = Healthy3[Healthy3.obs['pct_counts_ribo'] > RIBO_PERCENTAGE_H3, :]\n",
    "print(\"Remaining cells %d\"%Healthy3.n_obs)"
   ]
  },
  {
   "cell_type": "markdown",
   "id": "40a8ce42-d197-48fb-9cab-98e2af116aac",
   "metadata": {
    "jp-MarkdownHeadingCollapsed": true
   },
   "source": [
    "### *Healthy 4*"
   ]
  },
  {
   "cell_type": "code",
   "execution_count": null,
   "id": "8f1ab0d5-e468-4181-a44b-2a8b6bcd31f0",
   "metadata": {},
   "outputs": [],
   "source": [
    "MIN_GENES_H4 = 700\n",
    "MAX_GENES_H4 = 3500\n",
    "MIN_UMI_H4 = 1600\n",
    "MAX_UMI_H4 = 17000\n",
    "MIN_CELLS_H4 = 3\n",
    "MT_PERCENTAGE_H4 = 10\n",
    "RIBO_PERCENTAGE_H4 = 0.05"
   ]
  },
  {
   "cell_type": "code",
   "execution_count": null,
   "id": "9ab765fd-27e3-4453-a03c-e510912d7114",
   "metadata": {},
   "outputs": [],
   "source": [
    "plt.figure(figsize = (12, 4), tight_layout = True)\n",
    "\n",
    "ax = plt.subplot(1, 2, 1)\n",
    "sns.kdeplot(Healthy4.obs['pct_counts_mt'], shade = True, color = 'limegreen', ax = ax)\n",
    "plt.axvline(MT_PERCENTAGE_H4, 0, 1, c = 'red')\n",
    "ax.set_xlim([0, 20])\n",
    "plt.grid(False)\n",
    "\n",
    "plt.subplot(1, 2, 2)\n",
    "sns.kdeplot(Healthy4.obs['pct_counts_ribo'], shade = True, color = 'deepskyblue')\n",
    "plt.axvline(RIBO_PERCENTAGE_H4, 0, 1, c = 'red')\n",
    "\n",
    "plt.grid(False)\n",
    "plt.show()"
   ]
  },
  {
   "cell_type": "code",
   "execution_count": null,
   "id": "3c3e2097-6667-4d43-a72f-77c48217dca2",
   "metadata": {},
   "outputs": [],
   "source": [
    "plt.figure(figsize = (12, 4), tight_layout = True)\n",
    "plt.subplot(1, 2, 1)\n",
    "sns.kdeplot(np.log10(Healthy4.obs['total_counts']), shade = True, color = 'orangered')\n",
    "plt.axvline(np.log10(MIN_UMI_H4), 0, 1, c = 'red')\n",
    "plt.axvline(np.log10(MAX_UMI_H4), 0, 1, c = 'darkred')\n",
    "plt.grid(False)\n",
    "\n",
    "plt.subplot(1, 2, 2)\n",
    "sns.kdeplot(np.log10(Healthy4.obs['n_genes_by_counts']), shade = True, color = 'darkorange')\n",
    "plt.axvline(np.log10(MIN_GENES_H4), 0, 1, c = 'red')\n",
    "plt.axvline(np.log10(MAX_GENES_H4), 0, 1, c = 'darkred')\n",
    "plt.grid(False)\n",
    "\n",
    "plt.show()"
   ]
  },
  {
   "cell_type": "code",
   "execution_count": null,
   "id": "f308d2bf-bcfe-4eaa-9b65-9a3dea1d49dd",
   "metadata": {},
   "outputs": [],
   "source": [
    "print(\"Cell x Genes before filtering\")\n",
    "print(Healthy4.n_obs, Healthy4.n_vars)"
   ]
  },
  {
   "cell_type": "code",
   "execution_count": null,
   "id": "96009204-47c6-4a9b-af9c-8d81db130bd3",
   "metadata": {},
   "outputs": [],
   "source": [
    "sc.pp.filter_cells(Healthy4, min_genes = MIN_GENES_H4)\n",
    "sc.pp.filter_cells(Healthy4, max_genes = MAX_GENES_H4)\n",
    "sc.pp.filter_cells(Healthy4, min_counts = MIN_UMI_H4)\n",
    "sc.pp.filter_cells(Healthy4, max_counts = MAX_UMI_H4)\n",
    "sc.pp.filter_genes(Healthy4, min_cells = MIN_CELLS_H4)\n",
    "\n",
    "print(\"Cell x Genes after filtering\")\n",
    "print(Healthy4.n_obs, Healthy4.n_vars)"
   ]
  },
  {
   "cell_type": "code",
   "execution_count": null,
   "id": "8b38e655-dccf-43cc-9820-a14ea7552076",
   "metadata": {},
   "outputs": [],
   "source": [
    "Healthy4 = Healthy4[Healthy4.obs['pct_counts_mt'] < MT_PERCENTAGE_H4, :]\n",
    "Healthy4 = Healthy4[Healthy4.obs['pct_counts_ribo'] > RIBO_PERCENTAGE_H4, :]\n",
    "print(\"Remaining cells %d\"%Healthy4.n_obs)"
   ]
  },
  {
   "cell_type": "markdown",
   "id": "3929bc65-b663-4d22-882a-37e0cda95a35",
   "metadata": {
    "jp-MarkdownHeadingCollapsed": true
   },
   "source": [
    "### *Healthy 5*"
   ]
  },
  {
   "cell_type": "code",
   "execution_count": null,
   "id": "cce724a8-acae-42f4-8ee0-f86aff7da3cb",
   "metadata": {},
   "outputs": [],
   "source": [
    "MIN_GENES_H5 = 500\n",
    "MAX_GENES_H5 = 3000\n",
    "MIN_UMI_H5 = 1000\n",
    "MAX_UMI_H5 = 15000\n",
    "MIN_CELLS_H5 = 3\n",
    "MT_PERCENTAGE_H5 = 10\n",
    "RIBO_PERCENTAGE_H5 = 0.05"
   ]
  },
  {
   "cell_type": "code",
   "execution_count": null,
   "id": "b5bf9fce-9c30-4cf3-beba-ae6a37aa6523",
   "metadata": {},
   "outputs": [],
   "source": [
    "plt.figure(figsize = (12, 4), tight_layout = True)\n",
    "\n",
    "ax = plt.subplot(1, 2, 1)\n",
    "sns.kdeplot(Healthy5.obs['pct_counts_mt'], shade = True, color = 'limegreen', ax = ax)\n",
    "plt.axvline(MT_PERCENTAGE_H5, 0, 1, c = 'red')\n",
    "ax.set_xlim([0, 20])\n",
    "plt.grid(False)\n",
    "\n",
    "plt.subplot(1, 2, 2)\n",
    "sns.kdeplot(Healthy5.obs['pct_counts_ribo'], shade = True, color = 'deepskyblue')\n",
    "plt.axvline(RIBO_PERCENTAGE_H5, 0, 1, c = 'red')\n",
    "\n",
    "plt.grid(False)\n",
    "plt.show()"
   ]
  },
  {
   "cell_type": "code",
   "execution_count": null,
   "id": "6787c18c-803c-4fb8-832f-f6e97cce3b05",
   "metadata": {},
   "outputs": [],
   "source": [
    "plt.figure(figsize = (12, 4), tight_layout = True)\n",
    "plt.subplot(1, 2, 1)\n",
    "sns.kdeplot(np.log10(Healthy5.obs['total_counts']), shade = True, color = 'orangered')\n",
    "plt.axvline(np.log10(MIN_UMI_H5), 0, 1, c = 'red')\n",
    "plt.axvline(np.log10(MAX_UMI_H5), 0, 1, c = 'darkred')\n",
    "plt.grid(False)\n",
    "\n",
    "plt.subplot(1, 2, 2)\n",
    "sns.kdeplot(np.log10(Healthy5.obs['n_genes_by_counts']), shade = True, color = 'darkorange')\n",
    "plt.axvline(np.log10(MIN_GENES_H5), 0, 1, c = 'red')\n",
    "plt.axvline(np.log10(MAX_GENES_H5), 0, 1, c = 'darkred')\n",
    "plt.grid(False)\n",
    "\n",
    "plt.show()"
   ]
  },
  {
   "cell_type": "code",
   "execution_count": null,
   "id": "72498c22-6d7e-43b5-9607-1aa24a603c79",
   "metadata": {},
   "outputs": [],
   "source": [
    "print(\"Cell x Genes before filtering\")\n",
    "print(Healthy5.n_obs, Healthy5.n_vars)"
   ]
  },
  {
   "cell_type": "code",
   "execution_count": null,
   "id": "b3e77276-204a-4526-bd27-15041a613a4b",
   "metadata": {},
   "outputs": [],
   "source": [
    "sc.pp.filter_cells(Healthy5, min_genes = MIN_GENES_H5)\n",
    "sc.pp.filter_cells(Healthy5, max_genes = MAX_GENES_H5)\n",
    "sc.pp.filter_cells(Healthy5, min_counts = MIN_UMI_H5)\n",
    "sc.pp.filter_cells(Healthy5, max_counts = MAX_UMI_H5)\n",
    "sc.pp.filter_genes(Healthy5, min_cells = MIN_CELLS_H5)\n",
    "\n",
    "print(\"Cell x Genes after filtering\")\n",
    "print(Healthy5.n_obs, Healthy5.n_vars)"
   ]
  },
  {
   "cell_type": "code",
   "execution_count": null,
   "id": "802db461-71e0-4201-800d-86436538a580",
   "metadata": {},
   "outputs": [],
   "source": [
    "Healthy5 = Healthy5[Healthy5.obs['pct_counts_mt'] < MT_PERCENTAGE_H5, :]\n",
    "Healthy5 = Healthy5[Healthy5.obs['pct_counts_ribo'] > RIBO_PERCENTAGE_H5, :]\n",
    "print(\"Remaining cells %d\"%Healthy5.n_obs)"
   ]
  },
  {
   "cell_type": "markdown",
   "id": "d3eb87c6-b2a8-4239-b898-c2775a18c337",
   "metadata": {
    "jp-MarkdownHeadingCollapsed": true
   },
   "source": [
    "## 1.3. adata_concatenated"
   ]
  },
  {
   "cell_type": "code",
   "execution_count": null,
   "id": "ab1fe304-cd9d-41b2-b474-273abfe6cd43",
   "metadata": {},
   "outputs": [],
   "source": [
    "batch_list = ['GSM4041150', 'GSM4041153', 'GSM4041155', 'GSM4041158', 'GSM4041160']\n",
    "HealthyLiver_GEO = Healthy1.concatenate(Healthy2, Healthy3, Healthy4, Healthy5,\n",
    "                          join = 'outer',\n",
    "                          batch_key = 'patient_id',\n",
    "                          batch_categories = batch_list,\n",
    "                          uns_merge = None,\n",
    "                          index_unique = '-',\n",
    "                          fill_value = 0.0)\n",
    "HealthyLiver_GEO"
   ]
  },
  {
   "cell_type": "code",
   "execution_count": null,
   "id": "e9cfd3b2-02eb-4d35-ac0f-7a0a936dee28",
   "metadata": {},
   "outputs": [],
   "source": [
    "HealthyLiver_GEO.var['gene_ids'] = HealthyLiver_GEO.var_names\n",
    "HealthyLiver_GEO.var['feature_types'] = 'Gene Expression'\n",
    "HealthyLiver_GEO.var['genome'] = 'GRCh38'\n",
    "\n",
    "var = ['gene_label-GSM4041150', 'gene_ids-GSM4041150', 'feature_types-GSM4041150', 'mt-GSM4041150', 'ribo-GSM4041150', 'hb-GSM4041150', 'n_cells_by_counts-GSM4041150', 'mean_counts-GSM4041150',\n",
    "       'pct_dropout_by_counts-GSM4041150', 'total_counts-GSM4041150', 'n_cells-GSM4041150', 'gene_label-GSM4041153', 'gene_ids-GSM4041153', 'feature_types-GSM4041153', 'mt-GSM4041153', 'ribo-GSM4041153',\n",
    "       'hb-GSM4041153', 'n_cells_by_counts-GSM4041153', 'mean_counts-GSM4041153', 'pct_dropout_by_counts-GSM4041153', 'total_counts-GSM4041153', 'n_cells-GSM4041153', 'gene_label-GSM4041155',\n",
    "       'gene_ids-GSM4041155', 'feature_types-GSM4041155', 'mt-GSM4041155', 'ribo-GSM4041155', 'hb-GSM4041155', 'n_cells_by_counts-GSM4041155', 'mean_counts-GSM4041155', 'pct_dropout_by_counts-GSM4041155',\n",
    "       'total_counts-GSM4041155', 'n_cells-GSM4041155', 'gene_label-GSM4041158', 'gene_ids-GSM4041158', 'feature_types-GSM4041158', 'mt-GSM4041158', 'ribo-GSM4041158', 'hb-GSM4041158',\n",
    "       'n_cells_by_counts-GSM4041158', 'mean_counts-GSM4041158', 'pct_dropout_by_counts-GSM4041158', 'total_counts-GSM4041158', 'n_cells-GSM4041158', 'gene_label-GSM4041160', 'gene_ids-GSM4041160',\n",
    "       'feature_types-GSM4041160', 'mt-GSM4041160', 'ribo-GSM4041160', 'hb-GSM4041160', 'n_cells_by_counts-GSM4041160', 'mean_counts-GSM4041160', 'pct_dropout_by_counts-GSM4041160',\n",
    "       'total_counts-GSM4041160', 'n_cells-GSM4041160']\n",
    "\n",
    "for var in var:\n",
    "    del HealthyLiver_GEO.var[var]\n",
    "\n",
    "HealthyLiver_GEO.var['mt'] = HealthyLiver_GEO.var_names.str.startswith('MT-')              # mitochondrial genes\n",
    "HealthyLiver_GEO.var['ribo'] = HealthyLiver_GEO.var_names.str.startswith((\"RPS\",\"RPL\"))      # ribosomal genes\n",
    "HealthyLiver_GEO.var['hb'] = HealthyLiver_GEO.var_names.str.contains((\"^HB[^(P)]\"))        # hemoglobin genes\n",
    "\n",
    "HealthyLiver_GEO.var"
   ]
  },
  {
   "cell_type": "markdown",
   "id": "64fe9ed4-638d-40c1-b601-035d2deebbab",
   "metadata": {
    "jp-MarkdownHeadingCollapsed": true
   },
   "source": [
    "## 1.4. Doublets filtering"
   ]
  },
  {
   "cell_type": "code",
   "execution_count": null,
   "id": "e500521b-69ae-4bc4-9417-8d792252c176",
   "metadata": {},
   "outputs": [],
   "source": [
    "print(\"Cell x Genes BEFORE doublets removal\")\n",
    "print(HealthyLiver_GEO.n_obs, HealthyLiver_GEO.n_vars)"
   ]
  },
  {
   "cell_type": "code",
   "execution_count": null,
   "id": "f8d1f97a-1af2-4948-b80a-405cc343bc21",
   "metadata": {},
   "outputs": [],
   "source": [
    "import scrublet as scr\n",
    "\n",
    "# split per batch into new objects.\n",
    "batches = list(HealthyLiver_GEO.obs['sample_id'].unique()) #HealthyLiver_GEO.obs['orig.ident'].tolist()#.cat.categories.tolist()\n",
    "alldata = {}\n",
    "for batch in batches:\n",
    "    tmp = HealthyLiver_GEO[HealthyLiver_GEO.obs['sample_id'] == batch,]\n",
    "    print(batch, \":\", tmp.shape[0], \" cells\")\n",
    "    scrub = scr.Scrublet(tmp.X)\n",
    "    out = scrub.scrub_doublets(verbose=False, n_prin_comps = 20)\n",
    "    alldata[batch] = pd.DataFrame({'doublet_score':out[0],'predicted_doublets':out[1]},index = tmp.obs.index)\n",
    "    print(alldata[batch].predicted_doublets.sum(), \" predicted_doublets\")"
   ]
  },
  {
   "cell_type": "code",
   "execution_count": null,
   "id": "e4ab7479-1ce2-474b-a123-3127366db542",
   "metadata": {},
   "outputs": [],
   "source": [
    "scrub_pred = pd.concat(alldata.values())\n",
    "HealthyLiver_GEO.obs['doublet_scores'] = scrub_pred['doublet_score'] \n",
    "HealthyLiver_GEO.obs['predicted_doublets'] = scrub_pred['predicted_doublets'] \n",
    "\n",
    "sum(HealthyLiver_GEO.obs['predicted_doublets'])"
   ]
  },
  {
   "cell_type": "code",
   "execution_count": null,
   "id": "e479af43-a18f-4c28-b5d7-5998a451028d",
   "metadata": {},
   "outputs": [],
   "source": [
    "%matplotlib inline\n",
    "HealthyLiver_GEO.obs['doublet_info'] = HealthyLiver_GEO.obs[\"predicted_doublets\"].astype(str)\n",
    "sc.pl.violin(HealthyLiver_GEO, 'n_genes_by_counts', jitter = 0.4, groupby = 'doublet_info', rotation=45)"
   ]
  },
  {
   "cell_type": "code",
   "execution_count": null,
   "id": "cb0b107d-62af-411b-b7d1-a1488f54e69d",
   "metadata": {},
   "outputs": [],
   "source": [
    "# also revert back to the raw counts as the main matrix in HealthyLiver_GEO\n",
    "HealthyLiver_GEO = HealthyLiver_GEO[HealthyLiver_GEO.obs['doublet_info'] == 'False',:]\n",
    "\n",
    "print(\"Cell x Genes AFTER doublets removal\")\n",
    "print(HealthyLiver_GEO.n_obs, HealthyLiver_GEO.n_vars)"
   ]
  },
  {
   "cell_type": "markdown",
   "id": "569726ee-17cb-4593-ad3a-b819978ef4b7",
   "metadata": {
    "jp-MarkdownHeadingCollapsed": true
   },
   "source": [
    "## 1.5. Save the object after QC filters"
   ]
  },
  {
   "cell_type": "code",
   "execution_count": null,
   "id": "e9f50d14-c44f-4232-9211-93997cc54814",
   "metadata": {},
   "outputs": [],
   "source": [
    "outfilename = os.path.join(data_folder, \"HealthyLiver_GEO_afterQC.h5ad\")\n",
    "print(\"Saving h5ad data to file {}\".format(outfilename))\n",
    "HealthyLiver_GEO.write(outfilename)\n",
    "print(\"Done!\")"
   ]
  },
  {
   "cell_type": "markdown",
   "id": "a7682627-8dbf-44c5-ad46-481fa7440729",
   "metadata": {
    "jp-MarkdownHeadingCollapsed": true
   },
   "source": [
    "## 1.6. Normalization & HVG selection"
   ]
  },
  {
   "cell_type": "code",
   "execution_count": null,
   "id": "7a437277-c582-4dc6-ad4e-c5b36c4d7b85",
   "metadata": {},
   "outputs": [],
   "source": [
    "HealthyLiver_GEO.layers['raw_counts'] = HealthyLiver_GEO.X.copy()"
   ]
  },
  {
   "cell_type": "code",
   "execution_count": null,
   "id": "3bf2e28b-8ab5-4458-895e-734e84ec1d4b",
   "metadata": {},
   "outputs": [],
   "source": [
    "sc.pp.normalize_total(HealthyLiver_GEO, target_sum = 1e4)\n",
    "sc.pp.log1p(HealthyLiver_GEO)"
   ]
  },
  {
   "cell_type": "code",
   "execution_count": null,
   "id": "117ac85e-d0fc-4ed0-9809-22fdd8a4678d",
   "metadata": {},
   "outputs": [],
   "source": [
    "HealthyLiver_GEO.raw = HealthyLiver_GEO\n",
    "HealthyLiver_GEO.layers[\"normalized_counts\"] = HealthyLiver_GEO.X.copy()"
   ]
  },
  {
   "cell_type": "code",
   "execution_count": null,
   "id": "d4424233-9445-4adf-b87a-f7b95c55fbb1",
   "metadata": {},
   "outputs": [],
   "source": [
    "sc.pp.highly_variable_genes(HealthyLiver_GEO,\n",
    "                            n_top_genes = 4000, flavor = \"seurat_v3\",\n",
    "                            layer = \"raw_counts\", batch_key = 'sample_id',\n",
    "                            subset = False)"
   ]
  },
  {
   "cell_type": "markdown",
   "id": "8058131b-9a8f-463a-8128-3eaf5cff3c36",
   "metadata": {
    "jp-MarkdownHeadingCollapsed": true
   },
   "source": [
    "## 1.7. scVI integration"
   ]
  },
  {
   "cell_type": "code",
   "execution_count": null,
   "id": "db84bfb4-bd44-4827-8ceb-782a6fa3bf5d",
   "metadata": {},
   "outputs": [],
   "source": [
    "adata_train = HealthyLiver_GEO[:, HealthyLiver_GEO.var.highly_variable].copy()\n",
    "adata_train"
   ]
  },
  {
   "cell_type": "code",
   "execution_count": null,
   "id": "b49273e7-cb41-48c5-85da-0d9f57b23ea0",
   "metadata": {},
   "outputs": [],
   "source": [
    "scvi.model.SCVI.setup_anndata(adata_train, layer = \"raw_counts\", batch_key = 'patient_id')\n",
    "vae = scvi.model.SCVI(adata_train, n_layers = 2, n_latent = 30, latent_distribution = \"normal\", gene_likelihood = \"nb\")\n",
    "vae.train(accelerator = \"cpu\")"
   ]
  },
  {
   "cell_type": "code",
   "execution_count": null,
   "id": "e14e810a-c672-4804-a0ac-72e6522ed4d5",
   "metadata": {},
   "outputs": [],
   "source": [
    "HealthyLiver_GEO.obsm[\"X_scVI\"] = vae.get_latent_representation()\n",
    "HealthyLiver_GEO.obsm[\"denoised_RNA\"] = vae.get_normalized_expression()"
   ]
  },
  {
   "cell_type": "code",
   "execution_count": null,
   "id": "70c795cc-bb71-4323-b17b-578f153610c0",
   "metadata": {},
   "outputs": [],
   "source": [
    "sc.pp.neighbors(HealthyLiver_GEO, n_neighbors = 15, use_rep = \"X_scVI\", key_added = \"scVI\")\n",
    "sc.tl.leiden(HealthyLiver_GEO, resolution = 0.5, key_added = 'res_0.5', neighbors_key = \"scVI\")\n",
    "sc.tl.paga(HealthyLiver_GEO, groups = 'res_0.5', neighbors_key = \"scVI\")\n",
    "sc.pl.paga(HealthyLiver_GEO, frameon = True, edge_width_scale = 0.3)\n",
    "sc.tl.umap(HealthyLiver_GEO, neighbors_key = \"scVI\", init_pos = 'paga')"
   ]
  },
  {
   "cell_type": "markdown",
   "id": "46270202-aa4a-476a-986e-2064428fdc06",
   "metadata": {
    "jp-MarkdownHeadingCollapsed": true
   },
   "source": [
    "## 1.8. Clustering"
   ]
  },
  {
   "cell_type": "code",
   "execution_count": null,
   "id": "d90ae299-7206-45a7-8a1c-4c7afdbfd2d2",
   "metadata": {},
   "outputs": [],
   "source": [
    "clustering_labels = []\n",
    "for res in [0, 0.8, 1.0, 1.5, 2.0, 2.5]:\n",
    "    clustering_labels.append(\"res_{}\".format(res))\n",
    "    if \"res_{}\".format(res) in HealthyLiver_GEO.obs:\n",
    "        print(\"res_{}\".format(res) + \" already exists... going on with next resolution.\")\n",
    "        continue\n",
    "    sc.tl.leiden(HealthyLiver_GEO, resolution = res, key_added = \"res_{}\".format(res), neighbors_key = \"scVI\")"
   ]
  },
  {
   "cell_type": "code",
   "execution_count": null,
   "id": "0af00d62-83b3-4688-b89e-0bff7adfe465",
   "metadata": {},
   "outputs": [],
   "source": [
    "clustering_labels = ['res_0.5', 'res_0.8', 'res_1.0', 'res_1.5', 'res_2.0', 'res_2.5']\n",
    "sc.pl.umap(HealthyLiver_GEO, color = clustering_labels, legend_loc = 'on data', legend_fontsize = 10, legend_fontoutline = 2, legend_fontweight = 8, wspace = .5, ncols = 3, frameon = True)"
   ]
  },
  {
   "cell_type": "markdown",
   "id": "a4c2ab61-52da-409b-96b5-5ec541c47315",
   "metadata": {
    "jp-MarkdownHeadingCollapsed": true
   },
   "source": [
    "## 1.9. Save final object"
   ]
  },
  {
   "cell_type": "code",
   "execution_count": null,
   "id": "641055e9-b3aa-4bb0-a557-d7d294b1fba2",
   "metadata": {},
   "outputs": [],
   "source": [
    "outfilename = os.path.join(data_folder, \"HealthyLiver_GEO_integration.h5ad\")\n",
    "print(\"Saving h5ad data to file {}\".format(outfilename))\n",
    "HealthyLiver_GEO.write(outfilename)\n",
    "print(\"Done!\")"
   ]
  },
  {
   "cell_type": "markdown",
   "id": "9506c5bc-be08-4d54-bfbb-6b313ff4028a",
   "metadata": {
    "jp-MarkdownHeadingCollapsed": true
   },
   "source": [
    "# 2. **Healthy liver – Reclustering macrophages**"
   ]
  },
  {
   "cell_type": "code",
   "execution_count": null,
   "id": "b827bbfa-50f3-4b70-b3be-dc0da2a4af9a",
   "metadata": {},
   "outputs": [],
   "source": [
    "Macrophages_GEO = HealthyLiver_GEO[HealthyLiver_GEO.obs['res_0.8'].isin(['3', '7', '8'])]\n",
    "Macrophages_GEO"
   ]
  },
  {
   "cell_type": "code",
   "execution_count": null,
   "id": "afc2ab66-48d4-4d78-ab34-9c946b316f33",
   "metadata": {},
   "outputs": [],
   "source": [
    "obs = ['doublet_scores', 'predicted_doublets', 'doublet_info', 'res_0.5', 'res_0', 'res_0.8', 'res_1.0', 'res_1.5', 'res_2.0', 'res_2.5']\n",
    "var = ['highly_variable', 'highly_variable_rank', 'means', 'variances', 'variances_norm', 'highly_variable_nbatches']\n",
    "\n",
    "for obs in obs:\n",
    "    del Macrophages_GEO.obs[obs]\n",
    "\n",
    "for var in var:\n",
    "    del Macrophages_GEO.var[var]\n",
    "\n",
    "del Macrophages_GEO.uns\n",
    "del Macrophages_GEO.obsm\n",
    "del Macrophages_GEO.varm\n",
    "del Macrophages_GEO.obsp\n",
    "\n",
    "Macrophages_GEO"
   ]
  },
  {
   "cell_type": "markdown",
   "id": "a5828d06-a958-452a-aca3-cc18c20cc663",
   "metadata": {
    "jp-MarkdownHeadingCollapsed": true
   },
   "source": [
    "## 2.1. HVG selection"
   ]
  },
  {
   "cell_type": "code",
   "execution_count": null,
   "id": "3070b0bf-85b4-49bb-9101-8be92187e423",
   "metadata": {},
   "outputs": [],
   "source": [
    "sc.pp.highly_variable_genes(Macrophages_GEO,\n",
    "                            n_top_genes = 4000, flavor = \"seurat_v3\",\n",
    "                            layer = \"raw_counts\", batch_key = 'sample_id',\n",
    "                            subset = False)"
   ]
  },
  {
   "cell_type": "markdown",
   "id": "ce1cd575-106a-4d17-8a13-9be4ab208ace",
   "metadata": {
    "jp-MarkdownHeadingCollapsed": true
   },
   "source": [
    "## 2.2. scVI integration"
   ]
  },
  {
   "cell_type": "code",
   "execution_count": null,
   "id": "2658cd58-255c-4247-8959-871f13e3c155",
   "metadata": {},
   "outputs": [],
   "source": [
    "adata_train = Macrophages_GEO[:, Macrophages_GEO.var.highly_variable].copy()\n",
    "adata_train"
   ]
  },
  {
   "cell_type": "code",
   "execution_count": null,
   "id": "f94b4ccf-21c3-42d7-89ea-c821529400b8",
   "metadata": {},
   "outputs": [],
   "source": [
    "scvi.model.SCVI.setup_anndata(adata_train, layer = \"raw_counts\", batch_key = 'patient_id')\n",
    "vae = scvi.model.SCVI(adata_train, n_layers = 2, n_latent = 30, latent_distribution = \"normal\", gene_likelihood = \"nb\")\n",
    "vae.train(accelerator = \"cpu\")"
   ]
  },
  {
   "cell_type": "code",
   "execution_count": null,
   "id": "021fd605-d48d-4417-a09b-d458f1ee80c4",
   "metadata": {},
   "outputs": [],
   "source": [
    "Macrophages_GEO.obsm[\"X_scVI\"] = vae.get_latent_representation()\n",
    "Macrophages_GEO.obsm[\"denoised_RNA\"] = vae.get_normalized_expression()"
   ]
  },
  {
   "cell_type": "code",
   "execution_count": null,
   "id": "716abb94-2418-4437-af98-77ac74e8dff2",
   "metadata": {},
   "outputs": [],
   "source": [
    "sc.pp.neighbors(Macrophages_GEO, n_neighbors = 15, use_rep = \"X_scVI\", key_added = \"scVI\")\n",
    "sc.tl.leiden(Macrophages_GEO, resolution = 0.5, key_added = 'res_0.5', neighbors_key = \"scVI\")\n",
    "sc.tl.paga(Macrophages_GEO, groups = 'res_0.5', neighbors_key = \"scVI\")\n",
    "sc.pl.paga(Macrophages_GEO, frameon = True, edge_width_scale = 0.3)\n",
    "sc.tl.umap(Macrophages_GEO, neighbors_key = \"scVI\", init_pos = 'paga')"
   ]
  },
  {
   "cell_type": "markdown",
   "id": "7ce4cc23-bfaa-49ab-a3b6-d6f5b6baf286",
   "metadata": {
    "jp-MarkdownHeadingCollapsed": true
   },
   "source": [
    "## 2.3. Clustering"
   ]
  },
  {
   "cell_type": "code",
   "execution_count": null,
   "id": "9fb387db-4c05-4ec2-9e4b-a7679eae72d9",
   "metadata": {},
   "outputs": [],
   "source": [
    "clustering_labels = []\n",
    "for res in [0, 0.8, 1.0, 1.5, 2.0, 2.5]:\n",
    "    clustering_labels.append(\"res_{}\".format(res))\n",
    "    if \"res_{}\".format(res) in Macrophages_GEO.obs:\n",
    "        print(\"res_{}\".format(res) + \" already exists... going on with next resolution.\")\n",
    "        continue\n",
    "    sc.tl.leiden(Macrophages_GEO, resolution = res, key_added = \"res_{}\".format(res), neighbors_key = \"scVI\")"
   ]
  },
  {
   "cell_type": "code",
   "execution_count": null,
   "id": "08269e05-580d-4328-b134-9a52e7451821",
   "metadata": {},
   "outputs": [],
   "source": [
    "clustering_labels = ['res_0.5', 'res_0.8', 'res_1.0', 'res_1.5', 'res_2.0', 'res_2.5']\n",
    "sc.pl.umap(Macrophages_GEO, color = clustering_labels, legend_loc = 'on data', legend_fontsize = 10, legend_fontoutline = 2, legend_fontweight = 8, wspace = .5, ncols = 3, frameon = True)"
   ]
  },
  {
   "cell_type": "markdown",
   "id": "be34a49e-7e4b-431a-996e-feac7489f496",
   "metadata": {
    "jp-MarkdownHeadingCollapsed": true
   },
   "source": [
    "## 2.4. Save the final object"
   ]
  },
  {
   "cell_type": "code",
   "execution_count": null,
   "id": "4f2441a1-8c55-45df-903b-10d09edd598d",
   "metadata": {},
   "outputs": [],
   "source": [
    "outfilename = os.path.join(data_folder, \"HealthyLiver_GEO_RecMacrophages.h5ad\")\n",
    "print(\"Saving h5ad data to file {}\".format(outfilename))\n",
    "Macrophages_GEO.write(outfilename)\n",
    "print(\"Done!\")"
   ]
  },
  {
   "cell_type": "code",
   "execution_count": null,
   "id": "8f58b66b-3d2f-4c31-aad8-f1ff91e8916d",
   "metadata": {},
   "outputs": [],
   "source": [
    "outfilename = os.path.join(data_folder, \"HealthyLiver_GEO_RecMacrophages.h5ad\")\n",
    "Macrophages_GEO = sc.read_h5ad(outfilename)\n",
    "Macrophages_GEO"
   ]
  },
  {
   "cell_type": "markdown",
   "id": "26b54827-43d4-4f00-8728-1bcb09fd19e3",
   "metadata": {
    "jp-MarkdownHeadingCollapsed": true
   },
   "source": [
    "## 2.5. UMAP"
   ]
  },
  {
   "cell_type": "code",
   "execution_count": null,
   "id": "4b2e2089-eecc-404d-8d01-2bf134869bf2",
   "metadata": {},
   "outputs": [],
   "source": [
    "clustering_labels = ['res_0.5', 'res_0.8', 'res_1.0', 'res_1.5']\n",
    "Macrophages_GEO.obs['Rename'] = \"HL\" + Macrophages_GEO.obs['res_0.8'].astype(str)\n",
    "\n",
    "sc.pl.umap(Subset_liver_HL, color = 'Rename', legend_loc = 'on data', legend_fontsize = 14, legend_fontoutline = 2,\n",
    "           legend_fontweight = 1, title = 'Healthy Liver clusters', frameon = True,\n",
    "           save = 'UMAP Reclustering Macrophages Healthy liver GEO.png')"
   ]
  },
  {
   "cell_type": "markdown",
   "id": "d09dc5fc-f0f8-4df2-b291-32ef74c95dd3",
   "metadata": {
    "jp-MarkdownHeadingCollapsed": true
   },
   "source": [
    "## 2.6. ViolinPlot"
   ]
  },
  {
   "cell_type": "code",
   "execution_count": null,
   "id": "848d62f5-be7a-4514-b592-b2676e98fdcd",
   "metadata": {},
   "outputs": [],
   "source": [
    "KC = ['CD5L', 'VSIG4', 'MS4A4A', 'SLC16A9', 'TMEM132E', 'SLC1A3', 'CD163', 'FOLR2', 'TIMD4', 'GFRA2', 'ADRB1', 'TMEM26', 'SLC40A1',\n",
    "      'VCAM1', 'SUCNR1', 'NDST3', 'CETP', 'LYVE1', 'MARCO', 'SDC3', 'CXCL12', 'LILRB5', 'SCD', 'SELENBP1',\n",
    "      'MMP19', 'LGMN', 'HMOX1', 'CTSL', 'C2', 'FABP3', 'TMEM37', 'RND3']\n",
    "\n",
    "colors = list(Macrophages_GEO.uns['Rename_colors'])\n",
    "\n",
    "sc.pl.stacked_violin(Macrophages_GEO, KC, 'Rename', standard_scale = 'var', swap_axes = False, dendrogram = False, scale = 'count', row_palette = colors, yticklabels = False, \n",
    "             save = \"Reclustering Macrophages GEO dataset_res 0.8_Signature KC.png\")"
   ]
  },
  {
   "cell_type": "markdown",
   "id": "d3d509d9-35e7-46e2-9172-3796c6f342ee",
   "metadata": {},
   "source": [
    "## 2.7. Module score"
   ]
  },
  {
   "cell_type": "code",
   "execution_count": null,
   "id": "17385ad6-7b9f-4094-8279-5fb8d7172ff2",
   "metadata": {},
   "outputs": [],
   "source": [
    "Cytoxic_Inflammatory = ['PRF1', 'GZMM', 'GZMA', 'KLRB1', 'GZMK', 'GZMH', 'IL32', 'CCL5', 'GZMB', 'GNLY', 'IFNG', 'TNF', 'CST7', 'NKG7', 'EOMES', 'EFHD2', 'F2R', 'SLAMF7', \"IL1B\", \"IL2\", \"IL4\"]\n",
    "sc.tl.score_genes(Macrophages_GEO, Cytoxic_Inflammatory, ctrl_size = 50, gene_pool = None, n_bins = 25, score_name = 'Cytoxic_Inflammatory_score', random_state = 0, copy = False)\n",
    "sc.pl.umap(Macrophages_GEO, color = 'Cytoxic_Inflammatory_score', vmin = 0, vmax = 1, size = 50, cmap = 'inferno', title = 'Cytotoxic-Inflammatory Score', save = 'Cytoxic_Inflammatory_Score macrophages Healthy Liver.png')"
   ]
  },
  {
   "cell_type": "markdown",
   "id": "1f086c9c-6600-48e2-93cf-ec4702cc02d9",
   "metadata": {
    "jp-MarkdownHeadingCollapsed": true,
    "tags": []
   },
   "source": [
    "# 3. **Healthy blood – GEO: GSE260763**"
   ]
  },
  {
   "cell_type": "markdown",
   "id": "d839c17f-6210-4fc5-86a9-f02b2e0eaeb2",
   "metadata": {
    "jp-MarkdownHeadingCollapsed": true
   },
   "source": [
    "## 3.1. Create the anndata"
   ]
  },
  {
   "cell_type": "code",
   "execution_count": null,
   "id": "113b7bcc-faa3-40c3-9d19-497dc117ad2a",
   "metadata": {},
   "outputs": [],
   "source": [
    "p01 = '.../HealthyBlood_raw/filtered_feature_bc_matrix_VCOV_01_P1.h5'\n",
    "p12 = '.../HealthyBlood_raw/filtered_feature_bc_matrix_VCOV_012_P1.h5'\n",
    "p14 = '.../HealthyBlood_raw/filtered_feature_bc_matrix_VCOV_014_P1.h5'\n",
    "p03 = '.../HealthyBlood_raw/filtered_feature_bc_matrix_VCOV_03_P1.h5'\n",
    "p08 = '.../HealthyBlood_raw/filtered_feature_bc_matrix_VCOV_08_P1.h5'\n",
    "p09 = '.../HealthyBlood_raw/filtered_feature_bc_matrix_VCOV_09_P1.h5'\n",
    "\n",
    "p01 = sc.read_10x_h5(p01, gex_only = False)\n",
    "p01.var_names_make_unique()\n",
    "\n",
    "p12 = sc.read_10x_h5(p12, gex_only = False)\n",
    "p12.var_names_make_unique()\n",
    "\n",
    "p14 = sc.read_10x_h5(p14, gex_only = False)\n",
    "p14.var_names_make_unique()\n",
    "\n",
    "p03 = sc.read_10x_h5(p03, gex_only = False)\n",
    "p03.var_names_make_unique()\n",
    "\n",
    "p08 = sc.read_10x_h5(p08, gex_only = False)\n",
    "p08.var_names_make_unique()\n",
    "\n",
    "p09 = sc.read_10x_h5(p09, gex_only = False)\n",
    "p09.var_names_make_unique()\n",
    "\n",
    "p01.obs['donor_id'] = 'p01'\n",
    "p12.obs['donor_id'] = 'p12'\n",
    "p14.obs['donor_id'] = 'p14'\n",
    "p03.obs['donor_id'] = 'p03'\n",
    "p08.obs['donor_id'] = 'p08'\n",
    "p09.obs['donor_id'] = 'p09'\n",
    "\n",
    "k = [p01, p12, p14, p03, p08, p09]\n",
    "for k in k:\n",
    "    k.var['mt'] = k.var_names.str.startswith('MT-')              # mitochondrial genes\n",
    "    k.var['ribo'] = k.var_names.str.startswith((\"RPS\",\"RPL\"))      # ribosomal genes\n",
    "    k.var['hb'] = k.var_names.str.contains((\"^HB[^(P)]\"))        # hemoglobin genes\n",
    "    sc.pp.calculate_qc_metrics(k, qc_vars = ['mt','ribo','hb'], percent_top = None, log1p = False, inplace = True)"
   ]
  },
  {
   "cell_type": "markdown",
   "id": "30114846-4da0-4d6b-b38b-270130473a34",
   "metadata": {
    "jp-MarkdownHeadingCollapsed": true
   },
   "source": [
    "## 3.2. QC filters"
   ]
  },
  {
   "cell_type": "markdown",
   "id": "190d5736-4aa7-499d-af46-b52454cb5c19",
   "metadata": {
    "jp-MarkdownHeadingCollapsed": true
   },
   "source": [
    "### *p01*"
   ]
  },
  {
   "cell_type": "code",
   "execution_count": null,
   "id": "f3afd0dc-c765-4dc5-aec7-9740b9276f20",
   "metadata": {},
   "outputs": [],
   "source": [
    "MIN_GENES_H1 = 500\n",
    "MAX_GENES_H1 = 4000\n",
    "MIN_UMI_H1 = 1400\n",
    "MAX_UMI_H1 = 18000\n",
    "MIN_CELLS_H1 = 3\n",
    "MT_PERCENTAGE_H1 = 8\n",
    "RIBO_PERCENTAGE_H1 = 0.05"
   ]
  },
  {
   "cell_type": "code",
   "execution_count": null,
   "id": "c7464616-4668-4647-9fa3-770075659f91",
   "metadata": {},
   "outputs": [],
   "source": [
    "plt.figure(figsize = (12, 4), tight_layout = True)\n",
    "\n",
    "ax = plt.subplot(1, 2, 1)\n",
    "sns.kdeplot(p01.obs['pct_counts_mt'], shade = True, color = 'limegreen', ax = ax)\n",
    "plt.axvline(MT_PERCENTAGE_H1, 0, 1, c = 'red')\n",
    "ax.set_xlim([0, 20])\n",
    "plt.grid(False)\n",
    "\n",
    "plt.subplot(1, 2, 2)\n",
    "sns.kdeplot(p01.obs['pct_counts_ribo'], shade = True, color = 'deepskyblue')\n",
    "plt.axvline(RIBO_PERCENTAGE_H1, 0, 1, c = 'red')\n",
    "\n",
    "plt.grid(False)\n",
    "plt.show()"
   ]
  },
  {
   "cell_type": "code",
   "execution_count": null,
   "id": "f2639251-2e7f-4269-8829-b0af377a0702",
   "metadata": {},
   "outputs": [],
   "source": [
    "plt.figure(figsize = (12, 4), tight_layout = True)\n",
    "plt.subplot(1, 2, 1)\n",
    "sns.kdeplot(np.log10(p01.obs['total_counts']), shade = True, color = 'orangered')\n",
    "plt.axvline(np.log10(MIN_UMI_H1), 0, 1, c = 'red')\n",
    "plt.axvline(np.log10(MAX_UMI_H1), 0, 1, c = 'darkred')\n",
    "plt.grid(False)\n",
    "\n",
    "plt.subplot(1, 2, 2)\n",
    "sns.kdeplot(np.log10(p01.obs['n_genes_by_counts']), shade = True, color = 'darkorange')\n",
    "plt.axvline(np.log10(MIN_GENES_H1), 0, 1, c = 'red')\n",
    "plt.axvline(np.log10(MAX_GENES_H1), 0, 1, c = 'darkred')\n",
    "plt.grid(False)\n",
    "\n",
    "plt.show()"
   ]
  },
  {
   "cell_type": "code",
   "execution_count": null,
   "id": "2958589c-34e1-407d-831b-83bc18a2be70",
   "metadata": {},
   "outputs": [],
   "source": [
    "print(\"Cell x Genes before filtering\")\n",
    "print(p01.n_obs, p01.n_vars)"
   ]
  },
  {
   "cell_type": "code",
   "execution_count": null,
   "id": "c81291ff-2e5b-4888-ad0e-a00d4404588d",
   "metadata": {},
   "outputs": [],
   "source": [
    "sc.pp.filter_cells(p01, min_genes = MIN_GENES_H1)\n",
    "sc.pp.filter_cells(p01, max_genes = MAX_GENES_H1)\n",
    "sc.pp.filter_cells(p01, min_counts = MIN_UMI_H1)\n",
    "sc.pp.filter_cells(p01, max_counts = MAX_UMI_H1)\n",
    "sc.pp.filter_genes(p01, min_cells = MIN_CELLS_H1)\n",
    "\n",
    "print(\"Cell x Genes after filtering\")\n",
    "print(p01.n_obs, p01.n_vars)"
   ]
  },
  {
   "cell_type": "code",
   "execution_count": null,
   "id": "e426d167-aa28-4c08-b5e5-98c2e7bad3e9",
   "metadata": {},
   "outputs": [],
   "source": [
    "p01 = p01[p01.obs['pct_counts_mt'] < MT_PERCENTAGE_H1, :]\n",
    "p01 = p01[p01.obs['pct_counts_ribo'] > RIBO_PERCENTAGE_H1, :]\n",
    "print(\"Remaining cells %d\"%p01.n_obs)"
   ]
  },
  {
   "cell_type": "markdown",
   "id": "a56feded-a5be-4074-ae06-2475b9b3ffec",
   "metadata": {
    "jp-MarkdownHeadingCollapsed": true
   },
   "source": [
    "### *p12*"
   ]
  },
  {
   "cell_type": "code",
   "execution_count": null,
   "id": "9667d52f-36ea-464c-8378-9182c13c634d",
   "metadata": {},
   "outputs": [],
   "source": [
    "MIN_GENES_H12 = 500\n",
    "MAX_GENES_H12 = 4000\n",
    "MIN_UMI_H12 = 1200\n",
    "MAX_UMI_H12 = 15000\n",
    "MIN_CELLS_H12 = 3\n",
    "MT_PERCENTAGE_H12 = 8\n",
    "RIBO_PERCENTAGE_H12 = 0.05"
   ]
  },
  {
   "cell_type": "code",
   "execution_count": null,
   "id": "f8f98d03-3079-41d7-8aaa-1376a8a76e95",
   "metadata": {},
   "outputs": [],
   "source": [
    "plt.figure(figsize = (12, 4), tight_layout = True)\n",
    "\n",
    "ax = plt.subplot(1, 2, 1)\n",
    "sns.kdeplot(p12.obs['pct_counts_mt'], shade = True, color = 'limegreen', ax = ax)\n",
    "plt.axvline(MT_PERCENTAGE_H12, 0, 1, c = 'red')\n",
    "ax.set_xlim([0, 20])\n",
    "plt.grid(False)\n",
    "\n",
    "plt.subplot(1, 2, 2)\n",
    "sns.kdeplot(p12.obs['pct_counts_ribo'], shade = True, color = 'deepskyblue')\n",
    "plt.axvline(RIBO_PERCENTAGE_H12, 0, 1, c = 'red')\n",
    "\n",
    "plt.grid(False)\n",
    "plt.show()"
   ]
  },
  {
   "cell_type": "code",
   "execution_count": null,
   "id": "9efb2516-113f-4723-bdb9-9b89eade5586",
   "metadata": {},
   "outputs": [],
   "source": [
    "plt.figure(figsize = (12, 4), tight_layout = True)\n",
    "plt.subplot(1, 2, 1)\n",
    "sns.kdeplot(np.log10(p12.obs['total_counts']), shade = True, color = 'orangered')\n",
    "plt.axvline(np.log10(MIN_UMI_H12), 0, 1, c = 'red')\n",
    "plt.axvline(np.log10(MAX_UMI_H12), 0, 1, c = 'darkred')\n",
    "plt.grid(False)\n",
    "\n",
    "plt.subplot(1, 2, 2)\n",
    "sns.kdeplot(np.log10(p12.obs['n_genes_by_counts']), shade = True, color = 'darkorange')\n",
    "plt.axvline(np.log10(MIN_GENES_H12), 0, 1, c = 'red')\n",
    "plt.axvline(np.log10(MAX_GENES_H12), 0, 1, c = 'darkred')\n",
    "plt.grid(False)\n",
    "\n",
    "plt.show()"
   ]
  },
  {
   "cell_type": "code",
   "execution_count": null,
   "id": "83b399f0-3c15-422d-aeec-fb1884dbd140",
   "metadata": {},
   "outputs": [],
   "source": [
    "print(\"Cell x Genes before filtering\")\n",
    "print(p12.n_obs, p12.n_vars)"
   ]
  },
  {
   "cell_type": "code",
   "execution_count": null,
   "id": "43a4bb6d-b7d4-4cbb-ae52-ebe7ae9b00c3",
   "metadata": {},
   "outputs": [],
   "source": [
    "sc.pp.filter_cells(p12, min_genes = MIN_GENES_H12)\n",
    "sc.pp.filter_cells(p12, max_genes = MAX_GENES_H12)\n",
    "sc.pp.filter_cells(p12, min_counts = MIN_UMI_H12)\n",
    "sc.pp.filter_cells(p12, max_counts = MAX_UMI_H12)\n",
    "sc.pp.filter_genes(p12, min_cells = MIN_CELLS_H12)\n",
    "\n",
    "print(\"Cell x Genes after filtering\")\n",
    "print(p12.n_obs, p12.n_vars)"
   ]
  },
  {
   "cell_type": "code",
   "execution_count": null,
   "id": "b3d6c36e-64ae-4eb9-a5b4-abf8c5d7b1ce",
   "metadata": {},
   "outputs": [],
   "source": [
    "p12 = p12[p12.obs['pct_counts_mt'] < MT_PERCENTAGE_H12, :]\n",
    "p12 = p12[p12.obs['pct_counts_ribo'] > RIBO_PERCENTAGE_H12, :]\n",
    "print(\"Remaining cells %d\"%p01.n_obs)"
   ]
  },
  {
   "cell_type": "markdown",
   "id": "e42eb528-dffb-4f77-8c65-fe1301305499",
   "metadata": {},
   "source": [
    "### Plot before filtering"
   ]
  },
  {
   "cell_type": "code",
   "execution_count": null,
   "id": "b44cc10d-d9c3-4fc6-acdf-ff2afe9d1157",
   "metadata": {},
   "outputs": [],
   "source": [
    "MIN_GENES_H12 = 500\n",
    "MAX_GENES_H12 = 4000\n",
    "MIN_UMI_H12 = 1200\n",
    "MAX_UMI_H12 = 15000\n",
    "MIN_CELLS_H12 = 3\n",
    "MT_PERCENTAGE_H12 = 8\n",
    "RIBO_PERCENTAGE_H12 = 0.05"
   ]
  },
  {
   "cell_type": "code",
   "execution_count": null,
   "id": "b6a0d172-f1cc-4652-8eb6-70e5eb642fa0",
   "metadata": {},
   "outputs": [],
   "source": [
    "plt.figure(figsize = (12, 4), tight_layout = True)\n",
    "\n",
    "ax = plt.subplot(1, 2, 1)\n",
    "sns.kdeplot(p12.obs['pct_counts_mt'], shade = True, color = 'limegreen', ax = ax)\n",
    "plt.axvline(MT_PERCENTAGE_H12, 0, 1, c = 'red')\n",
    "ax.set_xlim([0, 20])\n",
    "plt.grid(False)\n",
    "\n",
    "plt.subplot(1, 2, 2)\n",
    "sns.kdeplot(p12.obs['pct_counts_ribo'], shade = True, color = 'deepskyblue')\n",
    "plt.axvline(RIBO_PERCENTAGE_H12, 0, 1, c = 'red')\n",
    "\n",
    "plt.grid(False)\n",
    "plt.show()"
   ]
  },
  {
   "cell_type": "code",
   "execution_count": null,
   "id": "bf764f6b-3b4e-48bc-afaa-fca96832ff39",
   "metadata": {},
   "outputs": [],
   "source": [
    "plt.figure(figsize = (12, 4), tight_layout = True)\n",
    "plt.subplot(1, 2, 1)\n",
    "sns.kdeplot(np.log10(p12.obs['total_counts']), shade = True, color = 'orangered')\n",
    "plt.axvline(np.log10(MIN_UMI_H12), 0, 1, c = 'red')\n",
    "plt.axvline(np.log10(MAX_UMI_H12), 0, 1, c = 'darkred')\n",
    "plt.grid(False)\n",
    "\n",
    "plt.subplot(1, 2, 2)\n",
    "sns.kdeplot(np.log10(p12.obs['n_genes_by_counts']), shade = True, color = 'darkorange')\n",
    "plt.axvline(np.log10(MIN_GENES_H12), 0, 1, c = 'red')\n",
    "plt.axvline(np.log10(MAX_GENES_H12), 0, 1, c = 'darkred')\n",
    "plt.grid(False)\n",
    "\n",
    "plt.show()"
   ]
  },
  {
   "cell_type": "markdown",
   "id": "b8c72e31-5752-4d2d-b677-68b121854ac7",
   "metadata": {},
   "source": [
    "### Filtering"
   ]
  },
  {
   "cell_type": "code",
   "execution_count": null,
   "id": "caf18578-875a-45b0-b0cd-bf880400b037",
   "metadata": {},
   "outputs": [],
   "source": [
    "print(\"Cell x Genes before filtering\")\n",
    "print(p12.n_obs, p12.n_vars)"
   ]
  },
  {
   "cell_type": "code",
   "execution_count": null,
   "id": "5c0b66c0-1c8b-4580-98ad-a9a02b758dad",
   "metadata": {},
   "outputs": [],
   "source": [
    "sc.pp.filter_cells(p12, min_genes = MIN_GENES_H12)\n",
    "sc.pp.filter_cells(p12, max_genes = MAX_GENES_H12)\n",
    "sc.pp.filter_cells(p12, min_counts = MIN_UMI_H12)\n",
    "sc.pp.filter_cells(p12, max_counts = MAX_UMI_H12)\n",
    "sc.pp.filter_genes(p12, min_cells = MIN_CELLS_H12)\n",
    "\n",
    "print(\"Cell x Genes after filtering\")\n",
    "print(p12.n_obs, p12.n_vars)"
   ]
  },
  {
   "cell_type": "code",
   "execution_count": null,
   "id": "d789ad7d-ecf0-4919-940b-b1864cdcfd7e",
   "metadata": {},
   "outputs": [],
   "source": [
    "p12 = p12[p12.obs['pct_counts_mt'] < MT_PERCENTAGE_H12, :]\n",
    "p12 = p12[p12.obs['pct_counts_ribo'] > RIBO_PERCENTAGE_H12, :]\n",
    "print(\"Remaining cells %d\"%p01.n_obs)"
   ]
  },
  {
   "cell_type": "markdown",
   "id": "d9c85d2b-852e-444d-a4ec-74204363e9a7",
   "metadata": {
    "jp-MarkdownHeadingCollapsed": true
   },
   "source": [
    "### *p14*"
   ]
  },
  {
   "cell_type": "code",
   "execution_count": null,
   "id": "8c66efd1-1a11-4052-9fe2-570aad1b4a12",
   "metadata": {},
   "outputs": [],
   "source": [
    "MIN_GENES_H14 = 500\n",
    "MAX_GENES_H14 = 4000\n",
    "MIN_UMI_H14 = 1400\n",
    "MAX_UMI_H14 = 13000\n",
    "MIN_CELLS_H14 = 3\n",
    "MT_PERCENTAGE_H14 = 8\n",
    "RIBO_PERCENTAGE_H14 = 0.05"
   ]
  },
  {
   "cell_type": "code",
   "execution_count": null,
   "id": "d58b988a-3914-4c1f-84b1-47e652b22e92",
   "metadata": {},
   "outputs": [],
   "source": [
    "plt.figure(figsize = (12, 4), tight_layout = True)\n",
    "\n",
    "ax = plt.subplot(1, 2, 1)\n",
    "sns.kdeplot(p14.obs['pct_counts_mt'], shade = True, color = 'limegreen', ax = ax)\n",
    "plt.axvline(MT_PERCENTAGE_H14, 0, 1, c = 'red')\n",
    "ax.set_xlim([0, 20])\n",
    "plt.grid(False)\n",
    "\n",
    "plt.subplot(1, 2, 2)\n",
    "sns.kdeplot(p14.obs['pct_counts_ribo'], shade = True, color = 'deepskyblue')\n",
    "plt.axvline(RIBO_PERCENTAGE_H14, 0, 1, c = 'red')\n",
    "\n",
    "plt.grid(False)\n",
    "plt.show()"
   ]
  },
  {
   "cell_type": "code",
   "execution_count": null,
   "id": "0b66c996-3b08-4370-9135-61a6e0a42903",
   "metadata": {},
   "outputs": [],
   "source": [
    "plt.figure(figsize = (12, 4), tight_layout = True)\n",
    "plt.subplot(1, 2, 1)\n",
    "sns.kdeplot(np.log10(p14.obs['total_counts']), shade = True, color = 'orangered')\n",
    "plt.axvline(np.log10(MIN_UMI_H14), 0, 1, c = 'red')\n",
    "plt.axvline(np.log10(MAX_UMI_H14), 0, 1, c = 'darkred')\n",
    "plt.grid(False)\n",
    "\n",
    "plt.subplot(1, 2, 2)\n",
    "sns.kdeplot(np.log10(p14.obs['n_genes_by_counts']), shade = True, color = 'darkorange')\n",
    "plt.axvline(np.log10(MIN_GENES_H14), 0, 1, c = 'red')\n",
    "plt.axvline(np.log10(MAX_GENES_H14), 0, 1, c = 'darkred')\n",
    "plt.grid(False)\n",
    "\n",
    "plt.show()"
   ]
  },
  {
   "cell_type": "code",
   "execution_count": null,
   "id": "c9f5399b-1d0d-4a32-91a0-f1ea8763c7b2",
   "metadata": {},
   "outputs": [],
   "source": [
    "print(\"Cell x Genes before filtering\")\n",
    "print(p14.n_obs, p14.n_vars)"
   ]
  },
  {
   "cell_type": "code",
   "execution_count": null,
   "id": "ce82c30a-9097-4581-99d5-7c0762de912e",
   "metadata": {},
   "outputs": [],
   "source": [
    "sc.pp.filter_cells(p14, min_genes = MIN_GENES_H14)\n",
    "sc.pp.filter_cells(p14, max_genes = MAX_GENES_H14)\n",
    "sc.pp.filter_cells(p14, min_counts = MIN_UMI_H14)\n",
    "sc.pp.filter_cells(p14, max_counts = MAX_UMI_H14)\n",
    "sc.pp.filter_genes(p14, min_cells = MIN_CELLS_H14)\n",
    "\n",
    "print(\"Cell x Genes after filtering\")\n",
    "print(p14.n_obs, p14.n_vars)"
   ]
  },
  {
   "cell_type": "code",
   "execution_count": null,
   "id": "4d242a7c-9d13-484c-994b-4aa69ff55406",
   "metadata": {},
   "outputs": [],
   "source": [
    "p14 = p14[p14.obs['pct_counts_mt'] < MT_PERCENTAGE_H14, :]\n",
    "p14 = p14[p14.obs['pct_counts_ribo'] > RIBO_PERCENTAGE_H14, :]\n",
    "print(\"Remaining cells %d\"%p01.n_obs)"
   ]
  },
  {
   "cell_type": "markdown",
   "id": "594c8d47-0dc5-440b-b257-1ff3880c6c21",
   "metadata": {
    "jp-MarkdownHeadingCollapsed": true
   },
   "source": [
    "### *p03*"
   ]
  },
  {
   "cell_type": "code",
   "execution_count": null,
   "id": "02bc4335-adf8-4fe6-8f81-be6156eb34c8",
   "metadata": {},
   "outputs": [],
   "source": [
    "MIN_GENES_H3 = 700\n",
    "MAX_GENES_H3 = 4500\n",
    "MIN_UMI_H3 = 1400\n",
    "MAX_UMI_H3 = 18000\n",
    "MIN_CELLS_H3 = 3\n",
    "MT_PERCENTAGE_H3 = 8\n",
    "RIBO_PERCENTAGE_H3 = 0.05"
   ]
  },
  {
   "cell_type": "code",
   "execution_count": null,
   "id": "460073fc-cd21-4d23-be54-44cbcb03aaaa",
   "metadata": {},
   "outputs": [],
   "source": [
    "plt.figure(figsize = (12, 4), tight_layout = True)\n",
    "\n",
    "ax = plt.subplot(1, 2, 1)\n",
    "sns.kdeplot(p03.obs['pct_counts_mt'], shade = True, color = 'limegreen', ax = ax)\n",
    "plt.axvline(MT_PERCENTAGE_H3, 0, 1, c = 'red')\n",
    "ax.set_xlim([0, 20])\n",
    "plt.grid(False)\n",
    "\n",
    "plt.subplot(1, 2, 2)\n",
    "sns.kdeplot(p03.obs['pct_counts_ribo'], shade = True, color = 'deepskyblue')\n",
    "plt.axvline(RIBO_PERCENTAGE_H3, 0, 1, c = 'red')\n",
    "\n",
    "plt.grid(False)\n",
    "plt.show()"
   ]
  },
  {
   "cell_type": "code",
   "execution_count": null,
   "id": "9f031dd1-4aec-4c38-976d-836eb19a3d6d",
   "metadata": {},
   "outputs": [],
   "source": [
    "plt.figure(figsize = (12, 4), tight_layout = True)\n",
    "plt.subplot(1, 2, 1)\n",
    "sns.kdeplot(np.log10(p03.obs['total_counts']), shade = True, color = 'orangered')\n",
    "plt.axvline(np.log10(MIN_UMI_H3), 0, 1, c = 'red')\n",
    "plt.axvline(np.log10(MAX_UMI_H3), 0, 1, c = 'darkred')\n",
    "plt.grid(False)\n",
    "\n",
    "plt.subplot(1, 2, 2)\n",
    "sns.kdeplot(np.log10(p03.obs['n_genes_by_counts']), shade = True, color = 'darkorange')\n",
    "plt.axvline(np.log10(MIN_GENES_H3), 0, 1, c = 'red')\n",
    "plt.axvline(np.log10(MAX_GENES_H3), 0, 1, c = 'darkred')\n",
    "plt.grid(False)\n",
    "\n",
    "plt.show()"
   ]
  },
  {
   "cell_type": "code",
   "execution_count": null,
   "id": "9c6fe20f-6113-4652-a2ae-5de0910dbfd9",
   "metadata": {},
   "outputs": [],
   "source": [
    "print(\"Cell x Genes before filtering\")\n",
    "print(p03.n_obs, p03.n_vars)"
   ]
  },
  {
   "cell_type": "code",
   "execution_count": null,
   "id": "c9633153-dadb-4f61-b39e-d2cfe2ab075f",
   "metadata": {},
   "outputs": [],
   "source": [
    "sc.pp.filter_cells(p03, min_genes = MIN_GENES_H3)\n",
    "sc.pp.filter_cells(p03, max_genes = MAX_GENES_H3)\n",
    "sc.pp.filter_cells(p03, min_counts = MIN_UMI_H3)\n",
    "sc.pp.filter_cells(p03, max_counts = MAX_UMI_H3)\n",
    "sc.pp.filter_genes(p03, min_cells = MIN_CELLS_H3)\n",
    "\n",
    "print(\"Cell x Genes after filtering\")\n",
    "print(p03.n_obs, p03.n_vars)"
   ]
  },
  {
   "cell_type": "code",
   "execution_count": null,
   "id": "1625860a-f192-4119-b922-37993dc3b590",
   "metadata": {},
   "outputs": [],
   "source": [
    "p03 = p03[p03.obs['pct_counts_mt'] < MT_PERCENTAGE_H3, :]\n",
    "p03 = p03[p03.obs['pct_counts_ribo'] > RIBO_PERCENTAGE_H3, :]\n",
    "print(\"Remaining cells %d\"%p01.n_obs)"
   ]
  },
  {
   "cell_type": "markdown",
   "id": "f8707961-ca88-4c39-a79f-4862cf6fe587",
   "metadata": {},
   "source": [
    "### Plot before filtering"
   ]
  },
  {
   "cell_type": "code",
   "execution_count": null,
   "id": "32e62262-1a92-4f7b-8a56-067b783555e6",
   "metadata": {},
   "outputs": [],
   "source": [
    "MIN_GENES_H3 = 700\n",
    "MAX_GENES_H3 = 4500\n",
    "MIN_UMI_H3 = 1400\n",
    "MAX_UMI_H3 = 18000\n",
    "MIN_CELLS_H3 = 3\n",
    "MT_PERCENTAGE_H3 = 8\n",
    "RIBO_PERCENTAGE_H3 = 0.05"
   ]
  },
  {
   "cell_type": "code",
   "execution_count": null,
   "id": "f8301419-5ed3-4095-a55a-ad7ab097aec7",
   "metadata": {},
   "outputs": [],
   "source": [
    "plt.figure(figsize = (12, 4), tight_layout = True)\n",
    "\n",
    "ax = plt.subplot(1, 2, 1)\n",
    "sns.kdeplot(p03.obs['pct_counts_mt'], shade = True, color = 'limegreen', ax = ax)\n",
    "plt.axvline(MT_PERCENTAGE_H3, 0, 1, c = 'red')\n",
    "ax.set_xlim([0, 20])\n",
    "plt.grid(False)\n",
    "\n",
    "plt.subplot(1, 2, 2)\n",
    "sns.kdeplot(p03.obs['pct_counts_ribo'], shade = True, color = 'deepskyblue')\n",
    "plt.axvline(RIBO_PERCENTAGE_H3, 0, 1, c = 'red')\n",
    "\n",
    "plt.grid(False)\n",
    "plt.show()"
   ]
  },
  {
   "cell_type": "code",
   "execution_count": null,
   "id": "91dfc44c-24ee-4f9b-8b09-ff758e2974b6",
   "metadata": {},
   "outputs": [],
   "source": [
    "plt.figure(figsize = (12, 4), tight_layout = True)\n",
    "plt.subplot(1, 2, 1)\n",
    "sns.kdeplot(np.log10(p03.obs['total_counts']), shade = True, color = 'orangered')\n",
    "plt.axvline(np.log10(MIN_UMI_H3), 0, 1, c = 'red')\n",
    "plt.axvline(np.log10(MAX_UMI_H3), 0, 1, c = 'darkred')\n",
    "plt.grid(False)\n",
    "\n",
    "plt.subplot(1, 2, 2)\n",
    "sns.kdeplot(np.log10(p03.obs['n_genes_by_counts']), shade = True, color = 'darkorange')\n",
    "plt.axvline(np.log10(MIN_GENES_H3), 0, 1, c = 'red')\n",
    "plt.axvline(np.log10(MAX_GENES_H3), 0, 1, c = 'darkred')\n",
    "plt.grid(False)\n",
    "\n",
    "plt.show()"
   ]
  },
  {
   "cell_type": "markdown",
   "id": "9b32ea9f-ebe8-47e9-84f9-8fb169ecaebb",
   "metadata": {},
   "source": [
    "### Filtering"
   ]
  },
  {
   "cell_type": "code",
   "execution_count": null,
   "id": "8e0b8938-4ee1-4292-83af-734cc37cba0a",
   "metadata": {},
   "outputs": [],
   "source": [
    "print(\"Cell x Genes before filtering\")\n",
    "print(p03.n_obs, p03.n_vars)"
   ]
  },
  {
   "cell_type": "code",
   "execution_count": null,
   "id": "568f85db-e2ac-495d-8573-c381c7918b90",
   "metadata": {},
   "outputs": [],
   "source": [
    "sc.pp.filter_cells(p03, min_genes = MIN_GENES_H3)\n",
    "sc.pp.filter_cells(p03, max_genes = MAX_GENES_H3)\n",
    "sc.pp.filter_cells(p03, min_counts = MIN_UMI_H3)\n",
    "sc.pp.filter_cells(p03, max_counts = MAX_UMI_H3)\n",
    "sc.pp.filter_genes(p03, min_cells = MIN_CELLS_H3)\n",
    "\n",
    "print(\"Cell x Genes after filtering\")\n",
    "print(p03.n_obs, p03.n_vars)"
   ]
  },
  {
   "cell_type": "code",
   "execution_count": null,
   "id": "fe8be534-d63b-40fb-9a26-37ae2abe014d",
   "metadata": {},
   "outputs": [],
   "source": [
    "p03 = p03[p03.obs['pct_counts_mt'] < MT_PERCENTAGE_H3, :]\n",
    "p03 = p03[p03.obs['pct_counts_ribo'] > RIBO_PERCENTAGE_H3, :]\n",
    "print(\"Remaining cells %d\"%p01.n_obs)"
   ]
  },
  {
   "cell_type": "markdown",
   "id": "a2f10d04-5a79-467e-8f7b-0426976dffc6",
   "metadata": {
    "jp-MarkdownHeadingCollapsed": true
   },
   "source": [
    "### *p08*"
   ]
  },
  {
   "cell_type": "code",
   "execution_count": null,
   "id": "0088cc29-c666-462d-b265-558eda8ae40d",
   "metadata": {},
   "outputs": [],
   "source": [
    "MIN_GENES_H8 = 500\n",
    "MAX_GENES_H8 = 4000\n",
    "MIN_UMI_H8 = 1400\n",
    "MAX_UMI_H8 = 18000\n",
    "MIN_CELLS_H8 = 3\n",
    "MT_PERCENTAGE_H8 = 8\n",
    "RIBO_PERCENTAGE_H8 = 0.05"
   ]
  },
  {
   "cell_type": "code",
   "execution_count": null,
   "id": "dd36fce9-f08c-4a44-9d8d-51d77d6dd227",
   "metadata": {},
   "outputs": [],
   "source": [
    "plt.figure(figsize = (12, 4), tight_layout = True)\n",
    "\n",
    "ax = plt.subplot(1, 2, 1)\n",
    "sns.kdeplot(p08.obs['pct_counts_mt'], shade = True, color = 'limegreen', ax = ax)\n",
    "plt.axvline(MT_PERCENTAGE_H8, 0, 1, c = 'red')\n",
    "ax.set_xlim([0, 20])\n",
    "plt.grid(False)\n",
    "\n",
    "plt.subplot(1, 2, 2)\n",
    "sns.kdeplot(p08.obs['pct_counts_ribo'], shade = True, color = 'deepskyblue')\n",
    "plt.axvline(RIBO_PERCENTAGE_H8, 0, 1, c = 'red')\n",
    "\n",
    "plt.grid(False)\n",
    "plt.show()"
   ]
  },
  {
   "cell_type": "code",
   "execution_count": null,
   "id": "8c849d81-10a9-443f-878c-f86f3cc65693",
   "metadata": {},
   "outputs": [],
   "source": [
    "plt.figure(figsize = (12, 4), tight_layout = True)\n",
    "plt.subplot(1, 2, 1)\n",
    "sns.kdeplot(np.log10(p08.obs['total_counts']), shade = True, color = 'orangered')\n",
    "plt.axvline(np.log10(MIN_UMI_H8), 0, 1, c = 'red')\n",
    "plt.axvline(np.log10(MAX_UMI_H8), 0, 1, c = 'darkred')\n",
    "plt.grid(False)\n",
    "\n",
    "plt.subplot(1, 2, 2)\n",
    "sns.kdeplot(np.log10(p08.obs['n_genes_by_counts']), shade = True, color = 'darkorange')\n",
    "plt.axvline(np.log10(MIN_GENES_H8), 0, 1, c = 'red')\n",
    "plt.axvline(np.log10(MAX_GENES_H8), 0, 1, c = 'darkred')\n",
    "plt.grid(False)\n",
    "\n",
    "plt.show()"
   ]
  },
  {
   "cell_type": "code",
   "execution_count": null,
   "id": "14b3f386-70ec-45b1-be21-01cc39c26e9b",
   "metadata": {},
   "outputs": [],
   "source": [
    "print(\"Cell x Genes before filtering\")\n",
    "print(p08.n_obs, p08.n_vars)"
   ]
  },
  {
   "cell_type": "code",
   "execution_count": null,
   "id": "15a5d8eb-aa4e-42cb-83dd-7c3fa03302fb",
   "metadata": {},
   "outputs": [],
   "source": [
    "sc.pp.filter_cells(p08, min_genes = MIN_GENES_H8)\n",
    "sc.pp.filter_cells(p08, max_genes = MAX_GENES_H8)\n",
    "sc.pp.filter_cells(p08, min_counts = MIN_UMI_H8)\n",
    "sc.pp.filter_cells(p08, max_counts = MAX_UMI_H8)\n",
    "sc.pp.filter_genes(p08, min_cells = MIN_CELLS_H8)\n",
    "\n",
    "print(\"Cell x Genes after filtering\")\n",
    "print(p08.n_obs, p08.n_vars)"
   ]
  },
  {
   "cell_type": "code",
   "execution_count": null,
   "id": "8838697d-5625-474e-855a-33a2f1f5fe28",
   "metadata": {},
   "outputs": [],
   "source": [
    "p08 = p08[p08.obs['pct_counts_mt'] < MT_PERCENTAGE_H8, :]\n",
    "p08 = p08[p08.obs['pct_counts_ribo'] > RIBO_PERCENTAGE_H8, :]\n",
    "print(\"Remaining cells %d\"%p01.n_obs)"
   ]
  },
  {
   "cell_type": "markdown",
   "id": "c49fb7bd-9759-40c0-a3a5-2c47b92be73e",
   "metadata": {},
   "source": [
    "### Plot before filtering"
   ]
  },
  {
   "cell_type": "code",
   "execution_count": null,
   "id": "e48c4428-4d57-43d3-97f5-0a93ba7178d5",
   "metadata": {},
   "outputs": [],
   "source": [
    "MIN_GENES_H8 = 500\n",
    "MAX_GENES_H8 = 4000\n",
    "MIN_UMI_H8 = 1400\n",
    "MAX_UMI_H8 = 18000\n",
    "MIN_CELLS_H8 = 3\n",
    "MT_PERCENTAGE_H8 = 8\n",
    "RIBO_PERCENTAGE_H8 = 0.05"
   ]
  },
  {
   "cell_type": "code",
   "execution_count": null,
   "id": "a963fa41-f853-42b1-b56a-4ff440a5cb03",
   "metadata": {},
   "outputs": [],
   "source": [
    "plt.figure(figsize = (12, 4), tight_layout = True)\n",
    "\n",
    "ax = plt.subplot(1, 2, 1)\n",
    "sns.kdeplot(p08.obs['pct_counts_mt'], shade = True, color = 'limegreen', ax = ax)\n",
    "plt.axvline(MT_PERCENTAGE_H8, 0, 1, c = 'red')\n",
    "ax.set_xlim([0, 20])\n",
    "plt.grid(False)\n",
    "\n",
    "plt.subplot(1, 2, 2)\n",
    "sns.kdeplot(p08.obs['pct_counts_ribo'], shade = True, color = 'deepskyblue')\n",
    "plt.axvline(RIBO_PERCENTAGE_H8, 0, 1, c = 'red')\n",
    "\n",
    "plt.grid(False)\n",
    "plt.show()"
   ]
  },
  {
   "cell_type": "code",
   "execution_count": null,
   "id": "4b52a48e-fa08-41f9-b623-ea2e11c7418a",
   "metadata": {},
   "outputs": [],
   "source": [
    "plt.figure(figsize = (12, 4), tight_layout = True)\n",
    "plt.subplot(1, 2, 1)\n",
    "sns.kdeplot(np.log10(p08.obs['total_counts']), shade = True, color = 'orangered')\n",
    "plt.axvline(np.log10(MIN_UMI_H8), 0, 1, c = 'red')\n",
    "plt.axvline(np.log10(MAX_UMI_H8), 0, 1, c = 'darkred')\n",
    "plt.grid(False)\n",
    "\n",
    "plt.subplot(1, 2, 2)\n",
    "sns.kdeplot(np.log10(p08.obs['n_genes_by_counts']), shade = True, color = 'darkorange')\n",
    "plt.axvline(np.log10(MIN_GENES_H8), 0, 1, c = 'red')\n",
    "plt.axvline(np.log10(MAX_GENES_H8), 0, 1, c = 'darkred')\n",
    "plt.grid(False)\n",
    "\n",
    "plt.show()"
   ]
  },
  {
   "cell_type": "markdown",
   "id": "88319324-8f67-4b3d-b2eb-a2f8ba5a712e",
   "metadata": {},
   "source": [
    "### Filtering"
   ]
  },
  {
   "cell_type": "code",
   "execution_count": null,
   "id": "761c868f-323b-4b2f-a2e3-29f361b5a69e",
   "metadata": {},
   "outputs": [],
   "source": [
    "print(\"Cell x Genes before filtering\")\n",
    "print(p08.n_obs, p08.n_vars)"
   ]
  },
  {
   "cell_type": "code",
   "execution_count": null,
   "id": "9e86f5d4-b504-4d05-9070-62c727c0ed7a",
   "metadata": {},
   "outputs": [],
   "source": [
    "sc.pp.filter_cells(p08, min_genes = MIN_GENES_H8)\n",
    "sc.pp.filter_cells(p08, max_genes = MAX_GENES_H8)\n",
    "sc.pp.filter_cells(p08, min_counts = MIN_UMI_H8)\n",
    "sc.pp.filter_cells(p08, max_counts = MAX_UMI_H8)\n",
    "sc.pp.filter_genes(p08, min_cells = MIN_CELLS_H8)\n",
    "\n",
    "print(\"Cell x Genes after filtering\")\n",
    "print(p08.n_obs, p08.n_vars)"
   ]
  },
  {
   "cell_type": "code",
   "execution_count": null,
   "id": "026adb04-ada8-4b2f-aca9-be5666940ef0",
   "metadata": {},
   "outputs": [],
   "source": [
    "p08 = p08[p08.obs['pct_counts_mt'] < MT_PERCENTAGE_H8, :]\n",
    "p08 = p08[p08.obs['pct_counts_ribo'] > RIBO_PERCENTAGE_H8, :]\n",
    "print(\"Remaining cells %d\"%p01.n_obs)"
   ]
  },
  {
   "cell_type": "markdown",
   "id": "2c11c657-6f06-48f9-ba0c-d460e1825b9e",
   "metadata": {
    "jp-MarkdownHeadingCollapsed": true
   },
   "source": [
    "### *p09*"
   ]
  },
  {
   "cell_type": "code",
   "execution_count": null,
   "id": "965492e2-45e4-4f77-b938-1573e20d5628",
   "metadata": {},
   "outputs": [],
   "source": [
    "MIN_GENES_H9 = 500\n",
    "MAX_GENES_H9 = 4000\n",
    "MIN_UMI_H9 = 1400\n",
    "MAX_UMI_H9 = 18000\n",
    "MIN_CELLS_H9 = 3\n",
    "MT_PERCENTAGE_H9 = 8\n",
    "RIBO_PERCENTAGE_H9 = 0.05"
   ]
  },
  {
   "cell_type": "code",
   "execution_count": null,
   "id": "0cd091db-212c-4fca-94cf-15076166f944",
   "metadata": {},
   "outputs": [],
   "source": [
    "plt.figure(figsize = (12, 4), tight_layout = True)\n",
    "\n",
    "ax = plt.subplot(1, 2, 1)\n",
    "sns.kdeplot(p09.obs['pct_counts_mt'], shade = True, color = 'limegreen', ax = ax)\n",
    "plt.axvline(MT_PERCENTAGE_H9, 0, 1, c = 'red')\n",
    "ax.set_xlim([0, 20])\n",
    "plt.grid(False)\n",
    "\n",
    "plt.subplot(1, 2, 2)\n",
    "sns.kdeplot(p09.obs['pct_counts_ribo'], shade = True, color = 'deepskyblue')\n",
    "plt.axvline(RIBO_PERCENTAGE_H9, 0, 1, c = 'red')\n",
    "\n",
    "plt.grid(False)\n",
    "plt.show()"
   ]
  },
  {
   "cell_type": "code",
   "execution_count": null,
   "id": "a8fc4a43-6142-4855-bd12-2118c8633b78",
   "metadata": {},
   "outputs": [],
   "source": [
    "plt.figure(figsize = (12, 4), tight_layout = True)\n",
    "plt.subplot(1, 2, 1)\n",
    "sns.kdeplot(np.log10(p09.obs['total_counts']), shade = True, color = 'orangered')\n",
    "plt.axvline(np.log10(MIN_UMI_H9), 0, 1, c = 'red')\n",
    "plt.axvline(np.log10(MAX_UMI_H9), 0, 1, c = 'darkred')\n",
    "plt.grid(False)\n",
    "\n",
    "plt.subplot(1, 2, 2)\n",
    "sns.kdeplot(np.log10(p09.obs['n_genes_by_counts']), shade = True, color = 'darkorange')\n",
    "plt.axvline(np.log10(MIN_GENES_H9), 0, 1, c = 'red')\n",
    "plt.axvline(np.log10(MAX_GENES_H9), 0, 1, c = 'darkred')\n",
    "plt.grid(False)\n",
    "\n",
    "plt.show()"
   ]
  },
  {
   "cell_type": "code",
   "execution_count": null,
   "id": "bbbbef02-6d64-45a3-a878-9cb5c5b07367",
   "metadata": {},
   "outputs": [],
   "source": [
    "print(\"Cell x Genes before filtering\")\n",
    "print(p09.n_obs, p09.n_vars)"
   ]
  },
  {
   "cell_type": "code",
   "execution_count": null,
   "id": "fce9b5d6-2f3d-4b2f-a0e0-8381c9cb6456",
   "metadata": {},
   "outputs": [],
   "source": [
    "sc.pp.filter_cells(p09, min_genes = MIN_GENES_H9)\n",
    "sc.pp.filter_cells(p09, max_genes = MAX_GENES_H9)\n",
    "sc.pp.filter_cells(p09, min_counts = MIN_UMI_H9)\n",
    "sc.pp.filter_cells(p09, max_counts = MAX_UMI_H9)\n",
    "sc.pp.filter_genes(p09, min_cells = MIN_CELLS_H9)\n",
    "\n",
    "print(\"Cell x Genes after filtering\")\n",
    "print(p09.n_obs, p09.n_vars)"
   ]
  },
  {
   "cell_type": "code",
   "execution_count": null,
   "id": "01e5ce48-6c81-4029-b33a-586672b66dd0",
   "metadata": {},
   "outputs": [],
   "source": [
    "p09 = p09[p09.obs['pct_counts_mt'] < MT_PERCENTAGE_H9, :]\n",
    "p09 = p09[p09.obs['pct_counts_ribo'] > RIBO_PERCENTAGE_H9, :]\n",
    "print(\"Remaining cells %d\"%p01.n_obs)"
   ]
  },
  {
   "cell_type": "markdown",
   "id": "38701894-d827-4645-9e10-9838e805e59a",
   "metadata": {
    "jp-MarkdownHeadingCollapsed": true
   },
   "source": [
    "## 3.3. adata_concatenated"
   ]
  },
  {
   "cell_type": "code",
   "execution_count": null,
   "id": "e79485bf-654f-4996-9c1a-8311d18ec5ba",
   "metadata": {},
   "outputs": [],
   "source": [
    "batch_list = ['p01', 'p12', 'p14', 'p03', 'p08', 'p09']\n",
    "HealthyBlood = p01.concatenate(p12, p14, p03, p08, p09,\n",
    "                          join = 'outer',\n",
    "                          batch_key = 'donor_id',\n",
    "                          batch_categories = batch_list,\n",
    "                          uns_merge = None,\n",
    "                          index_unique = '-',\n",
    "                          fill_value = 0.0)\n",
    "HealthyBlood"
   ]
  },
  {
   "cell_type": "code",
   "execution_count": null,
   "id": "6747722d-be5e-4408-9cb2-bf1bf1b5c735",
   "metadata": {},
   "outputs": [],
   "source": [
    "HealthyBlood.var['gene_ids'] = HealthyBlood.var_names\n",
    "HealthyBlood.var['feature_types'] = 'Gene Expression'\n",
    "HealthyBlood.var['genome'] = 'GRCh38'\n",
    "\n",
    "var = ['gene_ids-p01', 'feature_types-p01', 'genome-p01', 'mt-p01', 'ribo-p01', 'hb-p01', 'n_cells_by_counts-p01', 'mean_counts-p01', 'pct_dropout_by_counts-p01', 'total_counts-p01', 'n_cells-p01',\n",
    "       'gene_ids-p03', 'feature_types-p03', 'genome-p03', 'mt-p03', 'ribo-p03', 'hb-p03', 'n_cells_by_counts-p03', 'mean_counts-p03', 'pct_dropout_by_counts-p03', 'total_counts-p03', 'n_cells-p03',\n",
    "       'gene_ids-p08', 'feature_types-p08', 'genome-p08', 'mt-p08', 'ribo-p08', 'hb-p08', 'n_cells_by_counts-p08', 'mean_counts-p08', 'pct_dropout_by_counts-p08', 'total_counts-p08', 'n_cells-p08',\n",
    "       'gene_ids-p09', 'feature_types-p09', 'genome-p09', 'mt-p09', 'ribo-p09', 'hb-p09', 'n_cells_by_counts-p09', 'mean_counts-p09', 'pct_dropout_by_counts-p09', 'total_counts-p09', 'n_cells-p09',\n",
    "       'gene_ids-p12', 'feature_types-p12', 'genome-p12', 'mt-p12', 'ribo-p12', 'hb-p12', 'n_cells_by_counts-p12', 'mean_counts-p12', 'pct_dropout_by_counts-p12', 'total_counts-p12', 'n_cells-p12',\n",
    "       'gene_ids-p14', 'feature_types-p14', 'genome-p14', 'mt-p14', 'ribo-p14', 'hb-p14', 'n_cells_by_counts-p14', 'mean_counts-p14', 'pct_dropout_by_counts-p14', 'total_counts-p14', 'n_cells-p14']\n",
    "\n",
    "for var in var:\n",
    "    del HealthyBlood.var[var]\n",
    "\n",
    "HealthyBlood.var['mt'] = HealthyBlood.var_names.str.startswith('MT-')              # mitochondrial genes\n",
    "HealthyBlood.var['ribo'] = HealthyBlood.var_names.str.startswith((\"RPS\",\"RPL\"))      # ribosomal genes\n",
    "HealthyBlood.var['hb'] = HealthyBlood.var_names.str.contains((\"^HB[^(P)]\"))        # hemoglobin genes\n",
    "\n",
    "HealthyBlood.var"
   ]
  },
  {
   "cell_type": "markdown",
   "id": "a23f5ad9-2226-4802-aae0-ce5243f05cad",
   "metadata": {
    "jp-MarkdownHeadingCollapsed": true,
    "tags": []
   },
   "source": [
    "## 3.4. Doublets filtering"
   ]
  },
  {
   "cell_type": "code",
   "execution_count": null,
   "id": "a4a00fb6-225b-4097-b49a-1cfd09fb613d",
   "metadata": {},
   "outputs": [],
   "source": [
    "print(\"Cell x Genes BEFORE doublets removal\")\n",
    "print(HealthyBlood.n_obs, HealthyBlood.n_vars)"
   ]
  },
  {
   "cell_type": "code",
   "execution_count": null,
   "id": "f4eb3da4-54aa-497a-a567-bcc09a87696b",
   "metadata": {},
   "outputs": [],
   "source": [
    "import scrublet as scr\n",
    "\n",
    "# split per batch into new objects.\n",
    "batches = list(HealthyBlood.obs['donor_id'].unique()) #HealthyBlood.obs['orig.ident'].tolist()#.cat.categories.tolist()\n",
    "alldata = {}\n",
    "for batch in batches:\n",
    "    tmp = HealthyBlood[HealthyBlood.obs['donor_id'] == batch,]\n",
    "    print(batch, \":\", tmp.shape[0], \" cells\")\n",
    "    scrub = scr.Scrublet(tmp.X)\n",
    "    out = scrub.scrub_doublets(verbose=False, n_prin_comps = 20)\n",
    "    alldata[batch] = pd.DataFrame({'doublet_score':out[0],'predicted_doublets':out[1]},index = tmp.obs.index)\n",
    "    print(alldata[batch].predicted_doublets.sum(), \" predicted_doublets\")"
   ]
  },
  {
   "cell_type": "code",
   "execution_count": null,
   "id": "72b2d009-954f-4e0f-89d2-53703faeeb30",
   "metadata": {},
   "outputs": [],
   "source": [
    "scrub_pred = pd.concat(alldata.values())\n",
    "HealthyBlood.obs['doublet_scores'] = scrub_pred['doublet_score'] \n",
    "HealthyBlood.obs['predicted_doublets'] = scrub_pred['predicted_doublets'] \n",
    "\n",
    "sum(HealthyBlood.obs['predicted_doublets'])"
   ]
  },
  {
   "cell_type": "code",
   "execution_count": null,
   "id": "0c84f98a-7274-4085-9fea-c25545226d62",
   "metadata": {},
   "outputs": [],
   "source": [
    "%matplotlib inline\n",
    "HealthyBlood.obs['doublet_info'] = HealthyBlood.obs[\"predicted_doublets\"].astype(str)\n",
    "sc.pl.violin(HealthyBlood, 'n_genes_by_counts', jitter = 0.4, groupby = 'doublet_info', rotation=45)"
   ]
  },
  {
   "cell_type": "code",
   "execution_count": null,
   "id": "3c22dc65-506d-4743-a18d-a32a787d8b1d",
   "metadata": {},
   "outputs": [],
   "source": [
    "# also revert back to the raw counts as the main matrix in HealthyBlood\n",
    "HealthyBlood = HealthyBlood[HealthyBlood.obs['doublet_info'] == 'False',:]\n",
    "\n",
    "print(\"Cell x Genes AFTER doublets removal\")\n",
    "print(HealthyBlood.n_obs, HealthyBlood.n_vars)"
   ]
  },
  {
   "cell_type": "markdown",
   "id": "47b392e7-a465-404e-b166-8ead3f3e6846",
   "metadata": {
    "jp-MarkdownHeadingCollapsed": true
   },
   "source": [
    "## 3.5. Save the object after QC filters"
   ]
  },
  {
   "cell_type": "code",
   "execution_count": null,
   "id": "7b617756-4ced-4dfb-82e0-485512141903",
   "metadata": {},
   "outputs": [],
   "source": [
    "outfilename = os.path.join(data_folder, \"HealthyBlood_afterQC.h5ad\")\n",
    "print(\"Saving h5ad data to file {}\".format(outfilename))\n",
    "HealthyBlood.write(outfilename)\n",
    "print(\"Done!\")"
   ]
  },
  {
   "cell_type": "markdown",
   "id": "a1649da0-9287-4870-87ce-591a81f84fad",
   "metadata": {
    "jp-MarkdownHeadingCollapsed": true
   },
   "source": [
    "## 3.6. Normalization & HVG selection"
   ]
  },
  {
   "cell_type": "code",
   "execution_count": null,
   "id": "e8ddff26-570f-4c62-aea4-6c857f630e72",
   "metadata": {},
   "outputs": [],
   "source": [
    "HealthyBlood.layers['raw_counts'] = HealthyBlood.X.copy()"
   ]
  },
  {
   "cell_type": "code",
   "execution_count": null,
   "id": "9af95ff1-1acb-4f10-9425-113efc9c5dc2",
   "metadata": {},
   "outputs": [],
   "source": [
    "sc.pp.normalize_total(HealthyBlood, target_sum = 1e4)\n",
    "sc.pp.log1p(HealthyBlood)"
   ]
  },
  {
   "cell_type": "code",
   "execution_count": null,
   "id": "4da537d0-40b5-427c-ae28-96e61d85173e",
   "metadata": {},
   "outputs": [],
   "source": [
    "HealthyBlood.raw = HealthyBlood\n",
    "HealthyBlood.layers[\"normalized_counts\"] = HealthyLiver_GEO.X.copy()"
   ]
  },
  {
   "cell_type": "code",
   "execution_count": null,
   "id": "8ef99c03-8b19-4402-a22d-c6ee50863ee4",
   "metadata": {},
   "outputs": [],
   "source": [
    "sc.pp.highly_variable_genes(HealthyBlood,\n",
    "                            n_top_genes = 4000, flavor = \"seurat_v3\",\n",
    "                            layer = \"raw_counts\", batch_key = 'donor_id',\n",
    "                            subset = False)"
   ]
  },
  {
   "cell_type": "markdown",
   "id": "f174ad6c-82d7-4a30-858f-26e994a85ac4",
   "metadata": {
    "jp-MarkdownHeadingCollapsed": true
   },
   "source": [
    "## 3.7. scVI integration"
   ]
  },
  {
   "cell_type": "code",
   "execution_count": null,
   "id": "2f85dff6-4b90-4ead-80c5-c4df7b6a0630",
   "metadata": {},
   "outputs": [],
   "source": [
    "adata_train = HealthyBlood[:, HealthyBlood.var.highly_variable].copy()\n",
    "adata_train"
   ]
  },
  {
   "cell_type": "code",
   "execution_count": null,
   "id": "e7c34c2b-5e51-42ee-9117-ae13fbdc5cf7",
   "metadata": {},
   "outputs": [],
   "source": [
    "scvi.model.SCVI.setup_anndata(adata_train, layer = \"raw_counts\", batch_key = 'donor_id')\n",
    "vae = scvi.model.SCVI(adata_train, n_layers = 2, n_latent = 30, latent_distribution = \"normal\", gene_likelihood = \"nb\")\n",
    "vae.train(accelerator = \"cpu\")"
   ]
  },
  {
   "cell_type": "code",
   "execution_count": null,
   "id": "2479ed83-c0c5-4583-8099-fc2d7f3b865c",
   "metadata": {},
   "outputs": [],
   "source": [
    "HealthyBlood.obsm[\"X_scVI\"] = vae.get_latent_representation()\n",
    "HealthyBlood.obsm[\"denoised_RNA\"] = vae.get_normalized_expression()"
   ]
  },
  {
   "cell_type": "code",
   "execution_count": null,
   "id": "192415da-91cc-4f3a-b59f-bc7dab668dbd",
   "metadata": {},
   "outputs": [],
   "source": [
    "sc.pp.neighbors(HealthyBlood, n_neighbors = 15, use_rep = \"X_scVI\", key_added = \"scVI\")\n",
    "sc.tl.leiden(HealthyBlood, resolution = 0.5, key_added = 'res_0.5', neighbors_key = \"scVI\")\n",
    "sc.tl.paga(HealthyBlood, groups = 'res_0.5', neighbors_key = \"scVI\")\n",
    "sc.pl.paga(HealthyBlood, frameon = True, edge_width_scale = 0.3)\n",
    "sc.tl.umap(HealthyBlood, neighbors_key = \"scVI\", init_pos = 'paga')"
   ]
  },
  {
   "cell_type": "markdown",
   "id": "d2132c3f-6185-4cbd-b9ae-53a3d0d9e0e8",
   "metadata": {
    "jp-MarkdownHeadingCollapsed": true
   },
   "source": [
    "## 3.8. Clustering"
   ]
  },
  {
   "cell_type": "code",
   "execution_count": null,
   "id": "4393e10d-82cd-4fdf-abcd-633bd62953b5",
   "metadata": {},
   "outputs": [],
   "source": [
    "clustering_labels = []\n",
    "for res in [0, 0.8, 1.0, 1.5, 2.0, 2.5]:\n",
    "    clustering_labels.append(\"res_{}\".format(res))\n",
    "    if \"res_{}\".format(res) in HealthyBlood.obs:\n",
    "        print(\"res_{}\".format(res) + \" already exists... going on with next resolution.\")\n",
    "        continue\n",
    "    sc.tl.leiden(HealthyBlood, resolution = res, key_added = \"res_{}\".format(res), neighbors_key = \"scVI\")"
   ]
  },
  {
   "cell_type": "code",
   "execution_count": null,
   "id": "d3fad298-161f-436a-b68e-b5bdddcc59f1",
   "metadata": {},
   "outputs": [],
   "source": [
    "clustering_labels = ['res_0.5', 'res_0.8', 'res_1.0', 'res_1.5', 'res_2.0', 'res_2.5']\n",
    "sc.pl.umap(HealthyBlood, color = clustering_labels, legend_loc = 'on data', legend_fontsize = 10, legend_fontoutline = 2, legend_fontweight = 8, wspace = .5, ncols = 3, frameon = True)"
   ]
  },
  {
   "cell_type": "markdown",
   "id": "6b1d2a04-633e-4c4c-a07d-36c05d8e632c",
   "metadata": {
    "jp-MarkdownHeadingCollapsed": true
   },
   "source": [
    "## 3.9. Save final object"
   ]
  },
  {
   "cell_type": "code",
   "execution_count": null,
   "id": "d73147af-9d51-4e49-b49f-8b0de2f3fce7",
   "metadata": {},
   "outputs": [],
   "source": [
    "outfilename = os.path.join(data_folder, \"HealthyBlood_integration.h5ad\")\n",
    "print(\"Saving h5ad data to file {}\".format(outfilename))\n",
    "HealthyBlood.write(outfilename)\n",
    "print(\"Done!\")"
   ]
  },
  {
   "cell_type": "markdown",
   "id": "62669d29-d7bc-4660-bb38-8fee2526deb3",
   "metadata": {},
   "source": [
    "# 4. **Healthy blood – Reclustering monocytes**"
   ]
  },
  {
   "cell_type": "code",
   "execution_count": null,
   "id": "31ff628f-1466-4f20-8f52-ef10eb884983",
   "metadata": {},
   "outputs": [],
   "source": [
    "Monocytes = HealthyBlood[HealthyBlood.obs['res_0.8'].isin(['1', '11', '12', '13'])]\n",
    "Monocytes"
   ]
  },
  {
   "cell_type": "code",
   "execution_count": null,
   "id": "2a38a103-0ba7-4e2a-9550-21e22e390fa4",
   "metadata": {},
   "outputs": [],
   "source": [
    "obs = ['doublet_scores', 'predicted_doublets', 'doublet_info', 'res_0.5', 'res_0', 'res_0.8', 'res_1.0', 'res_1.5', 'res_2.0', 'res_2.5']\n",
    "var = ['highly_variable', 'highly_variable_rank', 'means', 'variances', 'variances_norm', 'highly_variable_nbatches']\n",
    "\n",
    "for obs in obs:\n",
    "    del Monocytes.obs[obs]\n",
    "\n",
    "for var in var:\n",
    "    del Monocytes.var[var]\n",
    "\n",
    "del Monocytes.uns\n",
    "del Monocytes.obsm\n",
    "del Monocytes.varm\n",
    "del Monocytes.obsp\n",
    "\n",
    "Monocytes"
   ]
  },
  {
   "cell_type": "markdown",
   "id": "023e1f03-8d6e-42f9-9568-9b02d5e92128",
   "metadata": {
    "jp-MarkdownHeadingCollapsed": true
   },
   "source": [
    "## 4.1. HVG selection"
   ]
  },
  {
   "cell_type": "code",
   "execution_count": null,
   "id": "ab5aaffe-9787-4178-945e-505e837557f1",
   "metadata": {},
   "outputs": [],
   "source": [
    "sc.pp.highly_variable_genes(Monocytes,\n",
    "                            n_top_genes = 4000, flavor = \"seurat_v3\",\n",
    "                            layer = \"raw_counts\", batch_key = 'donor_id',\n",
    "                            subset = False)"
   ]
  },
  {
   "cell_type": "markdown",
   "id": "7999b2ee-1661-4064-a927-42ffac8157a4",
   "metadata": {
    "jp-MarkdownHeadingCollapsed": true
   },
   "source": [
    "## 4.2. scVI integration"
   ]
  },
  {
   "cell_type": "code",
   "execution_count": null,
   "id": "3cffa3c5-32d0-42bf-98fd-f1b9ddfbaf5d",
   "metadata": {},
   "outputs": [],
   "source": [
    "adata_train = Monocytes[:, Monocytes.var.highly_variable].copy()\n",
    "adata_train"
   ]
  },
  {
   "cell_type": "code",
   "execution_count": null,
   "id": "35863b7a-0cc8-481c-adcf-a1f081e5ca24",
   "metadata": {},
   "outputs": [],
   "source": [
    "scvi.model.SCVI.setup_anndata(adata_train, layer = \"raw_counts\", batch_key = 'donor_id')\n",
    "vae = scvi.model.SCVI(adata_train, n_layers = 2, n_latent = 30, latent_distribution = \"normal\", gene_likelihood = \"nb\")\n",
    "vae.train(accelerator = \"cpu\")"
   ]
  },
  {
   "cell_type": "code",
   "execution_count": null,
   "id": "316be68b-8bfd-4762-931c-e2e256c3b707",
   "metadata": {},
   "outputs": [],
   "source": [
    "Monocytes.obsm[\"X_scVI\"] = vae.get_latent_representation()\n",
    "Monocytes.obsm[\"denoised_RNA\"] = vae.get_normalized_expression()"
   ]
  },
  {
   "cell_type": "code",
   "execution_count": null,
   "id": "57d84693-42b9-49eb-a6b4-820b20f30171",
   "metadata": {},
   "outputs": [],
   "source": [
    "sc.pp.neighbors(Monocytes, n_neighbors = 15, use_rep = \"X_scVI\", key_added = \"scVI\")\n",
    "sc.tl.leiden(Monocytes, resolution = 0.5, key_added = 'res_0.5', neighbors_key = \"scVI\")\n",
    "sc.tl.paga(Monocytes, groups = 'res_0.5', neighbors_key = \"scVI\")\n",
    "sc.pl.paga(Monocytes, frameon = True, edge_width_scale = 0.3)\n",
    "sc.tl.umap(Monocytes, neighbors_key = \"scVI\", init_pos = 'paga')"
   ]
  },
  {
   "cell_type": "markdown",
   "id": "48f746a1-8ec3-4ad4-bf2d-bd72619aec10",
   "metadata": {
    "jp-MarkdownHeadingCollapsed": true
   },
   "source": [
    "## 4.3. Clustering"
   ]
  },
  {
   "cell_type": "code",
   "execution_count": null,
   "id": "c81f4a4d-01be-4dc1-8479-b54c4c6d55df",
   "metadata": {},
   "outputs": [],
   "source": [
    "clustering_labels = []\n",
    "for res in [0, 0.8, 1.0, 1.5, 2.0, 2.5]:\n",
    "    clustering_labels.append(\"res_{}\".format(res))\n",
    "    if \"res_{}\".format(res) in Monocytes.obs:\n",
    "        print(\"res_{}\".format(res) + \" already exists... going on with next resolution.\")\n",
    "        continue\n",
    "    sc.tl.leiden(Monocytes, resolution = res, key_added = \"res_{}\".format(res), neighbors_key = \"scVI\")"
   ]
  },
  {
   "cell_type": "code",
   "execution_count": null,
   "id": "8a035c69-18a5-4640-80aa-f615ef4db796",
   "metadata": {},
   "outputs": [],
   "source": [
    "clustering_labels = ['res_0.5', 'res_0.8', 'res_1.0', 'res_1.5', 'res_2.0', 'res_2.5']\n",
    "sc.pl.umap(Monocytes, color = clustering_labels, legend_loc = 'on data', legend_fontsize = 10, legend_fontoutline = 2, legend_fontweight = 8, wspace = .5, ncols = 3, frameon = True)"
   ]
  },
  {
   "cell_type": "markdown",
   "id": "eb70c9ca-bda7-4ac6-8fc6-8c79b984f131",
   "metadata": {
    "jp-MarkdownHeadingCollapsed": true
   },
   "source": [
    "## 4.4. Save the final object"
   ]
  },
  {
   "cell_type": "code",
   "execution_count": null,
   "id": "e988b7fa-51a9-4afb-948c-e1847513b2b5",
   "metadata": {},
   "outputs": [],
   "source": [
    "outfilename = os.path.join(data_folder, \"HealthyBlood_RecMonocytes.h5ad\")\n",
    "print(\"Saving h5ad data to file {}\".format(outfilename))\n",
    "Monocytes.write(outfilename)\n",
    "print(\"Done!\")"
   ]
  },
  {
   "cell_type": "code",
   "execution_count": null,
   "id": "10b8117d-9179-4537-9eac-a41eb79da17c",
   "metadata": {},
   "outputs": [],
   "source": [
    "outfilename = os.path.join(data_folder, \"HealthyBlood_RecMonocytes.h5ad\")\n",
    "Monocytes = sc.read_h5ad(outfilename)    \n",
    "Monocytes"
   ]
  },
  {
   "cell_type": "markdown",
   "id": "c8616234-9e00-47be-8c3a-7a9df533626f",
   "metadata": {
    "jp-MarkdownHeadingCollapsed": true
   },
   "source": [
    "## 4.5. UMAP"
   ]
  },
  {
   "cell_type": "code",
   "execution_count": null,
   "id": "dd6b0ffa-b495-4352-af0a-d4c8a435ffa1",
   "metadata": {},
   "outputs": [],
   "source": [
    "clustering_labels = ['res_0.5', 'res_0.8', 'res_1.0', 'res_1.5']\n",
    "Monocytes.obs['Rename'] = \"HB\" + Monocytes.obs['res_0.3'].astype(str)\n",
    "\n",
    "sc.pl.umap(Monocytes, color = 'Rename', legend_loc = 'on data', legend_fontsize = 13, legend_fontoutline = 4, legend_fontweight = 8, wspace = .15, ncols = 6, title = '', frameon = True,\n",
    "           save = 'UMAP Reclustering Monocytes Healthy Blood.png')"
   ]
  },
  {
   "cell_type": "markdown",
   "id": "bfefc021-3ca4-4cb4-8f1f-7598cf42c483",
   "metadata": {
    "jp-MarkdownHeadingCollapsed": true
   },
   "source": [
    "## 4.6. DotPlot"
   ]
  },
  {
   "cell_type": "code",
   "execution_count": null,
   "id": "37c2d82e-1d95-494c-9bd3-4cdd9382c357",
   "metadata": {},
   "outputs": [],
   "source": [
    "Genes = ['CD14', 'S100A8', 'S100A9', 'RBP7', 'FOSB',\n",
    "            'HLA-DPB1', 'HLA-DPA1', 'HLA-DRB1', 'HLA-DRA',\n",
    "            'PPBP', 'PF4', 'CAVIN2', 'TUBB1',\n",
    "            'NFKB1', 'NRF1', 'TREM1', 'TLR4',\n",
    "            'AHSP', 'ALAS2', 'CA1',\n",
    "             'IL7R', 'GZMA', 'GZMB', 'PRF1', 'GNLY', 'NKG7', 'CTSW', 'CD2',\n",
    "            'FCGR3A', 'RHOC', 'CDKN1C', 'MS4A7']\n",
    "\n",
    "sc.pl.dotplot(Monocytes, Genes, 'Rename', standard_scale = 'var', swap_axes = False, dendrogram = False, categories_order = ['HB0', 'HB1', 'HB4', 'HB5', 'HB3', 'HB2'],\n",
    "              save = 'Reclustering Monocytes Healthy Blood annotation.png')"
   ]
  },
  {
   "cell_type": "markdown",
   "id": "298ce3b7-cac7-4259-8073-9096e3578634",
   "metadata": {},
   "source": [
    "## 4.7. Module score"
   ]
  },
  {
   "cell_type": "code",
   "execution_count": null,
   "id": "500c4df5-787d-46ca-8b4b-ce9912a2d5ff",
   "metadata": {},
   "outputs": [],
   "source": [
    "Cytoxic_Inflammatory = ['PRF1', 'GZMM', 'GZMA', 'KLRB1', 'GZMK', 'GZMH', 'IL32', 'CCL5', 'GZMB', 'GNLY', 'IFNG', 'TNF', 'CST7', 'NKG7', 'EOMES', 'EFHD2', 'F2R', 'SLAMF7', \"IL1B\", \"IL2\", \"IL4\"]\n",
    "sc.tl.score_genes(Macrophages_GEO, Cytoxic_Inflammatory, ctrl_size = 50, gene_pool = None, n_bins = 25, score_name = 'Cytoxic_Inflammatory_score', random_state = 0, copy = False)\n",
    "sc.pl.umap(Macrophages_GEO, color = 'Cytoxic_Inflammatory_score', vmin = 0, vmax = 1, size = 50, cmap = 'inferno', title = 'Cytotoxic-Inflammatory Score', save = 'Cytoxic_Inflammatory_Score macrophages Healthy Liver.png')"
   ]
  },
  {
   "cell_type": "code",
   "execution_count": null,
   "id": "c4e94646-9ec1-4db2-8218-229deaeec186",
   "metadata": {},
   "outputs": [],
   "source": []
  },
  {
   "cell_type": "code",
   "execution_count": null,
   "id": "6d3970d2-9df3-4df3-966e-e5d325e9c67a",
   "metadata": {},
   "outputs": [],
   "source": []
  },
  {
   "cell_type": "code",
   "execution_count": null,
   "id": "3030f4e9-6d23-4fdd-bb1e-f1accb1a88d9",
   "metadata": {},
   "outputs": [],
   "source": []
  }
 ],
 "metadata": {
  "kernelspec": {
   "display_name": "Python 3 (ipykernel)",
   "language": "python",
   "name": "python3"
  },
  "language_info": {
   "codemirror_mode": {
    "name": "ipython",
    "version": 3
   },
   "file_extension": ".py",
   "mimetype": "text/x-python",
   "name": "python",
   "nbconvert_exporter": "python",
   "pygments_lexer": "ipython3",
   "version": "3.9.6"
  }
 },
 "nbformat": 4,
 "nbformat_minor": 5
}
