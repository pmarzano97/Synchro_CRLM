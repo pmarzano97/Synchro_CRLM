{
 "cells": [
  {
   "cell_type": "markdown",
   "id": "831bbf4c-ff82-4c98-9fcb-80ddd28f05c1",
   "metadata": {},
   "source": [
    "# <font color = '#FF003D'> ***Synchronous colorectal cancer-liver metastasis project***"
   ]
  },
  {
   "cell_type": "markdown",
   "id": "3780116e-c606-4933-a2fb-9b4c27ba8fbf",
   "metadata": {},
   "source": [
    "**_______________________________________________________________________________________________________________________________________________________________________________________________________________**"
   ]
  },
  {
   "cell_type": "markdown",
   "id": "cbbcef9e-232b-42e7-8b32-c8df067381ee",
   "metadata": {},
   "source": [
    "# <font color = '#FF003D'> ***==== CODE 3: Myeloid cell analysis ====***"
   ]
  },
  {
   "cell_type": "markdown",
   "id": "e44bf53e-362c-49c9-99d6-c22dc05443c4",
   "metadata": {},
   "source": [
    "# Python library"
   ]
  },
  {
   "cell_type": "code",
   "execution_count": null,
   "id": "b2db1bdf-ad25-4cc3-88c8-e449a08b7408",
   "metadata": {
    "tags": []
   },
   "outputs": [],
   "source": [
    "import os\n",
    "import math\n",
    "import warnings\n",
    "import datetime\n",
    "\n",
    "warnings.filterwarnings('ignore')"
   ]
  },
  {
   "cell_type": "code",
   "execution_count": null,
   "id": "02b7283b-2fff-4da0-826f-ea8b1b59f808",
   "metadata": {
    "tags": []
   },
   "outputs": [],
   "source": [
    "import numpy as np\n",
    "import scipy\n",
    "import pandas as pd\n",
    "import scanpy as sc\n",
    "import scanpy.external as sce\n",
    "from cycler import cycler\n",
    "import openpyxl\n",
    "import scvi\n",
    "\n",
    "import seaborn as sns\n",
    "import matplotlib.pyplot as plt\n",
    "import matplotlib\n",
    "\n",
    "import rpy2"
   ]
  },
  {
   "cell_type": "code",
   "execution_count": null,
   "id": "078ff541-c8c9-46eb-9281-3a221313035f",
   "metadata": {
    "tags": []
   },
   "outputs": [],
   "source": [
    "from ipywidgets import IntProgress\n",
    "from IPython.display import display\n",
    "import time\n",
    "from tqdm import tqdm_notebook\n",
    "from sklearn.preprocessing import MinMaxScaler"
   ]
  },
  {
   "cell_type": "code",
   "execution_count": null,
   "id": "5c0d916e-59fd-491a-a559-0170d932c361",
   "metadata": {
    "tags": []
   },
   "outputs": [],
   "source": [
    "result_folder = '.../Analysis/Synchro/'\n",
    "data_folder = '.../Analysis/Synchro/Data/'\n",
    "\n",
    "sc.settings.verbosity = 4\n",
    "warnings.filterwarnings('ignore')\n",
    "sc.set_figure_params(dpi = 100, dpi_save = 1000, facecolor = 'white')"
   ]
  },
  {
   "cell_type": "markdown",
   "id": "bf65f160-f0b6-4ae0-a8a7-72b811b5d992",
   "metadata": {},
   "source": [
    "# R library"
   ]
  },
  {
   "cell_type": "code",
   "execution_count": null,
   "id": "dd10224b-b9d1-4a6a-9c08-c9aa56208237",
   "metadata": {
    "tags": []
   },
   "outputs": [],
   "source": [
    "! python -m rpy2.situation"
   ]
  },
  {
   "cell_type": "code",
   "execution_count": null,
   "id": "e2eb1d67-3e6c-4a9f-b66a-b72afdc5a89f",
   "metadata": {
    "tags": []
   },
   "outputs": [],
   "source": [
    "%load_ext rpy2.ipython"
   ]
  },
  {
   "cell_type": "code",
   "execution_count": null,
   "id": "56067cbe-c0d3-4914-ad58-046d1e86b106",
   "metadata": {
    "tags": []
   },
   "outputs": [],
   "source": [
    "%%R \n",
    "library(Seurat)\n",
    "library(SeuratDisk)\n",
    "library(SeuratData)\n",
    "library(SeuratWrappers)\n",
    "library(SeuratObject)\n",
    "\n",
    "library(openxlsx)\n",
    "library(ggplot2)\n",
    "library(ggraph)\n",
    "library(ggrepel)\n",
    "\n",
    "library(dplyr)\n",
    "library(reticulate)\n",
    "library(patchwork)\n",
    "\n",
    "library(EnhancedVolcano)"
   ]
  },
  {
   "cell_type": "markdown",
   "id": "02e1b8da-e49e-4494-a636-03d66f27638a",
   "metadata": {
    "jp-MarkdownHeadingCollapsed": true,
    "tags": []
   },
   "source": [
    "# 1a. **Myeloid cells / Peripheral blood**"
   ]
  },
  {
   "cell_type": "code",
   "execution_count": null,
   "id": "8180af94-4eaa-4810-942d-6cac620ff5cf",
   "metadata": {},
   "outputs": [],
   "source": [
    "outfilename = os.path.join(data_folder, \"Synchro_Reclustering_Myeloid.h5ad\")\n",
    "Myeloid = sc.read_h5ad(outfilename)\n",
    "Myeloid_BLOOD = Myeloid[Myeloid.obs['tissue_origin'].isin(['Blood'])].copy()\n",
    "for lbl in ['leiden', 'res_0.5', 'res_0.8', 'res_1.0', 'res_1.5', 'res_1.8']:\n",
    "    del Myeloid_BLOOD.obs[lbl]\n",
    "    del Myeloid_BLOOD.uns\n",
    "Myeloid_BLOOD    "
   ]
  },
  {
   "cell_type": "code",
   "execution_count": null,
   "id": "66c73c7c-e06b-4962-90b0-b8d392dc6a9d",
   "metadata": {
    "scrolled": true
   },
   "outputs": [],
   "source": [
    "# use scVI latent space for UMAP generation\n",
    "sc.pp.neighbors(Myeloid_BLOOD, n_neighbors = 15, use_rep = \"X_scVI\", key_added = \"scVI\")\n",
    "sc.tl.leiden(Myeloid_BLOOD, key_added = \"leiden\", resolution = 0.5, neighbors_key = \"scVI\")\n",
    "sc.tl.paga(Myeloid_BLOOD, groups = 'leiden', neighbors_key = \"scVI\")\n",
    "sc.pl.paga(Myeloid_BLOOD, frameon = True)\n",
    "sc.tl.umap(Myeloid_BLOOD, init_pos = 'paga', neighbors_key = \"scVI\")"
   ]
  },
  {
   "cell_type": "markdown",
   "id": "852afaa9-4658-4cc9-bdd1-a1d0310abf4d",
   "metadata": {},
   "source": [
    "## UMAP"
   ]
  },
  {
   "cell_type": "code",
   "execution_count": null,
   "id": "77bddd65-3c20-4188-80c0-82daec037e42",
   "metadata": {},
   "outputs": [],
   "source": [
    "# Supplementary figure 3A\n",
    "Myeloid_BLOOD.obs['Myeloid_site_short'] = \"B\" + Myeloid_BLOOD.obs['leiden'].astype(str)\n",
    "colors = {\n",
    "    'B0': '#d60000',\n",
    "    'B1': '#8c3bff',\n",
    "    'B2': '#018700',\n",
    "    'B3': '#00acc6',\n",
    "    'B4': '#97ff00',\n",
    "    'B5': '#ff7ed1',\n",
    "    'B6': '#6b004f'}\n",
    "\n",
    "sc.pl.umap(Myeloid_BLOOD, color = 'Myeloid_site_short',\n",
    "           legend_loc = 'on data', legend_fontsize = 14, legend_fontoutline = 2, legend_fontweight = 1, frameon = True, palette = colors,\n",
    "           save = 'Myeloid_BLOOD – Myeloid_site_short.png'"
   ]
  },
  {
   "cell_type": "markdown",
   "id": "1509f169-073b-42d9-9dbb-ecc36ea6db35",
   "metadata": {},
   "source": [
    "## DotPlot"
   ]
  },
  {
   "cell_type": "code",
   "execution_count": null,
   "id": "64f829be-328b-4a75-812b-59aad8959e49",
   "metadata": {},
   "outputs": [],
   "source": [
    "# Supplementary figure 3B\n",
    "Annotation = ['CD14', 'S100A8', 'S100A9', 'RBP7', 'FOSB', \n",
    "         'HLA-DPB1', 'HLA-DPA1', 'HLA-DRB1', 'HLA-DRA',\n",
    "         'PPBP', 'PF4', 'CAVIN2', 'TUBB1',\n",
    "         'NFKB1', 'NRF1', 'TREM1', 'TLR4',\n",
    "         'AHSP', 'ALAS2', 'CA1',\n",
    "         'IL7R', 'GZMA', 'GZMB', 'PRF1', 'GNLY', 'NKG7', 'CTSW', 'CD2',\n",
    "         'FCGR3A', 'RHOC', 'CDKN1C', 'MS4A7',\n",
    "         'XBP1', 'MZB1', 'CLEC4C', 'IL3RA', 'IRF7']\n",
    "\n",
    "sc.pl.dotplot(Myeloid_BLOOD, Annotation, 'Myeloid_site_short', standard_scale = 'var', swap_axes = False, dendrogram = False,\n",
    "              save = 'Myeloid_BLOOD annotation.png')"
   ]
  },
  {
   "cell_type": "markdown",
   "id": "ab240c0b-e4dd-4c45-ba7a-4f2a8d9a1393",
   "metadata": {
    "jp-MarkdownHeadingCollapsed": true,
    "tags": []
   },
   "source": [
    "# 1b. **Myeloid cells / Colon**"
   ]
  },
  {
   "cell_type": "code",
   "execution_count": null,
   "id": "a6194436-27c6-4fb8-a6ab-a25feabcebad",
   "metadata": {},
   "outputs": [],
   "source": [
    "outfilename = os.path.join(data_folder, \"Synchro_Reclustering_Myeloid.h5ad\")\n",
    "Myeloid = sc.read_h5ad(outfilename)   \n",
    "Myeloid_COLON = Myeloid[Myeloid.obs['tissue_origin'].isin(['Colon'])].copy()\n",
    "for lbl in ['leiden', 'res_0.5', 'res_0.8', 'res_1.0', 'res_1.5', 'res_1.8']:\n",
    "    del Myeloid_COLON.obs[lbl]\n",
    "    del Myeloid_COLON.uns\n",
    "Myeloid_COLON"
   ]
  },
  {
   "cell_type": "code",
   "execution_count": null,
   "id": "7e340927-7345-48b6-b10e-1e4412818902",
   "metadata": {
    "scrolled": true
   },
   "outputs": [],
   "source": [
    "# use scVI latent space for UMAP generation\n",
    "sc.pp.neighbors(Myeloid_COLON, n_neighbors = 15, use_rep = \"X_scVI\", key_added = \"scVI\")\n",
    "sc.tl.leiden(Myeloid_COLON, key_added = \"leiden\", resolution = 0.5, neighbors_key = \"scVI\")\n",
    "sc.tl.paga(Myeloid_COLON, groups = 'leiden', neighbors_key = \"scVI\")\n",
    "sc.pl.paga(Myeloid_COLON, frameon = True)\n",
    "sc.tl.umap(Myeloid_COLON, init_pos = 'paga', neighbors_key = \"scVI\")"
   ]
  },
  {
   "cell_type": "markdown",
   "id": "f4e67df9-e89c-4bf3-a571-6ad14b8a7275",
   "metadata": {
    "jp-MarkdownHeadingCollapsed": true
   },
   "source": [
    "## UMAP"
   ]
  },
  {
   "cell_type": "code",
   "execution_count": null,
   "id": "30f93dcc-4b44-476a-8bd6-7f40bfad148b",
   "metadata": {},
   "outputs": [],
   "source": [
    "# Figure 2A\n",
    "Myeloid_COLON.obs['Myeloid_site_short'] = \"C\" + Myeloid_COLON.obs['leiden'].astype(str)\n",
    "colors = {\n",
    "    'C0': '#ffa52f',\n",
    "    'C1': '#573b00',\n",
    "    'C2': '#005659',\n",
    "    'C3': '#0000dd',\n",
    "    'C4': '#00fdcf',\n",
    "    'C5': '#a17569',\n",
    "    'C6': '#bcb6ff',\n",
    "    'C7': '#95b577',\n",
    "    'C8': '#bf03b8',\n",
    "    'C9': '#645474'}\n",
    "\n",
    "sc.pl.umap(Myeloid_COLON, color = 'Myeloid_site_short',\n",
    "           legend_loc = 'on data', legend_fontsize = 14, legend_fontoutline = 2, legend_fontweight = 1, frameon = True, palette = colors,\n",
    "           save = 'Myeloid_COLON – Myeloid_site_short.png'"
   ]
  },
  {
   "cell_type": "markdown",
   "id": "3baf968c-2f4e-466d-b338-3b150328dd8f",
   "metadata": {
    "jp-MarkdownHeadingCollapsed": true
   },
   "source": [
    "## DotPlot"
   ]
  },
  {
   "cell_type": "code",
   "execution_count": null,
   "id": "3c359461-e5fe-4bc7-a297-4b664690de39",
   "metadata": {},
   "outputs": [],
   "source": [
    "# Figure 2B\n",
    "Genes_Colon = [\"C5AR1\", \"CD68\", \"LYZ\",\n",
    "               'S100A8', 'S100A9', \"S100A12\",  'CCL3L1', \"FCN1\",\n",
    "               'CD163', 'MRC1', 'C1QA', 'C1QB', 'C1QC', \"SLC40A1\", \"FRMD4A\", \"SLCO2B1\",\n",
    "               'LAMP3', 'KIF2A', 'RPS27L', 'GRSF1', 'CCL19', 'CCR7',\n",
    "               'XBP1', 'MZB1', 'CLEC4C', 'IL3RA', 'IRF7', 'CXCR3']\n",
    "order = ['C0', 'C2', 'C4', 'C6', 'C3', 'C5', 'C8', 'C9', 'C1', 'C7']  \n",
    "\n",
    "sc.pl.dotplot(Myeloid_COLON, Genes_Colon, 'Myeloid_site_short', standard_scale = 'var', swap_axes = False, dendrogram = False, categories_order = order, \n",
    "              save = 'Myeloid_COLON annotation.png')"
   ]
  },
  {
   "cell_type": "code",
   "execution_count": null,
   "id": "d4094741-eecd-47c8-9e5f-361cf58d6491",
   "metadata": {},
   "outputs": [],
   "source": [
    "# Figure 2F\n",
    "ImmuneCheck = ['PDCD1', 'CTLA4', 'LAG3', 'HAVCR2', 'TIGIT', 'VSIR', 'IDO1', 'ICOS', 'CD96', 'SIGIRR', 'CD274', 'NECTIN2'] \n",
    "order = ['C0', 'C2', 'C4', 'C6', 'C3', 'C5', 'C8']  \n",
    "\n",
    "subset_macro = Myeloid_COLON[Myeloid_COLON.obs['Myeloid_site_short'].isin(order)].copy() #To remove DCs\n",
    "sc.pl.dotplot(subset_macro, ImmuneCheck, 'Myeloid_site_short', standard_scale = 'var', swap_axes = False, dendrogram = False, categories_order = order, dot_max = 1,\n",
    "              save = 'Myeloid_COLON ImmunoCheck.png')"
   ]
  },
  {
   "cell_type": "markdown",
   "id": "20a19bdb-d386-496f-a29a-867a0a73b28a",
   "metadata": {
    "jp-MarkdownHeadingCollapsed": true
   },
   "source": [
    "## Cell frequency"
   ]
  },
  {
   "cell_type": "code",
   "execution_count": null,
   "id": "efc0c78c-6124-4230-8c4b-4e2a95f358e7",
   "metadata": {},
   "outputs": [],
   "source": [
    "# Figure 2C\n",
    "## Outer circle\n",
    "Cells = pd.crosstab([Myeloid_COLON.obs['Myeloid_site_short']], [Myeloid_COLON.obs['tissue_origin']], dropna = True)\n",
    "Cells.to_excel('.../Analysis/Synchro/figures/Cells Myeloid_COLON – Myeloid_site_short.xlsx', index = True)\n",
    "\n",
    "## Inner circle\n",
    "Myeloid_COLON.obs['CellFamily'] = Myeloid_COLON.obs['Myeloid_site_short'].map({\n",
    "    'C0': 'Inflammatory TAMs',\n",
    "    'C1': 'Others',\n",
    "    'C2': 'Inflammatory TAMs',\n",
    "    'C3': 'Immunoregulatory TAMs',\n",
    "    'C4': 'Inflammatory TAMs',\n",
    "    'C5': 'Immunoregulatory TAMs',\n",
    "    'C6': 'Inflammatory TAMs',\n",
    "    'C7': 'Others',\n",
    "    'C8': 'Immunoregulatory TAMs',\n",
    "    'C9': 'Others'})\n",
    "Cells = pd.crosstab([Myeloid_COLON.obs['CellFamily']], [Myeloid_COLON.obs['tissue_origin']], dropna = True)\n",
    "Cells.to_excel('.../Analysis/Synchro/figures/Cells Myeloid_COLON – CellFamily.xlsx', index = True)"
   ]
  },
  {
   "cell_type": "markdown",
   "id": "9bcfc7a5-2dde-4fa3-ae0b-6eba38262e4a",
   "metadata": {
    "jp-MarkdownHeadingCollapsed": true
   },
   "source": [
    "## Heatmap top10 DEGs/cluster"
   ]
  },
  {
   "cell_type": "code",
   "execution_count": null,
   "id": "0682ae83-8399-49b2-982c-5652ddccd670",
   "metadata": {},
   "outputs": [],
   "source": [
    "# Create the object to convert to Seurat object for DEGs\n",
    "Myeloid_COLON_raw = sc.AnnData(X = Myeloid_COLON.layers['raw_counts'],\n",
    "                     obs = Myeloid_COLON.obs[['batch_id', 'tissue_origin', 'patient_ID', 'Myeloid_site_short']],\n",
    "                     var = Myeloid_COLON.var[['gene_ids']],\n",
    "                     obsm = Myeloid_COLON.obsm)\n",
    "\n",
    "outfilename = os.path.join(data_folder, \"Myeloid_COLON_raw.h5ad\")\n",
    "print(\"Saving h5ad data to file {}\".format(outfilename))\n",
    "Myeloid_COLON_raw.write(outfilename)\n",
    "print(\"Done!\")\n",
    "\n",
    "# Export metadata\n",
    "Myeloid_COLON_raw.obs.to_excel('.../Analysis/Synchro/figures/Myeloid_COLON_raw_metadata.xlsx')"
   ]
  },
  {
   "cell_type": "code",
   "execution_count": null,
   "id": "75e65d46-b0ac-45aa-80a3-3bddb13c5865",
   "metadata": {
    "tags": []
   },
   "outputs": [],
   "source": [
    "%%R\n",
    "Convert(\".../Analysis/Synchro/Data/Myeloid_COLON_raw.h5ad\", dest = \"h5seurat\", assay = \"RNA\", overwrite = FALSE, verbose = TRUE)\n",
    "Myeloid_COLON_raw = LoadH5Seurat(\".../Analysis/Synchro/Data/Myeloid_COLON_raw.h5seurat\", meta.data = F)\n",
    "meta = read.xlsx(\".../Analysis/Synchro/figures/Myeloid_COLON_raw_metadata.xlsx\", rowNames = T)\n",
    "Myeloid_COLON_raw@meta.data = meta\n",
    "saveRDS(Myeloid_COLON_raw, \".../Analysis/Synchro/Data/Myeloid_COLON_raw.RDS\")"
   ]
  },
  {
   "cell_type": "code",
   "execution_count": null,
   "id": "9740ae80-78ae-459d-95f9-4d3aa0d9c38b",
   "metadata": {},
   "outputs": [],
   "source": [
    "%%R\n",
    "Idents(Myeloid_COLON_raw) = 'Myeloid_site_short'\n",
    "Myeloid_COLON_raw = subset(Myeloid_COLON_raw, idents = c('C0', 'C2', 'C3', 'C4', 'C5', 'C6', 'C8')) # subset of TAMs\n",
    "DEGs = FindAllMarkers(Myeloid_COLON_raw, logfc.threshold = 0, test.use = \"negbinom\", latent_vars = 'patient_ID')\n",
    "write.xlsx(DEGs, \"DEGs - Myeloid_COLON_raw all vs all – negbinom.xlsx\", rowNames = T)"
   ]
  },
  {
   "cell_type": "code",
   "execution_count": null,
   "id": "247f6b86-63e9-4970-bc22-3aede48c0e42",
   "metadata": {},
   "outputs": [],
   "source": [
    "# Figure 2D\n",
    "Subset = Myeloid_COLON[~Myeloid_COLON.obs['Myeloid_site_short'].isin(['C1', 'C7', 'C9'])].copy()\n",
    "Subset.obs['Myeloid_site_short'] = Subset.obs['Myeloid_site_short'].cat.reorder_categories(['C0', 'C2', 'C4', 'C6', 'C3', 'C5', 'C8'])\n",
    "Subset.layers[\"scaled\"] = sc.pp.scale(Subset, copy = True).X\n",
    "\n",
    "top10_colon = [\"S100A8\", \"CCL4L2\", \"CCL3L1\", \"CCL3\", \"C15orf48\", \"S100A9\", \"CCL4\", \"CCL20\", \"CXCL10\", \"MT2A\",\n",
    "               \"IFITM3\", \"TIMP1\", \"S100A10\", \"HLA-DQB1\", \"CRIP1\", \"HLA-DQA1\", \"HLA-DRB1\", \"IFITM1\", \"HLA-DPA1\", \"IFI30\",\n",
    "               \"DOCK4\", \"FNDC3B\", \"MAP4K4\", \"ZEB2\", \"ATP13A3\", \"PTPRJ\", \"CD44\", \"MAML2\", \"ARHGAP26\", \"NRIP1\",\n",
    "               \"S100A9\", \"LUCAT1\", \"CXCL8\", \"S100A12\", \"MCTP2\", \"FCN1\", \"AQP9\", \"VCAN\", \"CD52\", \"SLC11A1\",\n",
    "               \"AREG\", \"IL1R2\", \"FOS\", \"NR4A2\", \"ATF3\", \"EGR1\", \"FOSB\", \"NR4A1\", \"JUNB\", \"JUN\",\n",
    "               \"RNASE1\", \"C1QA\", \"C1QB\", \"LYVE1\", \"F13A1\", \"PLTP\", \"RBPJ\", \"CD163\", \"PDK4\", \"FOLR2\",\n",
    "               \"CCL2\", \"HMOX1\", \"ANKH\", \"MITF\", \"PPARG\", \"CTSL\", \"SPRED1\", \"NRP1\", \"SLC4A7\", \"ME1\"]\n",
    "\n",
    "sc.pl.matrixplot(Subset, top10_colon, groupby = 'Myeloid_site_short', swap_axes = True,\n",
    "                 layer = \"scaled\", vmin = -2, vmax = 2, cmap = 'RdBu_r',\n",
    "                 save = \"Myeloid_COLON heatmap top 10 DEGs_Only Macrophages_Scaled.png\")"
   ]
  },
  {
   "cell_type": "markdown",
   "id": "15ee9fb8-1b04-4ea9-8243-d7ab1893f433",
   "metadata": {
    "jp-MarkdownHeadingCollapsed": true,
    "tags": []
   },
   "source": [
    "## Module scores"
   ]
  },
  {
   "cell_type": "code",
   "execution_count": null,
   "id": "9a46ce15-9205-4915-b15f-9ccfeb888b72",
   "metadata": {},
   "outputs": [],
   "source": [
    "# Figure 2E input data\n",
    "APC_TAMs = [\"HLA-DRA\", \"HLA-DRB1\", \"HLA-DRB2\", \"HLA-DRB3\", \"HLA-DRB4\", \"HLA-DRB5\", \"HLA-DRB6\", \"HLA-DRB7\", \"HLA-DRB8\", \"HLA-DRB9\", \"HLA-DQA1\", \"HLA-DQB1\", \"HLA-DQA2\", \"HLA-DQB2\", \"HLA-DQB3\", \"HLA-DOA\", \"HLA-DOB\", \"HLA-DMA\", \"HLA-DMB\", \"HLA-DPA1\", \"HLA-DPB1\", \"HLA-DPA2\", \"HLA-DPB2\", \"HLA-DPA3\"]\n",
    "LA_TAMs = ['ACP5', 'APOE', 'APOC1', 'C1QA', 'C1QB', 'C1QC', 'CCL18', 'CD163', 'CD36', 'CD63', 'CTSB', 'CTSD', 'CTSL', 'F13A1', 'FABP5', 'FOLR2', 'GPNMB', 'LIPA', 'MARCO', 'MERTK',  'MMP9', 'MRC1', 'NRF1', 'PLA2G7', 'RNASE1', 'TFDP2', 'ZEB1', 'HIF1A', 'MAF', 'MAFB', 'TCF4', 'TFEC']\n",
    "Angio_TAMs = ['CCL20', 'CD163', 'CD300E', 'CD44', 'CD55', 'CEBPB', 'CTSB', 'EREG', 'FCN1', 'FLT1',  'IL1B', 'IL1RN', 'CXCL8', 'MIF', 'OLR1', 'PPARG', 'S100A8', 'S100A9', 'S100A12', 'SERPINB2', 'THBS1', 'TIMP1', 'VCAN', 'VEGFA', 'BACH1', 'CEBPB', 'FOSL2', 'HIF1A', 'NFKB1', 'RUNX1', 'ZEB2']\n",
    "\n",
    "Subset = Myeloid_COLON[~Myeloid_COLON.obs['Myeloid_site_short'].isin(['C1', 'C7', 'C9'])].copy()\n",
    "\n",
    "sc.tl.score_genes(Subset, LA_TAMs, ctrl_size = 50, gene_pool = None, n_bins = 25, score_name = 'LA_TAMs', random_state = 0, copy = False)\n",
    "sc.tl.score_genes(Subset, Angio_TAMs, ctrl_size = 50, gene_pool = None, n_bins = 25, score_name = 'Angio_TAMs', random_state = 0, copy = False)\n",
    "sc.tl.score_genes(Subset, APC_TAMs, ctrl_size = 50, gene_pool = None, n_bins = 25, score_name = 'APC_TAMs', random_state = 0, copy = False)\n",
    "\n",
    "Scores = Subset.obs[['Myeloid_site_short', 'LA_TAMs', 'Angio_TAMs', 'APC_TAMs']]\n",
    "\n",
    "scaler = MinMaxScaler()\n",
    "scores_scaled = scaler.fit_transform(Scores)\n",
    "scores_scaled = pd.DataFrame(scores_scaled, columns = ['LA_TAMs_scaled', 'Angio_TAMs_scaled', 'APC_TAMs_scaled'], index = Subset.obs_names)\n",
    "Scores = pd.concat([Subset.obs[['Myeloid_site_short']], Scores, scores_scaled], axis = 1)\n",
    "Score.to_excel('figures/Myeloid_COLON – Module scores x Myeloid_site_short.xlsx', index = True)"
   ]
  },
  {
   "cell_type": "code",
   "execution_count": null,
   "id": "1880f216-a3af-4d2a-941d-d1fba64e3940",
   "metadata": {},
   "outputs": [],
   "source": [
    "%%R\n",
    "# Figure 2E Radar Chart\n",
    "library(dplyr)\n",
    "\n",
    "setwd(\".../figures\")\n",
    "path = \".../figures\"\n",
    "\n",
    "RadarPlot = read.xlsx(\"Myeloid_COLON – Module scores x Myeloid_site_short.xlsx\", rowNames = T)\n",
    "\n",
    "LA_TAMs_scaled = RadarPlot %>%\n",
    "    select(Myeloid_site_short, LA_TAMs_scaled)\n",
    "\n",
    "Angio_TAMs_scaled = RadarPlot %>%\n",
    "    select(Myeloid_site_short, Angio_TAMs_scaled)\n",
    "\n",
    "APC_TAMs_scaled = RadarPlot %>%\n",
    "    select(Myeloid_site_short, APC_TAMs_scaled)\n",
    "\n",
    "Colors_scaled = c('Angio_TAMs' = '#008080', 'LA_TAMs' = '#a2798f', 'APC_TAMs' = '#9e379f')\n",
    "colors_in = alpha(Colors_scaled, 0.8)\n",
    "\n",
    "png(file = file.path(path, 'Angio_TAMs_scaled COLON.png'), units = \"in\", width = 6, height = 6, res = 1000, bg = \"white\")\n",
    "\n",
    "radarchart(Angio_TAMs_scaled, \n",
    "            axistype = 0, axislabcol = 'grey10', \n",
    "            pcol = 'black', pfcol = alpha('#9e379f', 0.8), plwd = 1, plty = 1, pty = 32,\n",
    "            cglcol = \"grey50\", cglty = 1,  cglwd = 1, \n",
    "            vlcex = 1)\n",
    "legend(x = 1, y = 1, legend = rownames(Angio_TAMs_scaled[-c(1,2),]), bty = \"n\", pch = 20 , col = alpha('#9e379f', 0.8) , text.col = \"grey\", cex = 1.2, pt.cex = 3)\n",
    "\n",
    "dev.off()"
   ]
  },
  {
   "cell_type": "code",
   "execution_count": null,
   "id": "debdeb82-c72c-465f-b51a-039faa20f4c0",
   "metadata": {},
   "outputs": [],
   "source": [
    "# Supplementary figure XX\n",
    "Cytoxic_Inflammatory = ['PRF1', 'GZMM', 'GZMA', 'KLRB1', 'GZMK', 'GZMH', 'IL32', 'CCL5', 'GZMB', 'GNLY', 'IFNG', 'TNF', 'CST7', 'NKG7', 'EOMES', 'EFHD2', 'F2R', 'SLAMF7', \"IL1B\", \"IL2\", \"IL4\"]\n",
    "Subset = Myeloid_COLON[~Myeloid_COLON.obs['Myeloid_site_short'].isin(['C1', 'C7', 'C9'])].copy()\n",
    "\n",
    "sc.tl.score_genes(Subset, Cytoxic_Inflammatory, ctrl_size = 50, gene_pool = None, n_bins = 25, score_name = 'Cytoxic_Inflammatory_score', random_state = 0, copy = False)\n",
    "sc.pl.umap(Subset, color = 'Cytoxic_Inflammatory_score', vmin = 0, vmax = 1, cmap = 'inferno', title = 'Cytotoxic-Inflammatory Score', save = 'Myeloid_COLON – Cytoxic_Inflammatory_Score.png')"
   ]
  },
  {
   "cell_type": "markdown",
   "id": "5aff8b50-683f-45d8-839d-e1717ebac0ac",
   "metadata": {
    "jp-MarkdownHeadingCollapsed": true,
    "tags": []
   },
   "source": [
    "# 1c. **Myeloid cells / Liver**"
   ]
  },
  {
   "cell_type": "code",
   "execution_count": null,
   "id": "06b51bf8-59b5-4ae4-9a72-c06d9953ed89",
   "metadata": {},
   "outputs": [],
   "source": [
    "outfilename = os.path.join(data_folder, \"Synchro_Reclustering_Myeloid.h5ad\")\n",
    "Myeloid = sc.read_h5ad(outfilename)   \n",
    "Myeloid_LIVER = Myeloid[Myeloid.obs['tissue_origin'].isin(['Liver'])].copy()\n",
    "for lbl in ['leiden', 'res_0.5', 'res_0.8', 'res_1.0', 'res_1.5', 'res_1.8']:\n",
    "    del Myeloid_LIVER.obs[lbl]\n",
    "    del Myeloid_LIVER.uns\n",
    "Myeloid_LIVER"
   ]
  },
  {
   "cell_type": "code",
   "execution_count": null,
   "id": "59237f53-8353-4a5c-8b36-45a08d036d0c",
   "metadata": {
    "scrolled": true
   },
   "outputs": [],
   "source": [
    "# use scVI latent space for UMAP generation\n",
    "sc.pp.neighbors(Myeloid_LIVER, n_neighbors = 15, use_rep = \"X_scVI\", key_added = \"scVI\")\n",
    "sc.tl.leiden(Myeloid_LIVER, key_added = \"leiden\", resolution = 0.5, neighbors_key = \"scVI\")\n",
    "sc.tl.paga(Myeloid_LIVER, groups = 'leiden', neighbors_key = \"scVI\")\n",
    "sc.pl.paga(Myeloid_LIVER, frameon = True)\n",
    "sc.tl.umap(Myeloid_LIVER, init_pos = 'paga', neighbors_key = \"scVI\")"
   ]
  },
  {
   "cell_type": "markdown",
   "id": "3bca188f-7201-46b8-811a-a6a0b44e8620",
   "metadata": {
    "jp-MarkdownHeadingCollapsed": true
   },
   "source": [
    "## UMAP"
   ]
  },
  {
   "cell_type": "code",
   "execution_count": null,
   "id": "59018cd8-1440-4fec-a091-674c62eb0f5c",
   "metadata": {},
   "outputs": [],
   "source": [
    "# Figure 3A\n",
    "Myeloid_LIVER.obs['Myeloid_site_short'] = \"L\" + Myeloid_LIVER.obs['leiden'].astype(str)\n",
    "colors = {\n",
    "    'L0': '#790000',\n",
    "    'L1': '#0774d8',\n",
    "    'L2': '#fdf490',\n",
    "    'L3': '#004b00',\n",
    "    'L4': '#8e7900',\n",
    "    'L5': '#ff7266',\n",
    "    'L6': '#edb8b8',\n",
    "    'L7': '#5d7e66',\n",
    "    'L8': '#9ae4ff',\n",
    "    'L9': '#eb0077',\n",
    "    'L10': '#a57bb8',\n",
    "    'L11': '#5900a3'}\n",
    "\n",
    "sc.pl.umap(Myeloid_LIVER, color = 'Myeloid_site_short',\n",
    "           legend_loc = 'on data', legend_fontsize = 14, legend_fontoutline = 2, legend_fontweight = 1, frameon = True, palette = colors,\n",
    "           save = 'Myeloid_LIVER – Myeloid_site_short.png'"
   ]
  },
  {
   "cell_type": "markdown",
   "id": "7b363de1-44ff-4183-8d95-a471a07de1e0",
   "metadata": {
    "jp-MarkdownHeadingCollapsed": true
   },
   "source": [
    "## DotPlot"
   ]
  },
  {
   "cell_type": "code",
   "execution_count": null,
   "id": "d8c6fb2b-2b6c-42d0-99e2-86dd118bd852",
   "metadata": {},
   "outputs": [],
   "source": [
    "# Figure 3B\n",
    "Genes_Liver = [\"C5AR1\", \"CD68\", \"LYZ\",\n",
    "               'VCAN', 'S100A8', 'S100A9', \"FCN1\", 'CFD', 'CTSL', 'MMP19', 'MARCO',\n",
    "               'CD163', 'MRC1', 'C1QA', 'C1QB', 'C1QC',  \"FRMD4A\", \"SLCO2B1\", \"SLC40A1\", 'LGMN',\n",
    "               'IL7R', 'GZMA', 'GZMB', 'PRF1', 'GNLY', 'NKG7', 'CTSW', 'CD2',\n",
    "               'CADM1', 'CLEC9A', 'XCR1',\n",
    "               'LAMP3', 'KIF2A', 'RPS27L', 'GRSF1', 'CCL19', 'CCR7',\n",
    "               'XBP1', 'MZB1', 'CLEC4C', 'IL3RA', 'IRF7']\n",
    "order = ['L3', 'L8', 'L4', 'L6', 'L0', 'L1', 'L2', 'L5', 'L7', 'L10', 'L11', 'L9']\n",
    "\n",
    "sc.pl.dotplot(Myeloid_LIVER, Genes_Liver, 'Myeloid_site_short', standard_scale = 'var', swap_axes = False, dendrogram = False, categories_order = order,\n",
    "              save = 'Myeloid_LIVER annotation.png')"
   ]
  },
  {
   "cell_type": "code",
   "execution_count": null,
   "id": "7a59bfc5-d9ec-483e-91a9-25dc6238b0e4",
   "metadata": {},
   "outputs": [],
   "source": [
    "# Figure 3G\n",
    "ImmuneCheck = ['PDCD1', 'CTLA4', 'LAG3', 'HAVCR2', 'TIGIT', 'VSIR', 'IDO1', 'ICOS', 'CD96', 'SIGIRR', 'CD274', 'NECTIN2'] \n",
    "order = ['L3', 'L8', 'L4', 'L6', 'L0', 'L1', 'L2', 'L5', 'L7']\n",
    "\n",
    "subset_macro = Myeloid_LIVER[Myeloid_LIVER.obs['Myeloid_site_short'].isin(order)].copy() #To remove DCs\n",
    "sc.pl.dotplot(subset_macro, ImmuneCheck, 'Myeloid_site_short', standard_scale = 'var', swap_axes = False, dendrogram = False, categories_order = order, dot_max = 1,\n",
    "              save = 'Myeloid_LIVER ImmunoCheck.png')"
   ]
  },
  {
   "cell_type": "markdown",
   "id": "1074fdd2-8473-468a-ba82-05aad310dd4d",
   "metadata": {
    "jp-MarkdownHeadingCollapsed": true
   },
   "source": [
    "## Cell frequency"
   ]
  },
  {
   "cell_type": "code",
   "execution_count": null,
   "id": "89a0baa9-08d5-44cf-b032-af8c0853d7f1",
   "metadata": {},
   "outputs": [],
   "source": [
    "# Figure 2C\n",
    "## Outer circle\n",
    "Cells = pd.crosstab([Myeloid_LIVER.obs['Myeloid_site_short']], [Myeloid_LIVER.obs['tissue_origin']], dropna = True)\n",
    "Cells.to_excel('figures/Cells Myeloid_LIVER – Myeloid_site_short.xlsx', index = True)\n",
    "\n",
    "## Inner circle\n",
    "Myeloid_LIVER.obs['CellFamily'] = Myeloid_LIVER.obs['Myeloid_site_short'].map({\n",
    "    'L0': 'Immunoregulatory TAMs',\n",
    "    'L1': 'Immunoregulatory TAMs',\n",
    "    'L2': 'Immunoregulatory TAMs',\n",
    "    'L3': 'Inflammatory TAMs',\n",
    "    'L4': 'Inflammatory TAMs',\n",
    "    'L5': 'Immunoregulatory TAMs',\n",
    "    'L6': 'Immunoregulatory TAMs',\n",
    "    'L7': 'Immunoregulatory TAMs',\n",
    "    'L8': 'Inflammatory TAMs',\n",
    "    'L9': 'Others',\n",
    "    'L10': 'Others',\n",
    "    'L11': 'Others'})\n",
    "\n",
    "Cells = pd.crosstab([Myeloid_LIVER.obs['CellFamily']], [Myeloid_LIVER.obs['tissue_origin']], dropna = True)\n",
    "Cells.to_excel('figures/Cells Myeloid_LIVER – CellFamily.xlsx', index = True)"
   ]
  },
  {
   "cell_type": "markdown",
   "id": "ab66677d-a513-4c79-b380-c21713937b2d",
   "metadata": {
    "jp-MarkdownHeadingCollapsed": true
   },
   "source": [
    "## Heatmap top10 DEGs/cluster"
   ]
  },
  {
   "cell_type": "code",
   "execution_count": null,
   "id": "8cd50961-0fe4-44d0-841c-e25e4984dfd8",
   "metadata": {},
   "outputs": [],
   "source": [
    "# Create the object to convert to Seurat object for DEGs\n",
    "Myeloid_LIVER_raw = sc.AnnData(X = Myeloid_LIVER.layers['raw_counts'],\n",
    "                     obs = Myeloid_LIVER.obs[['batch_id', 'tissue_origin', 'patient_ID', 'Myeloid_site_short']],\n",
    "                     var = Myeloid_LIVER.var[['gene_ids']],\n",
    "                     obsm = Myeloid_LIVER.obsm)\n",
    "\n",
    "outfilename = os.path.join(data_folder, \"Myeloid_LIVER_raw.h5ad\")\n",
    "print(\"Saving h5ad data to file {}\".format(outfilename))\n",
    "Myeloid_LIVER_raw.write(outfilename)\n",
    "print(\"Done!\")\n",
    "\n",
    "# Export metadata\n",
    "Myeloid_LIVER_raw.obs.to_excel('.../Analysis/Synchro/figures/Myeloid_LIVER_metadata.xlsx')"
   ]
  },
  {
   "cell_type": "code",
   "execution_count": null,
   "id": "e9d60f1d-73b5-45f2-885e-11d7b034d24e",
   "metadata": {
    "tags": []
   },
   "outputs": [],
   "source": [
    "%%R\n",
    "Convert(\".../Analysis/Synchro/Data/Myeloid_LIVER_raw.h5ad\", dest = \"h5seurat\", assay = \"RNA\", overwrite = FALSE, verbose = TRUE)\n",
    "Myeloid_LIVER_raw = LoadH5Seurat(\".../Analysis/Synchro/Data/Myeloid_LIVER_raw.h5seurat\", meta.data = F)\n",
    "meta = read.xlsx(\".../Analysis/Synchro/figures/Myeloid_LIVER_metadata.xlsx\", rowNames = T)\n",
    "Myeloid_LIVER_raw@meta.data = meta\n",
    "saveRDS(Myeloid_LIVER_raw, \".../Analysis/Synchro/Data/Myeloid_LIVER_raw.RDS\")"
   ]
  },
  {
   "cell_type": "code",
   "execution_count": null,
   "id": "2002236f-14bb-4928-a7f8-5d7547d90192",
   "metadata": {},
   "outputs": [],
   "source": [
    "%%R\n",
    "Idents(Myeloid_LIVER_raw) = 'Myeloid_site_short'\n",
    "Myeloid_LIVER_raw = subset(Myeloid_LIVER_raw, idents = c('L3', 'L8', 'L4', 'L6', 'L0', 'L1', 'L2', 'L5', 'L7')) # subset of TAMs\n",
    "DEGs = FindAllMarkers(Myeloid_LIVER_raw, logfc.threshold = 0, test.use = \"negbinom\", latent_vars = 'patient_ID')\n",
    "write.xlsx(DEGs, \"DEGs - Myeloid_LIVER_raw all vs all – negbinom.xlsx\", rowNames = T)"
   ]
  },
  {
   "cell_type": "code",
   "execution_count": null,
   "id": "a75d1650-97fe-4841-b1ca-e852bec7844e",
   "metadata": {},
   "outputs": [],
   "source": [
    "# Figure 3D\n",
    "Subset = Myeloid_LIVER[~Myeloid_LIVER.obs['Myeloid_site_short'].isin(['L9', 'L10', 'L11'])].copy()\n",
    "Subset.obs['Myeloid_site_short'] = Subset.obs['Myeloid_site_short'].cat.reorder_categories(['L3', 'L8', 'L4', 'L6', 'L0', 'L1', 'L2', 'L5', 'L7'])\n",
    "Subset.layers[\"scaled\"] = sc.pp.scale(Subset, copy = True).X\n",
    "\n",
    "top10_liver = [\"S100A8\", \"S100A9\", \"S100A12\", \"FNDC3B\", \"VCAN\", \"ANPEP\", \"ZEB2\", \"NRIP1\", \"AQP9\", \"ATP2B1\",\n",
    "              \"SMIM25\", \"FCN1\", \"FCGR3A\", \"LST1\", \"G0S2\", \"SERPINA1\", \"LILRA5\", \"CFD\", \"LILRB2\", \"CTSC\",\n",
    "              \"CCL5\", \"CD69\", \"NKG7\", \"XCL2\", \"GNLY\", \"IL7R\", \"CEMIP2\", \"IL32\", \"RORA\", \"CD7\",\n",
    "              \"APOC1\", \"APOE\", \"CTSD\", \"LYZ\", \"C5AR1\", \"PSAP\", \"THBS1\", \"FCN1\", \"FTL\", \"EREG\",\n",
    "              \"IL7R\", \"CD69\", \"CCL5\", \"SYTL3\", \"ZFP36L2\", \"RORA\", \"NKG7\", \"IFITM1\", \"KLRB1\", \"CST7\",\n",
    "              \"TOB1\", \"HLA-DQA1\", \"TUBA1A\", \"HLA-DPB1\", \"AREG\", \"VIM\", \"IL1R2\", \"HLA-DQB1\", \"HLA-DPA1\", \"HLA-DRA\",\n",
    "              \"HSPA6\", \"CCL4L2\", \"HSPB1\", \"BAG3\", \"HSPA1B\", \"CCL3\", \"HSPA1A\", \"EGR1\", \"CCL3L1\", \"IL1B\",\n",
    "              \"CCL4L2\", \"C1QC\", \"C1QB\", \"SELENOP\", \"TEX14\", \"CCL3\", \"C1QA\", \"LRRC23\", \"IER3\", \"PDK4\",\n",
    "              \"SPATS2L\", \"FMNL2\", \"UST\", \"FNIP2\", \"CCSER1\", \"CHST11\", \"ALCAM\", \"SLC8A1\", \"ATF6\", \"RAPGEF1\"]\n",
    "\n",
    "sc.pl.matrixplot(Subset, top10_liver, groupby = 'Myeloid_site_short', swap_axes = True,\n",
    "                 layer = \"scaled\", vmin = -2, vmax = 2, cmap = 'RdBu_r',\n",
    "                 save = \"Myeloid_LIVER heatmap top 10 DEGs_Only Macrophages_Scaled.png\")"
   ]
  },
  {
   "cell_type": "markdown",
   "id": "629ef083-83f2-4c16-ae4c-b653b784fc2c",
   "metadata": {
    "jp-MarkdownHeadingCollapsed": true,
    "tags": []
   },
   "source": [
    "## Module scores"
   ]
  },
  {
   "cell_type": "code",
   "execution_count": null,
   "id": "3307c967-6d9e-4dde-9e50-f6081270f85a",
   "metadata": {},
   "outputs": [],
   "source": [
    "# Figure 3E input data\n",
    "APC_TAMs = [\"HLA-DRA\", \"HLA-DRB1\", \"HLA-DRB2\", \"HLA-DRB3\", \"HLA-DRB4\", \"HLA-DRB5\", \"HLA-DRB6\", \"HLA-DRB7\", \"HLA-DRB8\", \"HLA-DRB9\", \"HLA-DQA1\", \"HLA-DQB1\", \"HLA-DQA2\", \"HLA-DQB2\", \"HLA-DQB3\", \"HLA-DOA\", \"HLA-DOB\", \"HLA-DMA\", \"HLA-DMB\", \"HLA-DPA1\", \"HLA-DPB1\", \"HLA-DPA2\", \"HLA-DPB2\", \"HLA-DPA3\"]\n",
    "LA_TAMs = ['ACP5', 'APOE', 'APOC1', 'C1QA', 'C1QB', 'C1QC', 'CCL18', 'CD163', 'CD36', 'CD63', 'CTSB', 'CTSD', 'CTSL', 'F13A1', 'FABP5', 'FOLR2', 'GPNMB', 'LIPA', 'MARCO', 'MERTK',  'MMP9', 'MRC1', 'NRF1', 'PLA2G7', 'RNASE1', 'TFDP2', 'ZEB1', 'HIF1A', 'MAF', 'MAFB', 'TCF4', 'TFEC']\n",
    "Angio_TAMs = ['CCL20', 'CD163', 'CD300E', 'CD44', 'CD55', 'CEBPB', 'CTSB', 'EREG', 'FCN1', 'FLT1',  'IL1B', 'IL1RN', 'CXCL8', 'MIF', 'OLR1', 'PPARG', 'S100A8', 'S100A9', 'S100A12', 'SERPINB2', 'THBS1', 'TIMP1', 'VCAN', 'VEGFA', 'BACH1', 'CEBPB', 'FOSL2', 'HIF1A', 'NFKB1', 'RUNX1', 'ZEB2']\n",
    "\n",
    "Subset = Myeloid_LIVER[~Myeloid_LIVER.obs['Myeloid_site_short'].isin(['L9', 'L10', 'L11'])].copy()\n",
    "\n",
    "sc.tl.score_genes(Subset, LA_TAMs, ctrl_size = 50, gene_pool = None, n_bins = 25, score_name = 'LA_TAMs', random_state = 0, copy = False)\n",
    "sc.tl.score_genes(Subset, Angio_TAMs, ctrl_size = 50, gene_pool = None, n_bins = 25, score_name = 'Angio_TAMs', random_state = 0, copy = False)\n",
    "sc.tl.score_genes(Subset, APC_TAMs, ctrl_size = 50, gene_pool = None, n_bins = 25, score_name = 'APC_TAMs', random_state = 0, copy = False)\n",
    "\n",
    "Scores = Subset.obs[['Myeloid_site_short', 'LA_TAMs', 'Angio_TAMs', 'APC_TAMs']]\n",
    "\n",
    "scaler = MinMaxScaler()\n",
    "scores_scaled = scaler.fit_transform(Scores)\n",
    "scores_scaled = pd.DataFrame(scores_scaled, columns = ['LA_TAMs_scaled', 'Angio_TAMs_scaled', 'APC_TAMs_scaled'], index = Subset.obs_names)\n",
    "Scores = pd.concat([Subset.obs[['Myeloid_site_short']], Scores, scores_scaled], axis = 1)\n",
    "Score.to_excel('figures/Myeloid_LIVER – Module scores x Myeloid_site_short.xlsx', index = True)"
   ]
  },
  {
   "cell_type": "code",
   "execution_count": null,
   "id": "9e2b3fb2-9328-492b-9762-1f0f7b1bce6f",
   "metadata": {},
   "outputs": [],
   "source": [
    "%%R\n",
    "# Figure 3E Radar Chart\n",
    "library(dplyr)\n",
    "\n",
    "setwd(\".../figures\")\n",
    "path = \".../figures\"\n",
    "\n",
    "RadarPlot = read.xlsx(\"Myeloid_LIVER – Module scores x Myeloid_site_short.xlsx\", rowNames = T)\n",
    "\n",
    "LA_TAMs_scaled = RadarPlot %>%\n",
    "    select(Myeloid_site_short, LA_TAMs_scaled)\n",
    "\n",
    "Angio_TAMs_scaled = RadarPlot %>%\n",
    "    select(Myeloid_site_short, Angio_TAMs_scaled)\n",
    "\n",
    "APC_TAMs_scaled = RadarPlot %>%\n",
    "    select(Myeloid_site_short, APC_TAMs_scaled)\n",
    "\n",
    "Colors_scaled = c('Angio_TAMs' = '#008080', 'LA_TAMs' = '#a2798f', 'APC_TAMs' = '#9e379f')\n",
    "colors_in = alpha(Colors_scaled, 0.8)\n",
    "\n",
    "png(file = file.path(path, 'Angio_TAMs_scaled LIVER.png'), units = \"in\", width = 6, height = 6, res = 1000, bg = \"white\")\n",
    "\n",
    "radarchart(Angio_TAMs_scaled, \n",
    "            axistype = 0, axislabcol = 'grey10', \n",
    "            pcol = 'black', pfcol = alpha('#9e379f', 0.8), plwd = 1, plty = 1, pty = 32,\n",
    "            cglcol = \"grey50\", cglty = 1,  cglwd = 1, \n",
    "            vlcex = 1)\n",
    "legend(x = 1, y = 1, legend = rownames(Angio_TAMs_scaled[-c(1,2),]), bty = \"n\", pch = 20 , col = alpha('#9e379f', 0.8) , text.col = \"grey\", cex = 1.2, pt.cex = 3)\n",
    "\n",
    "dev.off()"
   ]
  },
  {
   "cell_type": "code",
   "execution_count": null,
   "id": "850cc4dc-d914-43d2-8b6d-d6d9256e1c84",
   "metadata": {},
   "outputs": [],
   "source": [
    "# Figure 3F\n",
    "Cytoxic_Inflammatory = ['PRF1', 'GZMM', 'GZMA', 'KLRB1', 'GZMK', 'GZMH', 'IL32', 'CCL5', 'GZMB', 'GNLY', 'IFNG', 'TNF', 'CST7', 'NKG7', 'EOMES', 'EFHD2', 'F2R', 'SLAMF7', \"IL1B\", \"IL2\", \"IL4\"]\n",
    "Subset = Myeloid_LIVER[~Myeloid_LIVER.obs['Myeloid_site_short'].isin(['L9', 'L10', 'L11'])].copy()\n",
    "\n",
    "sc.tl.score_genes(Subset, Cytoxic_Inflammatory, ctrl_size = 50, gene_pool = None, n_bins = 25, score_name = 'Cytoxic_Inflammatory_score', random_state = 0, copy = False)\n",
    "sc.pl.umap(Subset, color = 'Cytoxic_Inflammatory_score', vmin = 0, vmax = 1, cmap = 'inferno', title = 'Cytotoxic-Inflammatory Score', save = 'Myeloid_LIVER – Cytoxic_Inflammatory_Score.png')"
   ]
  },
  {
   "cell_type": "markdown",
   "id": "5f015819-2626-4401-bbf7-075715dac073",
   "metadata": {
    "jp-MarkdownHeadingCollapsed": true
   },
   "source": [
    "## ViolinPlot"
   ]
  },
  {
   "cell_type": "code",
   "execution_count": null,
   "id": "6211e109-27c4-4535-8c44-17af5115d4a5",
   "metadata": {},
   "outputs": [],
   "source": [
    "# Supplementary figure 2A\n",
    "KC = ['CD5L', 'VSIG4', 'MS4A4A', 'SLC16A9', 'TMEM132E', 'SLC1A3', 'CD163', 'FOLR2', 'TIMD4', 'GFRA2', 'ADRB1', 'TMEM26', 'SLC40A1',\n",
    "      'VCAM1', 'SUCNR1', 'NDST3', 'CETP', 'LYVE1', 'MARCO', 'SDC3', 'CXCL12', 'LILRB5', 'SCD', 'SELENBP1',\n",
    "      'MMP19', 'LGMN', 'HMOX1', 'CTSL', 'C2', 'FABP3', 'TMEM37', 'RND3']\n",
    "\n",
    "colors_liver = list(Myeloid_LIVER.uns['Myeloid_site_short_colors'])\n",
    "\n",
    "sc.pl.stacked_violin(Myeloid_LIVER, KC, 'Myeloid_site_short', standard_scale = 'var', swap_axes = False, dendrogram = False, scale = 'count', row_palette = colors_liver, yticklabels = True,\n",
    "                     save = \"Myeloid_LIVER KC signature.png\")"
   ]
  },
  {
   "cell_type": "markdown",
   "id": "46621a02-201f-4bd6-a46c-d75dcbe9fdd6",
   "metadata": {
    "tags": []
   },
   "source": [
    "# 2. **Myeloid cells / Total object**"
   ]
  },
  {
   "cell_type": "code",
   "execution_count": null,
   "id": "3e24edf4-6480-4792-aee7-464cbd68c1ac",
   "metadata": {},
   "outputs": [],
   "source": [
    "outfilename = os.path.join(data_folder, \"Synchro_Reclustering_Myeloid.h5ad\")\n",
    "Myeloid = sc.read_h5ad(outfilename)   \n",
    "\n",
    "Myeloid.obs['Myeloid_site_short'] = \"\"\n",
    "Myeloid_BLOOD.obs['Myeloid_site_short'] = Myeloid_BLOOD.obs['Myeloid_site_short'].astype(str)\n",
    "Myeloid_COLON.obs['Myeloid_site_short'] = Myeloid_COLON.obs['Myeloid_site_short'].astype(str)\n",
    "Myeloid_LIVER.obs['Myeloid_site_short'] = Myeloid_LIVER.obs['Myeloid_site_short'].astype(str)\n",
    "Myeloid.obs['Myeloid_site_short'].update(Myeloid_BLOOD.obs['Myeloid_site_short'])\n",
    "Myeloid.obs['Myeloid_site_short'].update(Myeloid_COLON.obs['Myeloid_site_short'])\n",
    "Myeloid.obs['Myeloid_site_short'].update(Myeloid_LIVER.obs['Myeloid_site_short'])\n",
    "\n",
    "Myeloid.obs['CellFamily'] = Myeloid.obs['Myeloid_site_short'].map({\n",
    "    'B0': 'cMono_CD14',\n",
    "    'B1': 'cMono_CD14',\n",
    "    'B2': 'cMono_CD14',\n",
    "    'B3': 'cMono_CD14',\n",
    "    'B4': 'cMono_CD14',\n",
    "    'B5': 'ncMono_FCGR3A',\n",
    "    'B6': 'pDCs',\n",
    "    'C0': 'Inflammatory TAMs',\n",
    "    'C1': 'pDCs',\n",
    "    'C2': 'Inflammatory TAMs',\n",
    "    'C3': 'Immunoregulatory TAMs',\n",
    "    'C4': 'Inflammatory TAMs',\n",
    "    'C5': 'Immunoregulatory TAMs',\n",
    "    'C6': 'Inflammatory TAMs',\n",
    "    'C7': 'pDCs',\n",
    "    'C8': 'Immunoregulatory TAMs',\n",
    "    'C9': 'DC_LAMP3',\n",
    "    'L0': 'Immunoregulatory TAMs',\n",
    "    'L1': 'Immunoregulatory TAMs',\n",
    "    'L2': 'Immunoregulatory TAMs',\n",
    "    'L3': 'Inflammatory TAMs',\n",
    "    'L4': 'Inflammatory TAMs',\n",
    "    'L5': 'Immunoregulatory TAMs',\n",
    "    'L6': 'Immunoregulatory TAMs',\n",
    "    'L7': 'Immunoregulatory TAMs',\n",
    "    'L8': 'Inflammatory TAMs',\n",
    "    'L9': 'pDCs',\n",
    "    'L10': 'cDC1',\n",
    "    'L11': 'DC_LAMP3'})\n",
    "\n",
    "colors_Myeloid_site_short = {\n",
    "    'B0': '#d60000',\n",
    "    'B1': '#8c3bff',\n",
    "    'B2': '#018700',\n",
    "    'B3': '#00acc6',\n",
    "    'B4': '#97ff00',\n",
    "    'B5': '#ff7ed1',\n",
    "    'B6': '#6b004f',\n",
    "    'C0': '#ffa52f',\n",
    "    'C1': '#573b00',\n",
    "    'C2': '#005659',\n",
    "    'C3': '#0000dd',\n",
    "    'C4': '#00fdcf',\n",
    "    'C5': '#a17569',\n",
    "    'C6': '#bcb6ff',\n",
    "    'C7': '#95b577',\n",
    "    'C8': '#bf03b8',\n",
    "    'C9': '#645474',\n",
    "    'L0': '#790000',\n",
    "    'L1': '#0774d8',\n",
    "    'L2': '#fdf490',\n",
    "    'L3': '#004b00',\n",
    "    'L4': '#8e7900',\n",
    "    'L5': '#ff7266',\n",
    "    'L6': '#edb8b8',\n",
    "    'L7': '#5d7e66',\n",
    "    'L8': '#9ae4ff',\n",
    "    'L9': '#eb0077',\n",
    "    'L10': '#a57bb8',\n",
    "    'L11': '#5900a3'}\n",
    "\n",
    "colors_CellFamily = {\n",
    "    'cMono_CD14': '#7a49a5',\n",
    "    'ncMono_FCGR3A': '#0000ff',\n",
    "    'Inflammatory TAMs': '#0b5987',\n",
    "    'Immunoregulatory TAMs': '#870B59',\n",
    "    'cDC1': '#638CFF',\n",
    "    'DC_LAMP3': '#ffd663',\n",
    "    'pDCs': '#03989e'}\n",
    "\n",
    "Myeloid"
   ]
  },
  {
   "cell_type": "markdown",
   "id": "3212c08c-10a6-45be-87bf-d9ac9269e803",
   "metadata": {
    "jp-MarkdownHeadingCollapsed": true
   },
   "source": [
    "## UMAP"
   ]
  },
  {
   "cell_type": "code",
   "execution_count": null,
   "id": "12a1ff9e-9a35-4991-b506-a62dc6746281",
   "metadata": {},
   "outputs": [],
   "source": [
    "# Figure 1B\n",
    "sc.pl.umap(Myeloid, color = 'tissue_origin', save = 'Myeloid total – tissue_origin.png'"
   ]
  },
  {
   "cell_type": "code",
   "execution_count": null,
   "id": "eb1dfac5-2fca-4e38-be5a-459d5987a910",
   "metadata": {},
   "outputs": [],
   "source": [
    "# Figure 1C\n",
    "sc.pl.umap(Myeloid, color = 'CellFamily', palette = colors_CellFamily, save = 'Myeloid total – CellFamily.png'"
   ]
  },
  {
   "cell_type": "code",
   "execution_count": null,
   "id": "314c4ffc-aff4-4eef-9ccd-eb2d885721f7",
   "metadata": {},
   "outputs": [],
   "source": [
    "# Supplementary figure 4A left\n",
    "colors_Myeloid_site_short_refined = {\n",
    "    'B0': '#d60000',\n",
    "    'B1': '#8c3bff',\n",
    "    'B2': '#018700',\n",
    "    'B3': '#00acc6',\n",
    "    'B4': '#97ff00',\n",
    "    'B5': '#ff7ed1',\n",
    "    'B6': '#bcbcbc',\n",
    "    'C0': '#ffa52f',\n",
    "    'C1': '#bcbcbc',\n",
    "    'C2': '#005659',\n",
    "    'C3': '#0000dd',\n",
    "    'C4': '#00fdcf',\n",
    "    'C5': '#a17569',\n",
    "    'C6': '#bcb6ff',\n",
    "    'C7': '#bcbcbc',\n",
    "    'C8': '#bf03b8',\n",
    "    'C9': '#bcbcbc',\n",
    "    'L0': '#790000',\n",
    "    'L1': '#0774d8',\n",
    "    'L2': '#fdf490',\n",
    "    'L3': '#004b00',\n",
    "    'L4': '#8e7900',\n",
    "    'L5': '#ff7266',\n",
    "    'L6': '#edb8b8',\n",
    "    'L7': '#5d7e66',\n",
    "    'L8': '#9ae4ff',\n",
    "    'L9': '#bcbcbc',\n",
    "    'L10': '#bcbcbc',\n",
    "    'L11': '#bcbcbc'}\n",
    "\n",
    "sc.pl.umap(Myeloid, color = 'Myeloid_site_short',\n",
    "           legend_loc = 'on data', legend_fontsize = 14, legend_fontoutline = 2, legend_fontweight = 1, frameon = True, palette = colors_Myeloid_site_short_refined,\n",
    "           save = 'Myeloid total – Myeloid_site_short with DCs in gray.png'"
   ]
  },
  {
   "cell_type": "markdown",
   "id": "fc253b0a-e6dc-4eb4-8082-56985d445b27",
   "metadata": {
    "jp-MarkdownHeadingCollapsed": true
   },
   "source": [
    "## DotPlot"
   ]
  },
  {
   "cell_type": "code",
   "execution_count": null,
   "id": "b54f4fbb-5304-4e70-b74c-f7126973d6ba",
   "metadata": {},
   "outputs": [],
   "source": [
    "# Figure 1C\n",
    "Signature = ['CD14', 'FCGR3A', 'CD68', 'LYZ', 'VCAN', 'S100A8', 'S100A9', 'FCN1', 'CFD', 'CTSL', 'CD163', 'MRC1', 'C1QA', 'C1QB', 'C1QC',\n",
    "            'CADM1', 'CLEC9A', 'XCR1', 'LAMP3', 'KIF2A', 'RPS27L', 'GRSF1', 'CCL19', 'CLEC4C', 'IL3RA', 'IRF7']\n",
    "order = ['cMono_CD14', 'ncMono_FCGR3A', 'Inflammatory TAMs', 'Immunoregulatory TAMs', 'cDC1', 'DC_LAMP3', 'pDCs']\n",
    "\n",
    "sc.pl.dotplot(Myeloid, Signature, 'CellFamily', standard_scale = 'var', swap_axes = False, dendrogram = False, dot_max = 1, categories_order = order,\n",
    "              save = 'Myeloid annotation.png')"
   ]
  },
  {
   "cell_type": "markdown",
   "id": "4351727f-248b-4220-aee7-fe3d1ddc1617",
   "metadata": {
    "jp-MarkdownHeadingCollapsed": true
   },
   "source": [
    "## Cell frequency"
   ]
  },
  {
   "cell_type": "code",
   "execution_count": null,
   "id": "e92e830e-d76d-4fdd-85bf-f39e43b35eb6",
   "metadata": {},
   "outputs": [],
   "source": [
    "# Figure 2D input data\n",
    "Cells = pd.crosstab([Myeloid.obs['CellFamily']], [Myeloid.obs['tissue_origin']], dropna = True)\n",
    "Cells.to_excel('figures/Cells Myeloid – CellFamily x tissue_origin.xlsx', index = True)"
   ]
  },
  {
   "cell_type": "code",
   "execution_count": null,
   "id": "926d82f8-cf94-4539-a65e-925f3d3cf084",
   "metadata": {},
   "outputs": [],
   "source": [
    "%%R\n",
    "# Figure 2D Alluvial Plot\n",
    "library(ggalluvial)\n",
    "Fam = read.xlsx('.../figures/Cells Myeloid – CellFamily x tissue_origin.xlsx', sheet = 'Alluvion')\n",
    "\n",
    "col = c('Inflammatory TAMs' = '#0b5987',\n",
    "        'Immunoregulatory TAMs' = '#870B59',\n",
    "        'pDCs' = '#03989e',\n",
    "        'DC_LAMP3' = '#ffd663',\n",
    "        'cDC1' = '#638CFF',\n",
    "        'cMono_CD14' = '#7a49a5',\n",
    "        'ncMono_FCGR3A' = '#0000ff')\n",
    "\n",
    "png(file = file.path(\".../figures/\", \"Cells Myeloid – CellFamily x tissue_origin.png\"), units = \"in\", width = 5, height = 8, res = 300)\n",
    "\n",
    "ggplot(Fam, aes(x = tissue_origin, y = Frequency, stratum = CellFamily, alluvium = CellFamily)) + \n",
    "    geom_hline(yintercept = c(0, 25, 50, 75, 100), color = 'gray90') +\n",
    "    geom_alluvium(aes(fill = CellFamily), curve_type = \"sigmoid\", color = \"gray80\", lwd = .3, alpha = .3) + \n",
    "    geom_stratum(aes(fill = CellFamily), width = 7/16, lwd = .3, color = \"black\") + \n",
    "    theme_classic() + theme(axis.line = element_blank(), axis.ticks = element_blank()) +\n",
    "    scale_y_continuous(expand = c(.01,0)) +\n",
    "    scale_x_discrete(expand = c(.08, 0)) +\n",
    "    scale_fill_manual(values = col) + \n",
    "    theme(legend.position = 'bottom', axis.title = element_blank())\n",
    "\n",
    "dev.off()"
   ]
  },
  {
   "cell_type": "markdown",
   "id": "1f1a49ce-9ed7-42a3-93bb-eb0b8477fdbe",
   "metadata": {
    "jp-MarkdownHeadingCollapsed": true
   },
   "source": [
    "## Heatmap top5 DEGs/CellFamily"
   ]
  },
  {
   "cell_type": "code",
   "execution_count": null,
   "id": "5ab87db9-c672-46be-9edf-256f881e45b6",
   "metadata": {},
   "outputs": [],
   "source": [
    "# Create the object to convert to Seurat object for DEGs\n",
    "Myeloid.obs['CellFamily_tissue_origin'] = Myeloid.obs['CellFamily'].astype(str) + \"_\" + Myeloid.obs['tissue_origin'].astype(str)\n",
    "Myeloid_raw = sc.AnnData(X = Myeloid.layers['raw_counts'],\n",
    "                     obs = Myeloid.obs[['batch_id', 'tissue_origin', 'patient_ID', 'CellFamily', 'CellFamily_tissue_origin']],\n",
    "                     var = Myeloid.var[['gene_ids']],\n",
    "                     obsm = Myeloid.obsm)\n",
    "\n",
    "outfilename = os.path.join(data_folder, \"Myeloid_raw.h5ad\")\n",
    "print(\"Saving h5ad data to file {}\".format(outfilename))\n",
    "Myeloid_raw.write(outfilename)\n",
    "print(\"Done!\")\n",
    "\n",
    "# Export metadata\n",
    "Myeloid_raw.obs.to_excel('.../Analysis/Synchro/figures/Myeloid_metadata.xlsx')"
   ]
  },
  {
   "cell_type": "code",
   "execution_count": null,
   "id": "f54448e6-10bf-43d7-9fc8-bb72104e53fc",
   "metadata": {
    "tags": []
   },
   "outputs": [],
   "source": [
    "%%R\n",
    "Convert(\".../Analysis/Synchro/Data/Myeloid_raw.h5ad\", dest = \"h5seurat\", assay = \"RNA\", overwrite = FALSE, verbose = TRUE)\n",
    "Myeloid_raw = LoadH5Seurat(\".../Analysis/Synchro/Data/Myeloid_raw.h5seurat\", meta.data = F)\n",
    "meta = read.xlsx(\".../Analysis/Synchro/figures/Myeloid_metadata.xlsx\", rowNames = T)\n",
    "Myeloid_raw@meta.data = meta\n",
    "saveRDS(Myeloid_raw, \".../Analysis/Synchro/Data/Myeloid_raw.RDS\")"
   ]
  },
  {
   "cell_type": "code",
   "execution_count": null,
   "id": "504d4680-4f7d-48a6-bdab-96f890a94984",
   "metadata": {},
   "outputs": [],
   "source": [
    "%%R\n",
    "Idents(Myeloid_raw) = 'CellFamily_tissue_origin'\n",
    "DEGs = FindAllMarkers(Myeloid_raw, logfc.threshold = 0, test.use = \"negbinom\", latent_vars = 'patient_ID')\n",
    "write.xlsx(DEGs, \"DEGs - Myeloid_raw – CellFamily_tissue_origin all vs all – negbinom.xlsx\", rowNames = T)"
   ]
  },
  {
   "cell_type": "code",
   "execution_count": null,
   "id": "aace3577-f172-46a5-9b00-dd0cbcc77729",
   "metadata": {},
   "outputs": [],
   "source": [
    "# Figure 1E\n",
    "top5_CellFamily_tissue_origin = [\"C15orf48\", \"CCL20\", \"IL1RN\", \"CD44\", \"SOD2\",       #Inflammatory TAMs COLON\n",
    "                                 \"S100A12\", \"FCN1\", \"ZEB2\", \"VCAN\", \"SLC11A1\",       #Inflammatory TAMs LIVER\n",
    "                                 \"RNASE1\", \"SELENOP\", \"MRC1\", \"CCL2\", \"LYVE1\",       #Immunoregulatory TAMs COLON\n",
    "                                 \"HLA-DPA1\", \"HLA-DPB1\", \"IL1R2\", \"HLA-DRA\", \"RHOB\", #Immunoregulatory TAMs LIVER\n",
    "                                 \"CPNE3\", \"SNX3\", \"CLEC9A\", \"CPVL\", \"HDAC9\",         #cDC1 LIVER\n",
    "                                 \"LAMP3\", \"CCR7\", \"TXN\", \"FSCN1\", \"KDM2B\",           #DC_LAMP3 COLON\n",
    "                                 \"BIRC3\", \"CCR7\", \"LAMP3\", \"FSCN1\", \"CD79A\",         #DC_LAMP3 LIVER\n",
    "                                 \"GZMB\", \"FCHSD2\", \"IRF7\", \"SOX4\", \"IRF4\",           #pDCs COLON\n",
    "                                 \"PTGDS\", \"GZMB\", \"IRF7\", \"CXCR3\", \"IRF4\"]           #pDCs LIVER\n",
    "\n",
    "order = ['Inflammatory TAMs_COLON', 'Inflammatory TAMs_LIVER', 'Immunoregulatory TAMs_COLON', 'Immunoregulatory TAMs_LIVER', 'cDC1_LIVER', 'DC_LAMP3_COLON', 'DC_LAMP3_LIVER', 'pDCs_COLON', 'pDCs_LIVER']\n",
    "\n",
    "sc.pl.matrixplot(Myeloid, top5_CellFamily_tissue_origin, groupby = 'CellFamily_tissue_origin', swap_axes = False, standard_scale = 'var',\n",
    "                 cmap = \"Reds\", \n",
    "                 categories_order = order,\n",
    "                 dendrogram = False,\n",
    "                 save = \"Myeloid – top5_CellFamily_tissue_origin.png\")"
   ]
  },
  {
   "cell_type": "markdown",
   "id": "ef371297-a13d-4b75-909c-e16501ad6429",
   "metadata": {
    "jp-MarkdownHeadingCollapsed": true
   },
   "source": [
    "## Correlation matrix"
   ]
  },
  {
   "cell_type": "code",
   "execution_count": null,
   "id": "3e9f9039-dab7-4ad3-a6a3-28c96a05aced",
   "metadata": {},
   "outputs": [],
   "source": [
    "Myeloid_subset = Myeloid[~Myeloid.obs['CellFamily'].isin(['cDC1', 'DC_LAMP3', 'pDCs'])].copy()"
   ]
  },
  {
   "cell_type": "code",
   "execution_count": null,
   "id": "4c885532-5ee7-40a1-b799-29630a6b3c42",
   "metadata": {},
   "outputs": [],
   "source": [
    "sc.tl.dendrogram(Myeloid_subset, 'Myeloid_site_short', use_rep = \"X_scVI\", cor_method = 'pearson')"
   ]
  },
  {
   "cell_type": "code",
   "execution_count": null,
   "id": "09dbc565-68c9-40ed-8040-c7916594a3c1",
   "metadata": {},
   "outputs": [],
   "source": [
    "# Figure 4A\n",
    "plt.rcParams['axes.grid'] = False\n",
    "sc.pl.correlation_matrix(Myeloid_subset, 'Myeloid_site_short', cmap = 'RdGy_r',\n",
    "                         save = 'Correlation Matrix Myeloid_no DCs.png')"
   ]
  },
  {
   "cell_type": "markdown",
   "id": "da84a994-1491-48e6-8df3-65a3cc48da21",
   "metadata": {
    "jp-MarkdownHeadingCollapsed": true
   },
   "source": [
    "## Density population plot"
   ]
  },
  {
   "cell_type": "code",
   "execution_count": null,
   "id": "cc9eaf0c-a21f-4193-803a-c4d66e76e382",
   "metadata": {},
   "outputs": [],
   "source": [
    "sc.tl.embedding_density(Myeloid_subset, basis = 'umap', groupby = 'CellFamily')"
   ]
  },
  {
   "cell_type": "code",
   "execution_count": null,
   "id": "ff5b44a9-9500-4db3-87fe-bbb7d6d0bf83",
   "metadata": {},
   "outputs": [],
   "source": [
    "# Supplementary figure 4A right\n",
    "Group = list(Myeloid_subset.obs['CellFamily'].unique())\n",
    "for x in Group:\n",
    "    sc.pl.embedding_density(Myeloid_subset, basis = 'umap', key = 'umap_density_CellFamily', color_map = 'Reds', group = f'{x}', bg_dotsize = 2, fg_dotsize = 20,\n",
    "                        save = f'Myeloid total – DensityPlot population {x} – no DCs.png')"
   ]
  },
  {
   "cell_type": "markdown",
   "id": "f59f0220-9492-4b95-8887-352993f0e135",
   "metadata": {
    "jp-MarkdownHeadingCollapsed": true
   },
   "source": [
    "## Pseudotime analysis with Monocle2"
   ]
  },
  {
   "cell_type": "code",
   "execution_count": null,
   "id": "68cb53df-327d-403e-ab41-a4338541dd28",
   "metadata": {},
   "outputs": [],
   "source": [
    "# Create the object to convert to Seurat object for Monocle2\n",
    "Myeloid_subset = Myeloid[~Myeloid.obs['CellFamily'].isin(['cDC1', 'DC_LAMP3', 'pDCs'])].copy()\n",
    "Myeloid_subset_norm = sc.AnnData(X = Myeloid_subset.X,\n",
    "                                 obs = Myeloid_subset.obs[['batch_id', 'tissue_origin', 'patient_ID', 'CellFamily', 'Myeloid_site_short']],\n",
    "                                 var = Myeloid_subset.var[['gene_ids']],\n",
    "                                 obsm = Myeloid_subset.obsm)\n",
    "\n",
    "outfilename = os.path.join(data_folder, \"Myeloid_subset_norm.h5ad\")\n",
    "print(\"Saving h5ad data to file {}\".format(outfilename))\n",
    "Myeloid_subset_norm.write(outfilename)\n",
    "print(\"Done!\")\n",
    "\n",
    "# Export metadata\n",
    "Myeloid_subset_norm.obs.to_excel('.../Analysis/Synchro/figures/Myeloid_subset_metadata.xlsx')"
   ]
  },
  {
   "cell_type": "code",
   "execution_count": null,
   "id": "d08ecf53-acb8-407c-8bf2-cb9b4527aae7",
   "metadata": {
    "tags": []
   },
   "outputs": [],
   "source": [
    "%%R\n",
    "Convert(\".../Analysis/Synchro/Data/Myeloid_subset_norm.h5ad\", dest = \"h5seurat\", assay = \"RNA\", overwrite = FALSE, verbose = TRUE)\n",
    "Myeloid_subset_norm = LoadH5Seurat(\".../Analysis/Synchro/Data/Myeloid_subset_norm.h5seurat\", meta.data = F)\n",
    "meta = read.xlsx(\".../Analysis/Synchro/figures/Myeloid_subset_metadata.xlsx\", rowNames = T)\n",
    "Myeloid_subset_norm@meta.data = meta\n",
    "saveRDS(Myeloid_subset_norm, \".../Analysis/Synchro/Data/Myeloid_subset_norm.RDS\")"
   ]
  },
  {
   "cell_type": "code",
   "execution_count": null,
   "id": "c94bde79-51c6-49ea-87ea-67716330b7c3",
   "metadata": {
    "tags": []
   },
   "outputs": [],
   "source": [
    "%%R\n",
    "Idents(Myeloid_subset_norm) = \"Myeloid_site_short\"\n",
    "DimPlot(Myeloid_subset_norm, label = T)"
   ]
  },
  {
   "cell_type": "markdown",
   "id": "fbb2d136-fd1c-4515-a38d-eb40d57a3217",
   "metadata": {
    "jp-MarkdownHeadingCollapsed": true
   },
   "source": [
    "### Running Monocle2"
   ]
  },
  {
   "cell_type": "code",
   "execution_count": null,
   "id": "b4b802f0-df04-4fe0-89ec-5c41bbf19d5e",
   "metadata": {
    "tags": []
   },
   "outputs": [],
   "source": [
    "%%R\n",
    "library(monocle)\n",
    "\n",
    "data = as(as.matrix(Myeloid_subset_norm@assays$RNA@data), 'sparseMatrix')\n",
    "pd = new('AnnotatedDataFrame',data = Myeloid_subset_norm@meta.data)\n",
    "fData = data.frame(gene_short_name = row.names(data), row.names = row.names(data))\n",
    "fd = new('AnnotatedDataFrame', data = fData)\n",
    "fd"
   ]
  },
  {
   "cell_type": "code",
   "execution_count": null,
   "id": "fe04f7e8-d6f2-421c-9426-fd3253367049",
   "metadata": {
    "tags": []
   },
   "outputs": [],
   "source": [
    "%%R\n",
    "monocle_object = newCellDataSet(data,\n",
    "                                phenoData = pd,\n",
    "                                featureData = fd,\n",
    "                                lowerDetectionLimit = 0.5,\n",
    "                                expressionFamily = negbinomial.size())\n",
    "monocle_object"
   ]
  },
  {
   "cell_type": "code",
   "execution_count": null,
   "id": "4579cfd1-99c3-4701-97ba-8ce14c1e75ef",
   "metadata": {
    "tags": []
   },
   "outputs": [],
   "source": [
    "%%R\n",
    "monocle_object = estimateSizeFactors(monocle_object)\n",
    "monocle_object = estimateDispersions(monocle_object)"
   ]
  },
  {
   "cell_type": "code",
   "execution_count": null,
   "id": "5aac4988-ff7d-42e9-8338-e935521e5c4c",
   "metadata": {
    "tags": []
   },
   "outputs": [],
   "source": [
    "%%R\n",
    "monocle_object = detectGenes(monocle_object , min_expr = 0.1)"
   ]
  },
  {
   "cell_type": "code",
   "execution_count": null,
   "id": "8929ae14-a291-4230-a981-2dfabf219844",
   "metadata": {
    "tags": []
   },
   "outputs": [],
   "source": [
    "# Ordering genes: import from HVG-scanpy function\n",
    "sc.pp.highly_variable_genes(Myeloid_subset, n_top_genes = 4000, batch_key = 'tissue_origin', flavor = 'seurat_v3', layer = \"raw_counts\", subset = False)\n",
    "HVG = Myeloid_subset.var[Myeloid_subset.var[\"highly_variable\"]].index"
   ]
  },
  {
   "cell_type": "code",
   "execution_count": null,
   "id": "10acbb82-04a2-4fbe-9b2f-404c67bfbaab",
   "metadata": {
    "tags": []
   },
   "outputs": [],
   "source": [
    "%%R -i HVG\n",
    "ordering_genes = HVG\n",
    "length(ordering_genes)"
   ]
  },
  {
   "cell_type": "code",
   "execution_count": null,
   "id": "891b4b5b-81c1-42ac-8898-51ece5fa6295",
   "metadata": {
    "tags": []
   },
   "outputs": [],
   "source": [
    "%%R\n",
    "monocle_object = setOrderingFilter(monocle_object, ordering_genes)\n",
    "monocle_object = reduceDimension(monocle_object, max_components = 2, method = 'DDRTree')\n",
    "monocle_object = orderCells(monocle_object)"
   ]
  },
  {
   "cell_type": "code",
   "execution_count": null,
   "id": "4b064265-c0b8-4bff-90e5-0e27906e7731",
   "metadata": {
    "tags": []
   },
   "outputs": [],
   "source": [
    "%%R\n",
    "saveRDS(monocle_object, file = \".../Data/monocle_object.RDS\")"
   ]
  },
  {
   "cell_type": "markdown",
   "id": "36045a74-c794-450b-bc1e-2e2e73aa3c48",
   "metadata": {
    "jp-MarkdownHeadingCollapsed": true
   },
   "source": [
    "### Plot"
   ]
  },
  {
   "cell_type": "code",
   "execution_count": null,
   "id": "3a3c3eb1-e1cb-433e-8784-c9f9a93511f7",
   "metadata": {},
   "outputs": [],
   "source": [
    "%%R\n",
    "# Figure 4B\n",
    "png(file = file.path(\".../figures/\", 'monocle_object Pseudotime tissue_origin split.png'), units = \"in\", width = 1, height = 4, res = 1000)\n",
    "\n",
    "color_tissue_origin = c('Blood' = '#1f77b4', 'Colon' = '#ff7f0e', 'Liver' = '#279e68')\n",
    "plot_cell_trajectory(monocle_object, color_by = \"tissue_origin\") + facet_wrap(~tissue_origin, nrow = 1) + NoLegend() + scale_color_manual(values = color_tissue_origin) + NoLegend()\n",
    "\n",
    "dev.off()"
   ]
  },
  {
   "cell_type": "code",
   "execution_count": null,
   "id": "0bbe33a3-275e-49fa-9c46-c688c84c1a02",
   "metadata": {
    "tags": []
   },
   "outputs": [],
   "source": [
    "%%R\n",
    "# Figure 4C left\n",
    "png(file = file.path(\".../figures/\", 'monocle_object Pseudotime values.png'), units = \"in\", width = 5.5, height = 4, res = 1000)\n",
    "\n",
    "plot_cell_trajectory(monocle_object, color_by = \"Pseudotime\") + scale_color_viridis_c() + NoLegend()\n",
    "\n",
    "dev.off()"
   ]
  },
  {
   "cell_type": "code",
   "execution_count": null,
   "id": "4a0e9908-4616-4f4f-bc2e-fb70457b49fd",
   "metadata": {
    "tags": []
   },
   "outputs": [],
   "source": [
    "%%R\n",
    "# Supplementary figure 4B\n",
    "png(file = file.path(\".../figures/\", 'monocle_object Pseudotime Myeloid_site_short split.png'), units = \"in\", width = 25, height = 8, res = 1000)\n",
    "\n",
    "color_clusters = c('B0'= '#7a49a5', 'B1'= '#7a49a5', 'B2'= '#7a49a5', 'B3'= '#7a49a5', 'B4'= '#7a49a5', 'B5'= '#0000ff',\n",
    "                   'C0'= '#ffa52f', 'C2'= '#005659', 'C3'= '#0000dd', 'C4'= '#00fdcf', 'C5'= '#a17569', 'C6'= '#bcb6ff', 'C8'= '#bf03b8',\n",
    "                   'L0'= '#790000', 'L1'= '#0774d8', 'L2'= '#fdf490', 'L3'= '#004b00', 'L4'= '#8e7900', 'L5'= '#ff7266', 'L6'= '#edb8b8', 'L7'= '#5d7e66', 'L8'= '#9ae4ff')\n",
    "plot_cell_trajectory(monocle_object, color_by = \"Myeloid_site_short\") + facet_wrap(~Myeloid_site_short, nrow = nrow = 22) + scale_color_manual(values = color_clusters) + NoLegend()\n",
    "\n",
    "dev.off()"
   ]
  },
  {
   "cell_type": "markdown",
   "id": "07e8e53e-8546-4acb-89cc-8f47085fac19",
   "metadata": {
    "jp-MarkdownHeadingCollapsed": true
   },
   "source": [
    "### Export pseudotime values"
   ]
  },
  {
   "cell_type": "code",
   "execution_count": null,
   "id": "26333c59-5ee6-4753-8e42-4786bfe2d13a",
   "metadata": {},
   "outputs": [],
   "source": [
    "%%R\n",
    "monocle_object$cellID = colnames(monocle_object)\n",
    "df = data.frame(monocle_object$cellID)\n",
    "rownames(df) = df$monocle_object.cellID\n",
    "\n",
    "df$Batch_ID = monocle_object$batch_id\n",
    "df$Myeloid_site_short = monocle_object$Myeloid_site_short\n",
    "df$tissue_origin = monocle_object$tissue_origin\n",
    "df$Pseudotime_Values = monocle_object$Pseudotime\n",
    "df$State = monocle_object$State\n",
    "df$monocle_object.cellID = NULL\n",
    "\n",
    "write.xlsx(df, \"../figures/monocle_object - Pseudotime_Values.xlsx\", rowNames = T)"
   ]
  },
  {
   "cell_type": "code",
   "execution_count": null,
   "id": "a6bba6a6-de7b-44fa-b715-5b4233c62b01",
   "metadata": {},
   "outputs": [],
   "source": [
    "# Figure 4C right\n",
    "pseudotime = pd.read_excel('../figures/monocle_object - Pseudotime_Values.xlsx', index_col = 0)\n",
    "Myeloid_subset.obs['pseudotime'] = pseudotime['Pseudotime_Values']\n",
    "\n",
    "sc.pl.umap(Myeloid_subset, color = 'pseudotime', frameon = True, title = \"Pseudotime\", save = 'Myeloid – UMAP Pseudotime values – no DCs.png')"
   ]
  },
  {
   "cell_type": "code",
   "execution_count": null,
   "id": "db813950-1931-4ce9-bb55-b1f977c78d19",
   "metadata": {},
   "outputs": [],
   "source": [
    "%%R\n",
    "# Figure 4D\n",
    "library(ggridges)\n",
    "library(dplyr)\n",
    "library(tidyverse)\n",
    "\n",
    "color_clusters = c(\n",
    "  'cMono_CD14'= '#7a49a5', 'ncMono_FCGR3A'= '#0000ff',\n",
    "  'C0'= '#ffa52f', 'C2'= '#005659', 'C3'= '#0000dd', 'C4'= '#00fdcf', 'C5'= '#a17569', 'C6'= '#bcb6ff', 'C8'= '#bf03b8',\n",
    "  'L0'= '#790000', 'L1'= '#0774d8', 'L2'= '#fdf490', 'L3'= '#004b00', 'L4'= '#8e7900', 'L5'= '#ff7266', 'L6'= '#edb8b8', 'L7'= '#5d7e66', 'L8'= '#9ae4ff')\n",
    "\n",
    "Ridge = read.xlsx(\".../figures/monocle_object - Pseudotime_Values.xlsx\")\n",
    "\n",
    "png(file = file.path(\".../figures/\", 'Pseudotime values.png'), units = \"in\", width = 12, height = 6, res = 1000, bg = \"white\")\n",
    "\n",
    "ggplot(Ridge, aes(y = fct_reorder(Myeloid_site_short, -Pseudotime_Values), x = Pseudotime_Values, fill = Myeloid_site_short)) +\n",
    "    geom_density_ridges(quantile_lines = T, quantiles = 2, scale = 3.5, rel_min_height = .02, alpha = 0.9) +\n",
    "    scale_y_discrete(expand = c(0, 0)) + scale_x_continuous(expand = c(0, 0)) + geom_vline(xintercept = 19.8, color = 'black', size = 1, linetype = \"dashed\") + \n",
    "    scale_fill_manual(values = color_clusters) + theme_ridges() + NoLegend()\n",
    "\n",
    "dev.off()"
   ]
  },
  {
   "cell_type": "markdown",
   "id": "4a974977-7a31-4797-b23d-0d1ffb6d56a1",
   "metadata": {
    "jp-MarkdownHeadingCollapsed": true
   },
   "source": [
    "## DEGs Colon vs Liver / Inflammatory & Immunoregulatory TAMs"
   ]
  },
  {
   "cell_type": "code",
   "execution_count": null,
   "id": "465291cd-f229-4333-bca4-2db9ea856c35",
   "metadata": {},
   "outputs": [],
   "source": [
    "# Create the object to convert to Seurat object for DEGs\n",
    "Myeloid.obs['CellFamily_tissue_origin'] = Myeloid.obs['CellFamily'].astype(str) + \"_\" + Myeloid.obs['tissue_origin'].astype(str)\n",
    "Myeloid_raw = sc.AnnData(X = Myeloid.layers['raw_counts'],\n",
    "                     obs = Myeloid.obs[['batch_id', 'tissue_origin', 'patient_ID', 'CellFamily', 'CellFamily_tissue_origin']],\n",
    "                     var = Myeloid.var[['gene_ids']],\n",
    "                     obsm = Myeloid.obsm)\n",
    "\n",
    "outfilename = os.path.join(data_folder, \"Myeloid_raw.h5ad\")\n",
    "print(\"Saving h5ad data to file {}\".format(outfilename))\n",
    "Myeloid_raw.write(outfilename)\n",
    "print(\"Done!\")\n",
    "\n",
    "# Export metadata\n",
    "Myeloid_raw.obs.to_excel('.../Analysis/Synchro/figures/Myeloid_metadata.xlsx')"
   ]
  },
  {
   "cell_type": "code",
   "execution_count": null,
   "id": "014a3410-dce8-425a-b9cc-493448c2d492",
   "metadata": {
    "tags": []
   },
   "outputs": [],
   "source": [
    "%%R\n",
    "Convert(\".../Analysis/Synchro/Data/Myeloid_raw.h5ad\", dest = \"h5seurat\", assay = \"RNA\", overwrite = FALSE, verbose = TRUE)\n",
    "Myeloid_raw = LoadH5Seurat(\".../Analysis/Synchro/Data/Myeloid_raw.h5seurat\", meta.data = F)\n",
    "meta = read.xlsx(\".../Analysis/Synchro/figures/Myeloid_metadata.xlsx\", rowNames = T)\n",
    "Myeloid_raw@meta.data = meta\n",
    "saveRDS(Myeloid_raw, \".../Analysis/Synchro/Data/Myeloid_raw.RDS\")"
   ]
  },
  {
   "cell_type": "code",
   "execution_count": null,
   "id": "ce8ecab3-2bd1-4b93-9a22-318870c48305",
   "metadata": {},
   "outputs": [],
   "source": [
    "%%R\n",
    "Idents(Myeloid_raw) = 'CellFamily_tissue_origin'\n",
    "InflammatoryTAMs = subset(Myeloid_raw, idents = c(\"Inflammatory TAMs_LIVER\", \"Inflammatory TAMs_COLON\")) \n",
    "DEGs = FindMarkers(InflammatoryTAMs, logfc.threshold = 0, test.use = \"negbinom\", ident.1 = \"Inflammatory TAMs_LIVER\", ident.2 = \"Inflammatory TAMs_COLON\", latent_vars = 'patient_ID')\n",
    "write.xlsx(DEGs, \".../figures/Myeloid total – DEGs Inflammatory TAMs_LIVER (up) vs Inflammatory TAMs_COLON (down) – negbinom.xlsx\", rowNames = T)"
   ]
  },
  {
   "cell_type": "code",
   "execution_count": null,
   "id": "1e9a0abc-b0b8-4208-883b-48a0f1f6c653",
   "metadata": {},
   "outputs": [],
   "source": [
    "%%R\n",
    "Idents(Myeloid_raw) = 'CellFamily_tissue_origin'\n",
    "ImmunoregulatoryTAMs = subset(Myeloid_raw, idents = c(\"Immunoregulatory TAMs_LIVER\", \"Immunoregulatory TAMs_COLON\")) \n",
    "DEGs = FindMarkers(ImmunoregulatoryTAMs, logfc.threshold = 0, test.use = \"negbinom\", ident.1 = \"Immunoregulatory TAMs_LIVER\", ident.2 = \"Immunoregulatory TAMs_COLON\", latent_vars = 'patient_ID')\n",
    "write.xlsx(DEGs, \".../figures/Myeloid total – DEGs Immunoregulatory TAMs_LIVER (up) vs Immunoregulatory TAMs_COLON (down) – negbinom.xlsx\", rowNames = T)"
   ]
  },
  {
   "cell_type": "code",
   "execution_count": null,
   "id": "0625536e-8f2f-49f3-8692-7cf341884c4f",
   "metadata": {},
   "outputs": [],
   "source": [
    "%%R\n",
    "# Supplementary figure 5A\n",
    "DEGs_Inflammatory = read.xlsx(\".../figures/Myeloid total – DEGs Inflammatory TAMs_LIVER (up) vs Inflammatory TAMs_COLON (down) – negbinom.xlsx\", rowNames = T)\n",
    "DEGs_Immunoregulatory = read.xlsx(\".../figures/Myeloid total – DEGs Immunoregulatory TAMs_LIVER (up) vs Immunoregulatory TAMs_COLON (down) – negbinom.xlsx\", rowNames = T)\n",
    "\n",
    "keyvals = rep('#5a5a5a', nrow(DEGs_Immunoregulatory))\n",
    "names(keyvals) = rep('NS', nrow(DEGs_Immunoregulatory))\n",
    "\n",
    "keyvals[which(abs(DEGs_Immunoregulatory$avg_log2FC) > 0.25 & DEGs_Immunoregulatory$p_val_adj > 0.05)] = '#808080'\n",
    "names(keyvals)[which(abs(DEGs_Immunoregulatory$avg_log2FC) > 0.25 & DEGs_Immunoregulatory$p_val_adj > 0.05)] = 'Log2 – FC'\n",
    "\n",
    "keyvals[which(abs(DEGs_Immunoregulatory$avg_log2FC) < 0.25 & DEGs_Immunoregulatory$p_val_adj < 0.05)] = '#a6a6a6'\n",
    "names(keyvals)[which(abs(DEGs_Immunoregulatory$avg_log2FC)  < 0.25 & DEGs_Immunoregulatory$p_val_adj < 0.05)] = 'P-value'\n",
    "\n",
    "keyvals[which(DEGs_Immunoregulatory$avg_log2FC < -0.25 & DEGs_Immunoregulatory$p_val_adj < 0.05)] = '#ff7f0e'\n",
    "names(keyvals)[which(DEGs_Immunoregulatory$avg_log2FC  < -0.25 & DEGs_Immunoregulatory$p_val_adj < 0.05)] = 'Up-regulated Colon'\n",
    "\n",
    "keyvals[which(DEGs_Immunoregulatory$avg_log2FC > 0.25 & DEGs_Immunoregulatory$p_val_adj < 0.05)] = '#279e68'\n",
    "names(keyvals)[which(DEGs_Immunoregulatory$avg_log2FC > 0.25 & DEGs_Immunoregulatory$p_val_adj < 0.05)] = 'Up-regulated Liver'\n",
    "\n",
    "png(file = file.path(\".../figures/\", 'DEGs_Immunoregulatory - Liver vs Colon.png'), units = \"in\", width = 9, height = 9, res = 1000)\n",
    "\n",
    "EnhancedVolcano(DEGs_Immunoregulatory,\n",
    "                lab = rownames(DEGs_Immunoregulatory),\n",
    "                x = \"avg_log2FC\",\n",
    "                y = \"p_val_adj\",\n",
    "                axisLabSize = 15,\n",
    "                subtitleLabSize = 20,\n",
    "                captionLabSize = 20,\n",
    "                pCutoff = 0.05,\n",
    "                FCcutoff = 0.25,\n",
    "                pointSize = 4,\n",
    "                labSize = 6,\n",
    "                colCustom = keyvals,\n",
    "                labFace = 'italic',\n",
    "                colAlpha = 0.75,\n",
    "                gridlines.major = F,\n",
    "                gridlines.minor = F,\n",
    "                borderWidth = 1, borderColour = 'black',\n",
    "                drawConnectors = T, widthConnectors = .5,\n",
    "                max.overlaps = 35,\n",
    "                boxedLabels = T)\n",
    "\n",
    "dev.off()"
   ]
  },
  {
   "cell_type": "markdown",
   "id": "2306268c-184b-4532-8ead-9aa2b497c996",
   "metadata": {
    "jp-MarkdownHeadingCollapsed": true
   },
   "source": [
    "## Reactome functional analysis"
   ]
  },
  {
   "cell_type": "code",
   "execution_count": null,
   "id": "2e0617f8-c97b-487f-b3c7-741d0b5ce207",
   "metadata": {},
   "outputs": [],
   "source": [
    "%%R\n",
    "# Figure 5A\n",
    "Reactome_Inflammatory = read.xlsx('Reactome_Inflammatory.xlsx')\n",
    "Reactome_Immunoregulatory = read.xlsx('Reactome_Immunoregulatory.xlsx')\n",
    "\n",
    "Tissue_color = c(\"Colon\" = '#ff7f0e', \"Liver\" = '#279e68')\n",
    "\n",
    "# Inflammatory TAMs\n",
    "label_data = Reactome_Inflammatory\n",
    "number_of_bar = nrow(label_data)\n",
    "angle = 90 - 360 * (label_data$id -0.5)/number_of_bar \n",
    "label_data$hjust = ifelse(angle < -90, 1, 0)\n",
    "label_data$angle = ifelse(angle < -90, angle+180, angle)\n",
    "\n",
    "base_data = Reactome_Inflammatory %>% \n",
    "  group_by(tissue_origin) %>% \n",
    "  summarize(start = min(id), end = max(id) - 2) %>% \n",
    "  rowwise() %>% \n",
    "  mutate(title = mean(c(start, end)))\n",
    "\n",
    "grid_data = base_data\n",
    "grid_data$end = grid_data$end[c(nrow(grid_data), 1:nrow(grid_data) -1)] +1\n",
    "grid_data$start = grid_data$start -1\n",
    "\n",
    "png(file = file.path(\".../figures/\", 'Reactome_Inflammatory circular bar plot.png'), units = \"in\", width = 20, height = 20, res = 1000, bg = \"transparent\")\n",
    "\n",
    "ggplot(Reactome_Inflammatory, aes(x = as.factor(id), y = minusLOG10_pValue, fill = tissue_origin)) +\n",
    "    geom_bar(aes(x = as.factor(id), y = minusLOG10_pValue, fill = tissue_origin), stat = \"identity\", alpha = 1) +\n",
    "\n",
    "    geom_segment(data = grid_data, aes(x = end, y = 0, xend = start, yend = 0), colour = \"grey\", alpha = 1, size = 0.3, inherit.aes = FALSE ) +\n",
    "    geom_segment(data = grid_data, aes(x = end, y = 2.5, xend = start, yend = 2.5), colour = \"grey\", alpha = 1, size = 0.3, inherit.aes = FALSE ) +\n",
    "    geom_segment(data = grid_data, aes(x = end, y = 5, xend = start, yend = 5), colour = \"grey\", alpha = 1, size = 0.3, inherit.aes = FALSE ) +\n",
    "    geom_segment(data = grid_data, aes(x = end, y = 7.5, xend = start, yend = 7.5), colour = \"grey\", alpha = 1, size = 0.3, inherit.aes = FALSE ) +\n",
    "    geom_segment(data = grid_data, aes(x = end, y = 10, xend = start, yend = 10), colour = \"grey\", alpha = 1, size = 0.3, inherit.aes = FALSE ) +\n",
    "    geom_segment(data = grid_data, aes(x = end, y = 12.5, xend = start, yend = 12.5), colour = \"grey\", alpha = 1, size = 0.3, inherit.aes = FALSE ) +\n",
    "    geom_segment(data = grid_data, aes(x = end, y = 15, xend = start, yend = 15), colour = \"grey\", alpha = 1, size = 0.3, inherit.aes = FALSE ) +\n",
    "  \n",
    "    annotate(\"text\", x = rep(max(Reactome_Inflammatory$id), 7), y = c(0, 2.5, 5, 7.5, 10, 12.5, 15), label = c('0', '2.5', '5', '7.5', '10', '12.5', '15') , color = \"black\", size = 10, angle = 0, fontface = \"italic\", hjust = 1) +\n",
    "  \n",
    "    geom_bar(aes(x = as.factor(id), y = minusLOG10_pValue, fill = tissue_origin), stat = \"identity\", alpha = 1) +\n",
    "        scale_fill_manual(values = Tissue_color) +\n",
    "        ylim(-4, 30) +\n",
    "        theme_minimal() + \n",
    "        coord_polar(start = 0) +\n",
    "        geom_text(data = label_data, aes(x = as.factor(id), y = minusLOG10_pValue + .5, label = Pathway, hjust = hjust), color = \"black\", fontface = \"italic\", alpha = 1, size = 10, angle = label_data$angle, inherit.aes = FALSE) + \n",
    "\n",
    "    theme(legend.position = \"none\", axis.text = element_blank(), axis.title = element_blank(), panel.grid = element_blank(), plot.margin = unit(rep(-2, 5), \"cm\"))\n",
    "\n",
    "dev.off()\n",
    "\n",
    "# Immunoregulatory TAMs\n",
    "label_data = Reactome_Immunoregulatory\n",
    "number_of_bar = nrow(label_data)\n",
    "angle = 90 - 360 * (label_data$id -0.5)/number_of_bar \n",
    "label_data$hjust = ifelse(angle < -90, 1, 0)\n",
    "label_data$angle = ifelse(angle < -90, angle+180, angle)\n",
    "\n",
    "base_data = Reactome_Immunoregulatory %>% \n",
    "  group_by(tissue_origin) %>% \n",
    "  summarize(start = min(id), end = max(id) - 2) %>% \n",
    "  rowwise() %>% \n",
    "  mutate(title = mean(c(start, end)))\n",
    "\n",
    "grid_data = base_data\n",
    "grid_data$end = grid_data$end[c(nrow(grid_data), 1:nrow(grid_data) -1)] +1\n",
    "grid_data$start = grid_data$start -1\n",
    "\n",
    "png(file = file.path(\".../figures/\", 'Reactome_Immunoregulatory circular bar plot.png'), units = \"in\", width = 20, height = 20, res = 1000, bg = \"transparent\")\n",
    "\n",
    "ggplot(Reactome_Immunoregulatory, aes(x = as.factor(id), y = minusLOG10_pValue, fill = tissue_origin)) +\n",
    "    geom_bar(aes(x = as.factor(id), y = minusLOG10_pValue, fill = tissue_origin), stat = \"identity\", alpha = 1) +\n",
    "\n",
    "    geom_segment(data = grid_data, aes(x = end, y = 0, xend = start, yend = 0), colour = \"grey\", alpha = 1, size = 0.3, inherit.aes = FALSE ) +\n",
    "    geom_segment(data = grid_data, aes(x = end, y = 2.5, xend = start, yend = 2.5), colour = \"grey\", alpha = 1, size = 0.3, inherit.aes = FALSE ) +\n",
    "    geom_segment(data = grid_data, aes(x = end, y = 5, xend = start, yend = 5), colour = \"grey\", alpha = 1, size = 0.3, inherit.aes = FALSE ) +\n",
    "    geom_segment(data = grid_data, aes(x = end, y = 7.5, xend = start, yend = 7.5), colour = \"grey\", alpha = 1, size = 0.3, inherit.aes = FALSE ) +\n",
    "    geom_segment(data = grid_data, aes(x = end, y = 10, xend = start, yend = 10), colour = \"grey\", alpha = 1, size = 0.3, inherit.aes = FALSE ) +\n",
    "    geom_segment(data = grid_data, aes(x = end, y = 12.5, xend = start, yend = 12.5), colour = \"grey\", alpha = 1, size = 0.3, inherit.aes = FALSE ) +\n",
    "    geom_segment(data = grid_data, aes(x = end, y = 15, xend = start, yend = 15), colour = \"grey\", alpha = 1, size = 0.3, inherit.aes = FALSE ) +\n",
    "  \n",
    "    annotate(\"text\", x = rep(max(Reactome_Immunoregulatory$id), 7), y = c(0, 2.5, 5, 7.5, 10, 12.5, 15), label = c('0', '2.5', '5', '7.5', '10', '12.5', '15') , color = \"black\", size = 10, angle = 0, fontface = \"italic\", hjust = 1) +\n",
    "  \n",
    "    geom_bar(aes(x = as.factor(id), y = minusLOG10_pValue, fill = tissue_origin), stat = \"identity\", alpha = 1) +\n",
    "        scale_fill_manual(values = Tissue_color) +\n",
    "        ylim(-4, 30) +\n",
    "        theme_minimal() + \n",
    "        coord_polar(start = 0) +\n",
    "        geom_text(data = label_data, aes(x = as.factor(id), y = minusLOG10_pValue + .5, label = Pathway, hjust = hjust), color = \"black\", fontface = \"italic\", alpha = 1, size = 10, angle = label_data$angle, inherit.aes = FALSE) + \n",
    "\n",
    "    theme(legend.position = \"none\", axis.text = element_blank(), axis.title = element_blank(), panel.grid = element_blank(), plot.margin = unit(rep(-2, 5), \"cm\"))\n",
    "\n",
    "dev.off()"
   ]
  },
  {
   "cell_type": "markdown",
   "id": "8efd72e7-061f-4440-8b87-4630643fd232",
   "metadata": {
    "jp-MarkdownHeadingCollapsed": true
   },
   "source": [
    "## Module score"
   ]
  },
  {
   "cell_type": "code",
   "execution_count": null,
   "id": "740e8065-e1c3-4939-8893-03299ea323b8",
   "metadata": {},
   "outputs": [],
   "source": [
    "Myeloid_tissue_subset = Myeloid[~Myeloid.obs['CellFamily'].isin(['cDC1', 'DC_LAMP3', 'pDCs']) & ~Myeloid.obs['tissue_origin'].isin(['Blood'])].copy()\n",
    "Myeloid_tissue_subset.obs['CellFamily_tissue_origin'] = Myeloid_tissue_subset.obs['CellFamily'].astype(str) + \"_\" + Myeloid_tissue_subset.obs['tissue_origin'].astype(str)"
   ]
  },
  {
   "cell_type": "code",
   "execution_count": null,
   "id": "b936ea5b-3b91-4aab-911e-2a3284286356",
   "metadata": {},
   "outputs": [],
   "source": [
    "# Figure 5B input data\n",
    "ProInflammatory_cytokine = ['TNF', 'IL1A', 'IL1B', 'IL6', 'IL23A', 'CXCL9', 'CXCL10', 'CXCL11']\n",
    "ImmuneSuppressive_cytokine = ['IL10', 'TGFB1', 'CCL2', 'CCL5', 'CCL17', 'CCL22']\n",
    "\n",
    "sc.tl.score_genes(Myeloid_tissue_subset, ProInflammatory_cytokine, ctrl_size = 50, gene_pool = None, n_bins = 25, score_name = 'ProInflammatory_cytokine_Score', random_state = 0, copy = False)\n",
    "sc.tl.score_genes(Myeloid_tissue_subset, ImmuneSuppressive_cytokine, ctrl_size = 50, gene_pool = None, n_bins = 25, score_name = 'ImmuneSuppressive_cytokine_Score', random_state = 0, copy = False)\n",
    "\n",
    "Scores = Myeloid_tissue_subset.obs[['CellFamily_tissue_origin', 'ProInflammatory_cytokine_Score', 'ImmuneSuppressive_cytokine_Score']]\n",
    "\n",
    "scaler = MinMaxScaler()\n",
    "scores_scaled = scaler.fit_transform(Scores)\n",
    "scores_scaled = pd.DataFrame(scores_scaled, columns = ['ProInflammatory_cytokine_Score_scaled', 'ImmuneSuppressive_cytokine_scaled'], index = Myeloid_tissue_subset.obs_names)\n",
    "Scores = pd.concat([Myeloid_tissue_subset.obs[['CellFamily_tissue_origin']], Scores, scores_scaled], axis = 1)\n",
    "Score.to_excel('figures/Myeloid_tissue_subset – Module scores cytokines x CellFamily_tissue_origin.xlsx', index = True)"
   ]
  },
  {
   "cell_type": "code",
   "execution_count": null,
   "id": "dda15f28-ef0e-46b5-89df-1ecf244bc51f",
   "metadata": {},
   "outputs": [],
   "source": [
    "%%R\n",
    "# Figure 5B Radar Chart\n",
    "library(dplyr)\n",
    "\n",
    "setwd(\".../figures\")\n",
    "path = \".../figures\"\n",
    "\n",
    "RadarPlot = read.xlsx(\"Myeloid_tissue_subset – Module scores cytokines x CellFamily_tissue_origin.xlsx\", rowNames = T)\n",
    "\n",
    "ProInflammatory_cytokine_Score_scaled = RadarPlot %>%\n",
    "    select(CellFamily_tissue_origin, ProInflammatory_cytokine_Score_scaled)\n",
    "\n",
    "ImmuneSuppressive_cytokine_scaled = RadarPlot %>%\n",
    "    select(CellFamily_tissue_origin, ImmuneSuppressive_cytokine_scaled)\n",
    "\n",
    "Colors_scaled = c('ProInflammatory_cytokine_Score_scaled' = '#e8702a', 'ImmuneSuppressive_cytokine_scaled' = '#0c457d')\n",
    "colors_in = alpha(Colors_scaled, 0.8)\n",
    "\n",
    "png(file = file.path(path, 'ProInflammatory_cytokine_Score_scaled.png'), units = \"in\", width = 6, height = 6, res = 1000, bg = \"white\")\n",
    "\n",
    "radarchart(ProInflammatory_cytokine_Score_scaled, \n",
    "            axistype = 0, axislabcol = 'grey10', \n",
    "            pcol = 'black', pfcol = alpha('#9e379f', 0.8), plwd = 1, plty = 1, pty = 32,\n",
    "            cglcol = \"grey50\", cglty = 1,  cglwd = 1, \n",
    "            vlcex = 1)\n",
    "legend(x = 1, y = 1, legend = rownames(ProInflammatory_cytokine_Score_scaled[-c(1,2),]), bty = \"n\", pch = 20 , col = colors_in, text.col = \"grey\", cex = 1.2, pt.cex = 3)\n",
    "\n",
    "dev.off()"
   ]
  },
  {
   "cell_type": "markdown",
   "id": "61982fb1-9073-43f3-a603-acd028dc5c75",
   "metadata": {
    "jp-MarkdownHeadingCollapsed": true
   },
   "source": [
    "## Cell cycle analysis"
   ]
  },
  {
   "cell_type": "code",
   "execution_count": null,
   "id": "36f97f73-44ad-4f8d-8097-a443a0b553cc",
   "metadata": {},
   "outputs": [],
   "source": [
    "Myeloid_tissue_subset = Myeloid[~Myeloid.obs['CellFamily'].isin(['cDC1', 'DC_LAMP3', 'pDCs']) & ~Myeloid.obs['tissue_origin'].isin(['Blood'])].copy()"
   ]
  },
  {
   "cell_type": "code",
   "execution_count": null,
   "id": "db03f2ec-47e1-4be7-a972-4ee901810fff",
   "metadata": {},
   "outputs": [],
   "source": [
    "cell_cycle_genes = [x.strip() for x in open('...figures/Cell_cycle_genes.txt')]\n",
    "\n",
    "s_genes = cell_cycle_genes[:43]\n",
    "g2m_genes = cell_cycle_genes[43:]\n",
    "cell_cycle_genes = [x for x in cell_cycle_genes if x in Myeloid_tissue_subset.var_names]\n",
    "print(len(cell_cycle_genes))"
   ]
  },
  {
   "cell_type": "code",
   "execution_count": null,
   "id": "c1c3f87d-a258-4c26-80bd-8b5b63ad9956",
   "metadata": {},
   "outputs": [],
   "source": [
    "# Figure 5C input values\n",
    "sc.tl.score_genes_cell_cycle(Myeloid_tissue_subset, s_genes = s_genes, g2m_genes = g2m_genes)\n",
    "subset.obs.to_excel('.../figures/Cell cycle phases Myeloid_tissue_subset.xlsx', index = True)"
   ]
  },
  {
   "cell_type": "code",
   "execution_count": null,
   "id": "5ab3cad6-f247-4f69-a7e1-ee315f2fb536",
   "metadata": {},
   "outputs": [],
   "source": [
    "# Figure 5D input values\n",
    "Liver = Myeloid_tissue_subset[Myeloid_tissue_subset.obs['tissue_origin'].isin(['Liver'])].copy()\n",
    "sc.tl.score_genes(Liver, cell_cycle_genes, ctrl_size = 50, gene_pool = None, n_bins = 25, score_name = 'cell_cycle_genes_Score', random_state = 0, copy = False)\n",
    "\n",
    "Scores = Liver.obs[['CellFamily', 'cell_cycle_genes_Score']]\n",
    "\n",
    "scaler = MinMaxScaler()\n",
    "scores_scaled = scaler.fit_transform(Scores)\n",
    "scores_scaled = pd.DataFrame(scores_scaled, columns = ['cell_cycle_genes_Score'], index = CellFamily.obs_names)\n",
    "Scores = pd.concat([Liver.obs[['CellFamily']], Scores, scores_scaled], axis = 1)\n",
    "Score.to_excel('figures/Liver – cell_cycle_genes_Score x CellFamily.xlsx', index = True)"
   ]
  },
  {
   "cell_type": "markdown",
   "id": "06a3fee3-3aca-4328-a227-718f2db74361",
   "metadata": {},
   "source": [
    "### DEGs cell cycle phases in liver"
   ]
  },
  {
   "cell_type": "code",
   "execution_count": null,
   "id": "567f60a0-beae-4776-bc76-0d11b55de795",
   "metadata": {},
   "outputs": [],
   "source": [
    "# Create the object to convert to Seurat object for DEGs\n",
    "ImmunoReg_Liver = Myeloid_tissue_subset[Myeloid_tissue_subset.obs['tissue_origin'].isin(['Liver']) & Myeloid_tissue_subset.obs['CellFamily'].isin(['Immunoregulatory TAMs'])].copy()\n",
    "ImmunoReg_Liver_raw = sc.AnnData(X = ImmunoReg_Liver.layers['raw_counts'],\n",
    "                     obs = ImmunoReg_Liver.obs[['batch_id', 'tissue_origin', 'patient_ID', 'phase']],\n",
    "                     var = ImmunoReg_Liver.var[['gene_ids']],\n",
    "                     obsm = ImmunoReg_Liver.obsm)\n",
    "\n",
    "outfilename = os.path.join(data_folder, \"ImmunoReg_Liver_raw.h5ad\")\n",
    "print(\"Saving h5ad data to file {}\".format(outfilename))\n",
    "ImmunoReg_Liver_raw.write(outfilename)\n",
    "print(\"Done!\")\n",
    "\n",
    "# Export metadata\n",
    "ImmunoReg_Liver_raw.obs.to_excel('...figures/ImmunoReg_Liver_raw_metadata.xlsx')"
   ]
  },
  {
   "cell_type": "code",
   "execution_count": null,
   "id": "9ed548fd-e3d5-48f4-a248-abc128bbd293",
   "metadata": {
    "tags": []
   },
   "outputs": [],
   "source": [
    "%%R\n",
    "Convert(\".../Data/ImmunoReg_Liver_raw.h5ad\", dest = \"h5seurat\", assay = \"RNA\", overwrite = FALSE, verbose = TRUE)\n",
    "ImmunoReg_Liver_raw = LoadH5Seurat(\".../Analysis/Synchro/Data/ImmunoReg_Liver_raw.h5seurat\", meta.data = F)\n",
    "meta = read.xlsx(\".../figures/ImmunoReg_Liver_raw_metadata.xlsx\", rowNames = T)\n",
    "ImmunoReg_Liver_raw@meta.data = meta\n",
    "saveRDS(ImmunoReg_Liver_raw, \".../Analysis/Synchro/Data/ImmunoReg_Liver_raw.RDS\")"
   ]
  },
  {
   "cell_type": "code",
   "execution_count": null,
   "id": "564e5a47-9b92-4e6c-8156-5e26f3534791",
   "metadata": {},
   "outputs": [],
   "source": [
    "%%R\n",
    "Idents(ImmunoReg_Liver_raw) = 'phase'\n",
    "DEGs = FindAllMarkers(ImmunoReg_Liver_raw, logfc.threshold = 0, test.use = \"negbinom\", latent_vars = 'patient_ID')\n",
    "write.xlsx(DEGs, \".../figures/ImmunoReg_Liver – DEGs phases – negbinom.xlsx\", rowNames = T)"
   ]
  },
  {
   "cell_type": "code",
   "execution_count": null,
   "id": "2424eceb-5aa1-474b-a574-0e423734517d",
   "metadata": {},
   "outputs": [],
   "source": [
    "# Supplementary figure 5B\n",
    "Top10 = ['APOC1', 'FNDC3B',  'CTSD', 'TIMP1', 'PSAP', 'FCN1', 'WARS', 'RBM47', 'NEAT1','CD44',     #G1 phase\n",
    "         'NASP', 'SLBP', 'MCM5', 'STMN1', 'H2AFZ', 'RPA2', 'PCNA', 'USP1', 'ATAD2', 'RFC2',        #S phase\n",
    "         'CKS2', 'HMGB2', 'HIST1H4C', 'STMN1', 'ERO1B', 'SMC4', 'HMGN2', 'IER2', 'NUSAP1', 'TUBB'] #G2M phase\n",
    "\n",
    "order = ['G1', 'S', 'G2M']\n",
    "\n",
    "sc.pl.matrixplot(ImmunoReg_Liver, Top10, 'phase', standard_scale = 'var', swap_axes = True, dendrogram = False, categories_order = order, cmap = 'Reds',\n",
    "                figsize = (6, 12), save = 'ImmunoReg_Liver – Heatmap top10 DEGs phases.png')"
   ]
  },
  {
   "cell_type": "markdown",
   "id": "249be7d8-32b2-4f3b-8f33-6b898837c030",
   "metadata": {
    "jp-MarkdownHeadingCollapsed": true
   },
   "source": [
    "## Large & Small TAMs"
   ]
  },
  {
   "cell_type": "code",
   "execution_count": null,
   "id": "6f453566-1572-4114-8433-f5897ab7bd23",
   "metadata": {},
   "outputs": [],
   "source": [
    "colors = {\n",
    "    'L0': '#790000',\n",
    "    'L1': '#0774d8',\n",
    "    'L2': '#fdf490',\n",
    "    'L3': '#004b00',\n",
    "    'L4': '#8e7900',\n",
    "    'L5': '#ff7266',\n",
    "    'L6': '#edb8b8',\n",
    "    'L7': '#5d7e66',\n",
    "    'L8': '#9ae4ff'}\n",
    "\n",
    "subset_tissue_liver = Myeloid[~Myeloid.obs['site'].isin(['Blood', 'Colon'])].copy()\n",
    "subset_tissue_liver_macro = subset_tissue_liver[~subset_tissue_liver.obs['Myeloid_site_short'].isin(['L9', 'L11', 'L10'])].copy()"
   ]
  },
  {
   "cell_type": "markdown",
   "id": "693ca613-728c-4a81-9bf2-847e60d7064a",
   "metadata": {},
   "source": [
    "### PCA pseudo-bulking"
   ]
  },
  {
   "cell_type": "code",
   "execution_count": null,
   "id": "e75db880-6e08-4158-abe9-5bb1291d6144",
   "metadata": {},
   "outputs": [],
   "source": [
    "# Supplementary figure 5C top\n",
    "L_TAM_genes = [x.strip() for x in open('.../figures/L_TAM_genes.txt')]   #281 genes\n",
    "\n",
    "subset_tissue_liver_macro.var['gene_label'] = subset_tissue_liver_macro.var_names\n",
    "subset_tissue_liver_macro_PCA_Large = subset_tissue_liver_macro[:, subset_tissue_liver_macro.var['gene_label'].isin(L_TAM_genes)].copy()\n",
    "\n",
    "gene_ids = subset_tissue_liver_macro_PCA_Large.var.index.values\n",
    "clusters = subset_tissue_liver_macro_PCA_Large.obs['Myeloid_site_short']\n",
    "obs = subset_tissue_liver_macro_PCA_Large[:,gene_ids].X.toarray()\n",
    "obs = pd.DataFrame(obs, columns = gene_ids, index = clusters)\n",
    "average_obs = obs.groupby(level = 0).mean()\n",
    "average_obs = average_obs\n",
    "\n",
    "subset_tissue_liver_macro_PCA_Large = sc.AnnData(average_obs)\n",
    "\n",
    "sc.tl.pca(subset_tissue_liver_macro_PCA_Large, svd_solver = 'arpack', use_highly_variable = False, n_comps = 3)\n",
    "subset_tissue_liver_macro_PCA_Large.obs['Myeloid_site_short'] = subset_tissue_liver_macro_PCA_Large.obs_names\n",
    "\n",
    "sc.pl.pca(subset_tissue_liver_macro_PCA_Large, color = 'Myeloid_site_short', palette = colors,\n",
    "          components = 'all', projection = '3d', \n",
    "          frameon = False,  legend_loc = 'right margin',\n",
    "          save = '.../figures/PCA subset_tissue_liver_macro_PCA_Large.png')"
   ]
  },
  {
   "cell_type": "code",
   "execution_count": null,
   "id": "1bbb2f05-a024-44aa-bb21-8f989e57ff97",
   "metadata": {},
   "outputs": [],
   "source": [
    "# Supplementary figure 5C bottom\n",
    "S_TAM_genes = [x.strip() for x in open('.../figures/S_TAM_genes.txt')]   #359 genes\n",
    "\n",
    "gene_ids = subset_tissue_liver_macro_PCA_Small.var.index.values\n",
    "clusters = subset_tissue_liver_macro_PCA_Small.obs['Myeloid_site_short']\n",
    "obs = subset_tissue_liver_macro_PCA_Small[:,gene_ids].X.toarray()\n",
    "obs = pd.DataFrame(obs, columns = gene_ids, index = clusters)\n",
    "average_obs = obs.groupby(level = 0).mean()\n",
    "average_obs = average_obs\n",
    "\n",
    "subset_tissue_liver_macro_PCA_Small = sc.AnnData(average_obs)\n",
    "\n",
    "sc.tl.pca(subset_tissue_liver_macro_PCA_Small, svd_solver = 'arpack', use_highly_variable = False, n_comps = 3)\n",
    "subset_tissue_liver_macro_PCA_Small.obs['Myeloid_site_short'] = subset_tissue_liver_macro_PCA_Small.obs_names\n",
    "\n",
    "sc.pl.pca(subset_tissue_liver_macro_PCA_Small, color = 'Myeloid_site_short', palette = colors,\n",
    "          components = 'all', projection = '3d', \n",
    "          frameon = False,  legend_loc = 'right margin',\n",
    "          save = '.../figures/PCA subset_tissue_liver_macro_PCA_Small.png')"
   ]
  },
  {
   "cell_type": "code",
   "execution_count": null,
   "id": "60c3a298-51d0-4ff6-8d30-b27f657cb1c0",
   "metadata": {},
   "outputs": [],
   "source": [
    "# Supplementary figure 5D input data\n",
    "df_loadings_Large = pd.DataFrame(subset_tissue_liver_macro_PCA_Large.varm['PCs'], index = subset_tissue_liver_macro_PCA_Large.var_names)\n",
    "df_loadings_Small = pd.DataFrame(subset_tissue_liver_macro_PCA_Small.varm['PCs'], index = subset_tissue_liver_macro_PCA_Small.var_names)\n",
    "\n",
    "df_loadings_Large[0].sort_values().to_csv('.../figures/L-TAMs – subset_tissue_liver_macro_PCA_Large PCA loadings.csv')\n",
    "df_loadings_Small[0].sort_values().to_csv('.../figures/S-TAMs – subset_tissue_liver_macro_PCA_Small PCA loadings.csv')"
   ]
  },
  {
   "cell_type": "code",
   "execution_count": null,
   "id": "44dd17e2-cb60-43b9-b038-e46cf418fb06",
   "metadata": {},
   "outputs": [],
   "source": [
    "# Supplementary figure 5D\n",
    "PC1_20_Large = ['C1QA', 'C1QC', 'C1QB', 'FCGR3A', 'FMNL2', 'PDK4', 'PLTP', 'SELENOP', 'LGMN', 'VSIG4', 'LIPA', 'APOE', 'SLCO2B1', 'FRMD4A', 'SLC40A1', 'APOC1', 'SPATS2L', 'FOLR2', 'FCHO2', 'FRMD4B']\n",
    "PC1_20_Small = ['S100A8', 'S100A9', 'VCAN', 'FCN1', 'THBS1', 'S100A6', 'SLC11A1', 'ANPEP', 'AQP9', 'S100A4', 'LYZ', 'EREG', 'MAP4K4', 'S100A12', 'TSPO', 'SLC25A37', 'PLCB1', 'CD52', 'CD300E', 'APOBEC3A']\n",
    "\n",
    "sc.tl.score_genes(subset_tissue_liver_macro, PC1_20_Large, ctrl_size = 50, gene_pool = None, n_bins = 25, score_name = 'L_TAM_Score_Top20', random_state = 0, copy = False)\n",
    "sc.tl.score_genes(subset_tissue_liver_macro, PC1_20_Small, ctrl_size = 50, gene_pool = None, n_bins = 25, score_name = 'S_TAM_Score_Top20', random_state = 0, copy = False)\n",
    "\n",
    "PC1_genes = ['C1QA', 'C1QC', 'C1QB', 'FCGR3A', 'FMNL2', 'PDK4', 'PLTP', 'SELENOP', 'LGMN', 'VSIG4', 'LIPA', 'APOE', 'SLCO2B1', 'FRMD4A', 'SLC40A1', 'APOC1', 'SPATS2L', 'FOLR2', 'FCHO2', 'FRMD4B',\n",
    "             'S100A8', 'S100A9', 'VCAN', 'FCN1', 'THBS1', 'S100A6', 'SLC11A1', 'ANPEP', 'AQP9', 'S100A4', 'LYZ', 'EREG', 'MAP4K4', 'S100A12', 'TSPO', 'SLC25A37', 'PLCB1', 'CD52', 'CD300E', 'APOBEC3A']\n",
    "\n",
    "order = ['L3', 'L8', 'L4', 'L6', 'L0', 'L1', 'L2', 'L5', 'L7']  \n",
    "\n",
    "sc.pl.matrixplot(subset_tissue_liver_macro, PC1_genes, 'Myeloid_site_short',\n",
    "                 standard_scale = 'var',  cmap = 'Reds',\n",
    "                 swap_axes = True, categories_order = order,\n",
    "                 save = 'PC1_genes Small and Large – Liver Macrophages.png')\n",
    "\n",
    "sc.pl.matrixplot(subset_tissue_liver_macro, ['L_TAM_Score_Top20', 'S_TAM_Score_Top20'], 'Myeloid_site_short',\n",
    "                 standard_scale = 'var',  cmap = 'Reds',\n",
    "                 swap_axes = True, categories_order = order,\n",
    "                 save = 'PC1_genes_scores Small and Large – Liver Macrophages.png')"
   ]
  },
  {
   "cell_type": "markdown",
   "id": "353433be-75bc-400a-b602-5c1ed4c7037d",
   "metadata": {},
   "source": [
    "### Cell cycle proliferation"
   ]
  },
  {
   "cell_type": "code",
   "execution_count": null,
   "id": "de6f1264-f9da-48be-8fcd-cad8191e0e28",
   "metadata": {},
   "outputs": [],
   "source": [
    "S_L_TAM = subset_tissue_liver_macro[subset_tissue_liver_macro.obs['Myeloid_site_short'].isin(['L2', 'L5', 'L7', 'L3', 'L8'])].copy()\n",
    "S_L_TAM.obs['S_L_TAM'] = S_L_TAM.obs['Myeloid_site_short'].map({\n",
    "    'L2': 'LTAM',\n",
    "    'L5': 'LTAM',\n",
    "    'L7': 'LTAM',\n",
    "    'L3': 'STAM',\n",
    "    'L8': 'STAM'})\n",
    "\n",
    "top10_SphaseG2Mphase = ['NASP', 'SLBP', 'MCM5', 'STMN1', 'H2AFZ', 'RPA2', 'PCNA', 'USP1', 'ATAD2', 'RFC2', 'CKS2', 'HMGB2', 'HIST1H4C', 'STMN1', 'ERO1B', 'SMC4', 'HMGN2', 'IER2', 'NUSAP1', 'TUBB']\n",
    "sc.tl.score_genes(S_L_TAM, top10_SphaseG2Mphase, ctrl_size = 50, gene_pool = None, n_bins = 25, score_name = 'top10_SphaseG2Mphase_Score', random_state = 0, copy = False)\n",
    "\n",
    "Score = S_L_TAM.obs[['S_L_TAM', 'top10_SphaseG2Mphase_Score']]\n",
    "Score.to_excel('.../figures/S_L_TAMs – Module score values top10_SphaseG2Mphase.xlsx', index = True)"
   ]
  },
  {
   "cell_type": "code",
   "execution_count": null,
   "id": "445dd79a-8a15-4ca7-a5ca-ebbcb3db6937",
   "metadata": {},
   "outputs": [],
   "source": []
  },
  {
   "cell_type": "code",
   "execution_count": null,
   "id": "33cfbc24-21d0-4160-a586-c65d7c4b12c3",
   "metadata": {},
   "outputs": [],
   "source": []
  },
  {
   "cell_type": "code",
   "execution_count": null,
   "id": "e8d93ea3-aafb-43ee-9227-14bd9305038a",
   "metadata": {},
   "outputs": [],
   "source": []
  },
  {
   "cell_type": "code",
   "execution_count": null,
   "id": "252bd276-5f85-43af-b141-5bb878044c28",
   "metadata": {},
   "outputs": [],
   "source": []
  },
  {
   "cell_type": "code",
   "execution_count": null,
   "id": "33eb4b80-72e5-425a-aff9-1f2555d9739c",
   "metadata": {},
   "outputs": [],
   "source": []
  },
  {
   "cell_type": "code",
   "execution_count": null,
   "id": "a57af708-2445-40f4-85a0-b27bdb814433",
   "metadata": {},
   "outputs": [],
   "source": []
  },
  {
   "cell_type": "code",
   "execution_count": null,
   "id": "5234875a-0db9-4b2b-833d-05a04daf8858",
   "metadata": {},
   "outputs": [],
   "source": []
  },
  {
   "cell_type": "code",
   "execution_count": null,
   "id": "0a499f0e-2097-4f61-9b02-f5b91b1a0c91",
   "metadata": {},
   "outputs": [],
   "source": []
  },
  {
   "cell_type": "code",
   "execution_count": null,
   "id": "208c1b0b-af2f-4bd0-b613-a9cbd0415b5f",
   "metadata": {},
   "outputs": [],
   "source": []
  },
  {
   "cell_type": "code",
   "execution_count": null,
   "id": "9fc93b05-c442-42ad-8058-327c53db204d",
   "metadata": {},
   "outputs": [],
   "source": []
  }
 ],
 "metadata": {
  "kernelspec": {
   "display_name": "Python 3 (ipykernel)",
   "language": "python",
   "name": "python3"
  },
  "language_info": {
   "codemirror_mode": {
    "name": "ipython",
    "version": 3
   },
   "file_extension": ".py",
   "mimetype": "text/x-python",
   "name": "python",
   "nbconvert_exporter": "python",
   "pygments_lexer": "ipython3",
   "version": "3.9.6"
  }
 },
 "nbformat": 4,
 "nbformat_minor": 5
}
